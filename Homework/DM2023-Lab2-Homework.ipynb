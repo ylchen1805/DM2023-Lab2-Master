{
 "cells": [
  {
   "cell_type": "markdown",
   "metadata": {},
   "source": [
    "### Student Information\n",
    "Name:陳鈺倫\n",
    "\n",
    "Student ID: 109020020\n",
    "\n",
    "GitHub ID: ylchen1805\n",
    "\n",
    "Kaggle name: My computer is sweating\n",
    "\n",
    "Kaggle private scoreboard snapshot:\n",
    "\n",
    "![Snapshot](img/pic0.png)"
   ]
  },
  {
   "cell_type": "markdown",
   "metadata": {},
   "source": [
    "---"
   ]
  },
  {
   "cell_type": "markdown",
   "metadata": {},
   "source": [
    "### Instructions"
   ]
  },
  {
   "cell_type": "markdown",
   "metadata": {},
   "source": [
    "1. First: __This part is worth 30% of your grade.__ Do the **take home** exercises in the DM2023-Lab2-master. You may need to copy some cells from the Lab notebook to this notebook. \n",
    "\n",
    "\n",
    "2. Second: __This part is worth 30% of your grade.__ Participate in the in-class [Kaggle Competition](https://www.kaggle.com/t/09b1d0f3f8584d06848252277cb535f2) regarding Emotion Recognition on Twitter by this link https://www.kaggle.com/t/09b1d0f3f8584d06848252277cb535f2. The scoring will be given according to your place in the Private Leaderboard ranking: \n",
    "    - **Bottom 40%**: Get 20% of the 30% available for this section.\n",
    "\n",
    "    - **Top 41% - 100%**: Get (60-x)/6 + 20 points, where x is your ranking in the leaderboard (ie. If you rank 3rd your score will be (60-3)/6 + 20 = 29.5% out of 30%)   \n",
    "    Submit your last submission __BEFORE the deadline (Dec. 27th 11:59 pm, Wednesday)_. Make sure to take a screenshot of your position at the end of the competition and store it as '''pic0.png''' under the **img** folder of this repository and rerun the cell **Student Information**.\n",
    "    \n",
    "\n",
    "3. Third: __This part is worth 30% of your grade.__ A report of your work developping the model for the competition (You can use code and comment it). This report should include what your preprocessing steps, the feature engineering steps and an explanation of your model. You can also mention different things you tried and insights you gained. \n",
    "\n",
    "\n",
    "4. Fourth: __This part is worth 10% of your grade.__ It's hard for us to follow if your code is messy :'(, so please **tidy up your notebook** and **add minimal comments where needed**.\n",
    "\n",
    "\n",
    "Upload your files to your repository then submit the link to it on the corresponding e-learn assignment.\n",
    "\n",
    "Make sure to commit and save your changes to your repository __BEFORE the deadline (Dec. 31th 11:59 pm, Sunday)__. "
   ]
  },
  {
   "cell_type": "markdown",
   "metadata": {},
   "source": [
    "### First Part"
   ]
  },
  {
   "cell_type": "markdown",
   "metadata": {},
   "source": [
    "#### Preparation"
   ]
  },
  {
   "cell_type": "code",
   "execution_count": 1,
   "metadata": {},
   "outputs": [],
   "source": [
    "import pandas as pd\n",
    "\n",
    "### training data\n",
    "anger_train = pd.read_csv(\"data/semeval/train/anger-ratings-0to1.train.txt\",\n",
    "                         sep=\"\\t\", header=None,names=[\"id\", \"text\", \"emotion\", \"intensity\"])\n",
    "sadness_train = pd.read_csv(\"data/semeval/train/sadness-ratings-0to1.train.txt\",\n",
    "                         sep=\"\\t\", header=None, names=[\"id\", \"text\", \"emotion\", \"intensity\"])\n",
    "fear_train = pd.read_csv(\"data/semeval/train/fear-ratings-0to1.train.txt\",\n",
    "                         sep=\"\\t\", header=None, names=[\"id\", \"text\", \"emotion\", \"intensity\"])\n",
    "joy_train = pd.read_csv(\"data/semeval/train/joy-ratings-0to1.train.txt\",\n",
    "                         sep=\"\\t\", header=None, names=[\"id\", \"text\", \"emotion\", \"intensity\"])\n",
    "# combine 4 sub-dataset\n",
    "train_df = pd.concat([anger_train, fear_train, joy_train, sadness_train], ignore_index=True)\n",
    "### testing data\n",
    "anger_test = pd.read_csv(\"data/semeval/dev/anger-ratings-0to1.dev.gold.txt\",\n",
    "                         sep=\"\\t\", header=None, names=[\"id\", \"text\", \"emotion\", \"intensity\"])\n",
    "sadness_test = pd.read_csv(\"data/semeval/dev/sadness-ratings-0to1.dev.gold.txt\",\n",
    "                         sep=\"\\t\", header=None, names=[\"id\", \"text\", \"emotion\", \"intensity\"])\n",
    "fear_test = pd.read_csv(\"data/semeval/dev/fear-ratings-0to1.dev.gold.txt\",\n",
    "                         sep=\"\\t\", header=None, names=[\"id\", \"text\", \"emotion\", \"intensity\"])\n",
    "joy_test = pd.read_csv(\"data/semeval/dev/joy-ratings-0to1.dev.gold.txt\",\n",
    "                         sep=\"\\t\", header=None, names=[\"id\", \"text\", \"emotion\", \"intensity\"])\n",
    "\n",
    "# combine 4 sub-dataset\n",
    "test_df = pd.concat([anger_test, fear_test, joy_test, sadness_test], ignore_index=True)\n",
    "# train_df.head()"
   ]
  },
  {
   "cell_type": "markdown",
   "metadata": {},
   "source": [
    "#### Exercise 1\n",
    "Plot word frequency for Top 30 words in both train and test dataset. (Hint: refer to DM lab 1)\n"
   ]
  },
  {
   "cell_type": "code",
   "execution_count": 2,
   "metadata": {},
   "outputs": [
    {
     "data": {
      "application/vnd.plotly.v1+json": {
       "config": {
        "plotlyServerURL": "https://plot.ly"
       },
       "data": [
        {
         "alignmentgroup": "True",
         "hovertemplate": "Terms=%{x}<br>Frequencies=%{y}<extra></extra>",
         "legendgroup": "",
         "marker": {
          "color": "#636efa",
          "pattern": {
           "shape": ""
          }
         },
         "name": "",
         "offsetgroup": "",
         "orientation": "v",
         "showlegend": false,
         "textposition": "auto",
         "type": "bar",
         "x": [
          "the",
          "to",
          "and",
          "you",
          "of",
          "is",
          "it",
          "in",
          "that",
          "my",
          "for",
          "on",
          "be",
          "me",
          "this",
          "so",
          "have",
          "not",
          "just",
          "but",
          "with",
          "at",
          "can",
          "all",
          "like",
          "are",
          "your",
          "was",
          "when",
          "if"
         ],
         "xaxis": "x",
         "y": [
          1736,
          1289,
          955,
          796,
          793,
          787,
          717,
          626,
          537,
          535,
          446,
          390,
          383,
          380,
          350,
          328,
          312,
          303,
          301,
          293,
          288,
          269,
          257,
          243,
          243,
          231,
          229,
          228,
          226,
          216
         ],
         "yaxis": "y"
        }
       ],
       "layout": {
        "barmode": "relative",
        "legend": {
         "tracegroupgap": 0
        },
        "template": {
         "data": {
          "bar": [
           {
            "error_x": {
             "color": "#2a3f5f"
            },
            "error_y": {
             "color": "#2a3f5f"
            },
            "marker": {
             "line": {
              "color": "#E5ECF6",
              "width": 0.5
             },
             "pattern": {
              "fillmode": "overlay",
              "size": 10,
              "solidity": 0.2
             }
            },
            "type": "bar"
           }
          ],
          "barpolar": [
           {
            "marker": {
             "line": {
              "color": "#E5ECF6",
              "width": 0.5
             },
             "pattern": {
              "fillmode": "overlay",
              "size": 10,
              "solidity": 0.2
             }
            },
            "type": "barpolar"
           }
          ],
          "carpet": [
           {
            "aaxis": {
             "endlinecolor": "#2a3f5f",
             "gridcolor": "white",
             "linecolor": "white",
             "minorgridcolor": "white",
             "startlinecolor": "#2a3f5f"
            },
            "baxis": {
             "endlinecolor": "#2a3f5f",
             "gridcolor": "white",
             "linecolor": "white",
             "minorgridcolor": "white",
             "startlinecolor": "#2a3f5f"
            },
            "type": "carpet"
           }
          ],
          "choropleth": [
           {
            "colorbar": {
             "outlinewidth": 0,
             "ticks": ""
            },
            "type": "choropleth"
           }
          ],
          "contour": [
           {
            "colorbar": {
             "outlinewidth": 0,
             "ticks": ""
            },
            "colorscale": [
             [
              0,
              "#0d0887"
             ],
             [
              0.1111111111111111,
              "#46039f"
             ],
             [
              0.2222222222222222,
              "#7201a8"
             ],
             [
              0.3333333333333333,
              "#9c179e"
             ],
             [
              0.4444444444444444,
              "#bd3786"
             ],
             [
              0.5555555555555556,
              "#d8576b"
             ],
             [
              0.6666666666666666,
              "#ed7953"
             ],
             [
              0.7777777777777778,
              "#fb9f3a"
             ],
             [
              0.8888888888888888,
              "#fdca26"
             ],
             [
              1,
              "#f0f921"
             ]
            ],
            "type": "contour"
           }
          ],
          "contourcarpet": [
           {
            "colorbar": {
             "outlinewidth": 0,
             "ticks": ""
            },
            "type": "contourcarpet"
           }
          ],
          "heatmap": [
           {
            "colorbar": {
             "outlinewidth": 0,
             "ticks": ""
            },
            "colorscale": [
             [
              0,
              "#0d0887"
             ],
             [
              0.1111111111111111,
              "#46039f"
             ],
             [
              0.2222222222222222,
              "#7201a8"
             ],
             [
              0.3333333333333333,
              "#9c179e"
             ],
             [
              0.4444444444444444,
              "#bd3786"
             ],
             [
              0.5555555555555556,
              "#d8576b"
             ],
             [
              0.6666666666666666,
              "#ed7953"
             ],
             [
              0.7777777777777778,
              "#fb9f3a"
             ],
             [
              0.8888888888888888,
              "#fdca26"
             ],
             [
              1,
              "#f0f921"
             ]
            ],
            "type": "heatmap"
           }
          ],
          "heatmapgl": [
           {
            "colorbar": {
             "outlinewidth": 0,
             "ticks": ""
            },
            "colorscale": [
             [
              0,
              "#0d0887"
             ],
             [
              0.1111111111111111,
              "#46039f"
             ],
             [
              0.2222222222222222,
              "#7201a8"
             ],
             [
              0.3333333333333333,
              "#9c179e"
             ],
             [
              0.4444444444444444,
              "#bd3786"
             ],
             [
              0.5555555555555556,
              "#d8576b"
             ],
             [
              0.6666666666666666,
              "#ed7953"
             ],
             [
              0.7777777777777778,
              "#fb9f3a"
             ],
             [
              0.8888888888888888,
              "#fdca26"
             ],
             [
              1,
              "#f0f921"
             ]
            ],
            "type": "heatmapgl"
           }
          ],
          "histogram": [
           {
            "marker": {
             "pattern": {
              "fillmode": "overlay",
              "size": 10,
              "solidity": 0.2
             }
            },
            "type": "histogram"
           }
          ],
          "histogram2d": [
           {
            "colorbar": {
             "outlinewidth": 0,
             "ticks": ""
            },
            "colorscale": [
             [
              0,
              "#0d0887"
             ],
             [
              0.1111111111111111,
              "#46039f"
             ],
             [
              0.2222222222222222,
              "#7201a8"
             ],
             [
              0.3333333333333333,
              "#9c179e"
             ],
             [
              0.4444444444444444,
              "#bd3786"
             ],
             [
              0.5555555555555556,
              "#d8576b"
             ],
             [
              0.6666666666666666,
              "#ed7953"
             ],
             [
              0.7777777777777778,
              "#fb9f3a"
             ],
             [
              0.8888888888888888,
              "#fdca26"
             ],
             [
              1,
              "#f0f921"
             ]
            ],
            "type": "histogram2d"
           }
          ],
          "histogram2dcontour": [
           {
            "colorbar": {
             "outlinewidth": 0,
             "ticks": ""
            },
            "colorscale": [
             [
              0,
              "#0d0887"
             ],
             [
              0.1111111111111111,
              "#46039f"
             ],
             [
              0.2222222222222222,
              "#7201a8"
             ],
             [
              0.3333333333333333,
              "#9c179e"
             ],
             [
              0.4444444444444444,
              "#bd3786"
             ],
             [
              0.5555555555555556,
              "#d8576b"
             ],
             [
              0.6666666666666666,
              "#ed7953"
             ],
             [
              0.7777777777777778,
              "#fb9f3a"
             ],
             [
              0.8888888888888888,
              "#fdca26"
             ],
             [
              1,
              "#f0f921"
             ]
            ],
            "type": "histogram2dcontour"
           }
          ],
          "mesh3d": [
           {
            "colorbar": {
             "outlinewidth": 0,
             "ticks": ""
            },
            "type": "mesh3d"
           }
          ],
          "parcoords": [
           {
            "line": {
             "colorbar": {
              "outlinewidth": 0,
              "ticks": ""
             }
            },
            "type": "parcoords"
           }
          ],
          "pie": [
           {
            "automargin": true,
            "type": "pie"
           }
          ],
          "scatter": [
           {
            "fillpattern": {
             "fillmode": "overlay",
             "size": 10,
             "solidity": 0.2
            },
            "type": "scatter"
           }
          ],
          "scatter3d": [
           {
            "line": {
             "colorbar": {
              "outlinewidth": 0,
              "ticks": ""
             }
            },
            "marker": {
             "colorbar": {
              "outlinewidth": 0,
              "ticks": ""
             }
            },
            "type": "scatter3d"
           }
          ],
          "scattercarpet": [
           {
            "marker": {
             "colorbar": {
              "outlinewidth": 0,
              "ticks": ""
             }
            },
            "type": "scattercarpet"
           }
          ],
          "scattergeo": [
           {
            "marker": {
             "colorbar": {
              "outlinewidth": 0,
              "ticks": ""
             }
            },
            "type": "scattergeo"
           }
          ],
          "scattergl": [
           {
            "marker": {
             "colorbar": {
              "outlinewidth": 0,
              "ticks": ""
             }
            },
            "type": "scattergl"
           }
          ],
          "scattermapbox": [
           {
            "marker": {
             "colorbar": {
              "outlinewidth": 0,
              "ticks": ""
             }
            },
            "type": "scattermapbox"
           }
          ],
          "scatterpolar": [
           {
            "marker": {
             "colorbar": {
              "outlinewidth": 0,
              "ticks": ""
             }
            },
            "type": "scatterpolar"
           }
          ],
          "scatterpolargl": [
           {
            "marker": {
             "colorbar": {
              "outlinewidth": 0,
              "ticks": ""
             }
            },
            "type": "scatterpolargl"
           }
          ],
          "scatterternary": [
           {
            "marker": {
             "colorbar": {
              "outlinewidth": 0,
              "ticks": ""
             }
            },
            "type": "scatterternary"
           }
          ],
          "surface": [
           {
            "colorbar": {
             "outlinewidth": 0,
             "ticks": ""
            },
            "colorscale": [
             [
              0,
              "#0d0887"
             ],
             [
              0.1111111111111111,
              "#46039f"
             ],
             [
              0.2222222222222222,
              "#7201a8"
             ],
             [
              0.3333333333333333,
              "#9c179e"
             ],
             [
              0.4444444444444444,
              "#bd3786"
             ],
             [
              0.5555555555555556,
              "#d8576b"
             ],
             [
              0.6666666666666666,
              "#ed7953"
             ],
             [
              0.7777777777777778,
              "#fb9f3a"
             ],
             [
              0.8888888888888888,
              "#fdca26"
             ],
             [
              1,
              "#f0f921"
             ]
            ],
            "type": "surface"
           }
          ],
          "table": [
           {
            "cells": {
             "fill": {
              "color": "#EBF0F8"
             },
             "line": {
              "color": "white"
             }
            },
            "header": {
             "fill": {
              "color": "#C8D4E3"
             },
             "line": {
              "color": "white"
             }
            },
            "type": "table"
           }
          ]
         },
         "layout": {
          "annotationdefaults": {
           "arrowcolor": "#2a3f5f",
           "arrowhead": 0,
           "arrowwidth": 1
          },
          "autotypenumbers": "strict",
          "coloraxis": {
           "colorbar": {
            "outlinewidth": 0,
            "ticks": ""
           }
          },
          "colorscale": {
           "diverging": [
            [
             0,
             "#8e0152"
            ],
            [
             0.1,
             "#c51b7d"
            ],
            [
             0.2,
             "#de77ae"
            ],
            [
             0.3,
             "#f1b6da"
            ],
            [
             0.4,
             "#fde0ef"
            ],
            [
             0.5,
             "#f7f7f7"
            ],
            [
             0.6,
             "#e6f5d0"
            ],
            [
             0.7,
             "#b8e186"
            ],
            [
             0.8,
             "#7fbc41"
            ],
            [
             0.9,
             "#4d9221"
            ],
            [
             1,
             "#276419"
            ]
           ],
           "sequential": [
            [
             0,
             "#0d0887"
            ],
            [
             0.1111111111111111,
             "#46039f"
            ],
            [
             0.2222222222222222,
             "#7201a8"
            ],
            [
             0.3333333333333333,
             "#9c179e"
            ],
            [
             0.4444444444444444,
             "#bd3786"
            ],
            [
             0.5555555555555556,
             "#d8576b"
            ],
            [
             0.6666666666666666,
             "#ed7953"
            ],
            [
             0.7777777777777778,
             "#fb9f3a"
            ],
            [
             0.8888888888888888,
             "#fdca26"
            ],
            [
             1,
             "#f0f921"
            ]
           ],
           "sequentialminus": [
            [
             0,
             "#0d0887"
            ],
            [
             0.1111111111111111,
             "#46039f"
            ],
            [
             0.2222222222222222,
             "#7201a8"
            ],
            [
             0.3333333333333333,
             "#9c179e"
            ],
            [
             0.4444444444444444,
             "#bd3786"
            ],
            [
             0.5555555555555556,
             "#d8576b"
            ],
            [
             0.6666666666666666,
             "#ed7953"
            ],
            [
             0.7777777777777778,
             "#fb9f3a"
            ],
            [
             0.8888888888888888,
             "#fdca26"
            ],
            [
             1,
             "#f0f921"
            ]
           ]
          },
          "colorway": [
           "#636efa",
           "#EF553B",
           "#00cc96",
           "#ab63fa",
           "#FFA15A",
           "#19d3f3",
           "#FF6692",
           "#B6E880",
           "#FF97FF",
           "#FECB52"
          ],
          "font": {
           "color": "#2a3f5f"
          },
          "geo": {
           "bgcolor": "white",
           "lakecolor": "white",
           "landcolor": "#E5ECF6",
           "showlakes": true,
           "showland": true,
           "subunitcolor": "white"
          },
          "hoverlabel": {
           "align": "left"
          },
          "hovermode": "closest",
          "mapbox": {
           "style": "light"
          },
          "paper_bgcolor": "white",
          "plot_bgcolor": "#E5ECF6",
          "polar": {
           "angularaxis": {
            "gridcolor": "white",
            "linecolor": "white",
            "ticks": ""
           },
           "bgcolor": "#E5ECF6",
           "radialaxis": {
            "gridcolor": "white",
            "linecolor": "white",
            "ticks": ""
           }
          },
          "scene": {
           "xaxis": {
            "backgroundcolor": "#E5ECF6",
            "gridcolor": "white",
            "gridwidth": 2,
            "linecolor": "white",
            "showbackground": true,
            "ticks": "",
            "zerolinecolor": "white"
           },
           "yaxis": {
            "backgroundcolor": "#E5ECF6",
            "gridcolor": "white",
            "gridwidth": 2,
            "linecolor": "white",
            "showbackground": true,
            "ticks": "",
            "zerolinecolor": "white"
           },
           "zaxis": {
            "backgroundcolor": "#E5ECF6",
            "gridcolor": "white",
            "gridwidth": 2,
            "linecolor": "white",
            "showbackground": true,
            "ticks": "",
            "zerolinecolor": "white"
           }
          },
          "shapedefaults": {
           "line": {
            "color": "#2a3f5f"
           }
          },
          "ternary": {
           "aaxis": {
            "gridcolor": "white",
            "linecolor": "white",
            "ticks": ""
           },
           "baxis": {
            "gridcolor": "white",
            "linecolor": "white",
            "ticks": ""
           },
           "bgcolor": "#E5ECF6",
           "caxis": {
            "gridcolor": "white",
            "linecolor": "white",
            "ticks": ""
           }
          },
          "title": {
           "x": 0.05
          },
          "xaxis": {
           "automargin": true,
           "gridcolor": "white",
           "linecolor": "white",
           "ticks": "",
           "title": {
            "standoff": 15
           },
           "zerolinecolor": "white",
           "zerolinewidth": 2
          },
          "yaxis": {
           "automargin": true,
           "gridcolor": "white",
           "linecolor": "white",
           "ticks": "",
           "title": {
            "standoff": 15
           },
           "zerolinecolor": "white",
           "zerolinewidth": 2
          }
         }
        },
        "title": {
         "text": "TOP30 Word Frequencies in Training data"
        },
        "xaxis": {
         "anchor": "y",
         "domain": [
          0,
          1
         ],
         "title": {
          "text": "Terms"
         }
        },
        "yaxis": {
         "anchor": "x",
         "domain": [
          0,
          1
         ],
         "title": {
          "text": "Frequencies"
         }
        }
       }
      }
     },
     "metadata": {},
     "output_type": "display_data"
    }
   ],
   "source": [
    "from sklearn.feature_extraction.text import CountVectorizer\n",
    "\n",
    "count_vect = CountVectorizer()\n",
    "train_counts = count_vect.fit_transform(train_df.text).sum(axis=0)\n",
    "temp = pd.DataFrame({\"Frequency\":train_counts.tolist()[0],\n",
    "                     \"Term\":count_vect.get_feature_names_out()}).sort_values(by=\"Frequency\",ascending=False)\n",
    "\n",
    "# sort\n",
    "import plotly.express as px\n",
    "fig = px.bar(temp[:30], \n",
    "             x=temp[\"Term\"][:30], \n",
    "             y=temp[\"Frequency\"][:30], \n",
    "             title  = \"TOP30 Word Frequencies in Training data\", \n",
    "             labels = {'x':'Terms', 'y':'Frequencies'})\n",
    "\n",
    "fig.show()"
   ]
  },
  {
   "cell_type": "code",
   "execution_count": 3,
   "metadata": {},
   "outputs": [
    {
     "data": {
      "application/vnd.plotly.v1+json": {
       "config": {
        "plotlyServerURL": "https://plot.ly"
       },
       "data": [
        {
         "alignmentgroup": "True",
         "hovertemplate": "Terms=%{x}<br>Frequencies=%{y}<extra></extra>",
         "legendgroup": "",
         "marker": {
          "color": "#636efa",
          "pattern": {
           "shape": ""
          }
         },
         "name": "",
         "offsetgroup": "",
         "orientation": "v",
         "showlegend": false,
         "textposition": "auto",
         "type": "bar",
         "x": [
          "the",
          "to",
          "and",
          "of",
          "it",
          "you",
          "is",
          "in",
          "for",
          "that",
          "my",
          "on",
          "be",
          "me",
          "so",
          "was",
          "can",
          "have",
          "all",
          "at",
          "just",
          "with",
          "are",
          "get",
          "but",
          "not",
          "up",
          "like",
          "your",
          "this"
         ],
         "xaxis": "x",
         "y": [
          153,
          138,
          92,
          83,
          83,
          82,
          77,
          69,
          57,
          55,
          52,
          46,
          40,
          36,
          34,
          34,
          32,
          30,
          30,
          30,
          29,
          29,
          29,
          26,
          26,
          24,
          24,
          24,
          24,
          24
         ],
         "yaxis": "y"
        }
       ],
       "layout": {
        "barmode": "relative",
        "legend": {
         "tracegroupgap": 0
        },
        "template": {
         "data": {
          "bar": [
           {
            "error_x": {
             "color": "#2a3f5f"
            },
            "error_y": {
             "color": "#2a3f5f"
            },
            "marker": {
             "line": {
              "color": "#E5ECF6",
              "width": 0.5
             },
             "pattern": {
              "fillmode": "overlay",
              "size": 10,
              "solidity": 0.2
             }
            },
            "type": "bar"
           }
          ],
          "barpolar": [
           {
            "marker": {
             "line": {
              "color": "#E5ECF6",
              "width": 0.5
             },
             "pattern": {
              "fillmode": "overlay",
              "size": 10,
              "solidity": 0.2
             }
            },
            "type": "barpolar"
           }
          ],
          "carpet": [
           {
            "aaxis": {
             "endlinecolor": "#2a3f5f",
             "gridcolor": "white",
             "linecolor": "white",
             "minorgridcolor": "white",
             "startlinecolor": "#2a3f5f"
            },
            "baxis": {
             "endlinecolor": "#2a3f5f",
             "gridcolor": "white",
             "linecolor": "white",
             "minorgridcolor": "white",
             "startlinecolor": "#2a3f5f"
            },
            "type": "carpet"
           }
          ],
          "choropleth": [
           {
            "colorbar": {
             "outlinewidth": 0,
             "ticks": ""
            },
            "type": "choropleth"
           }
          ],
          "contour": [
           {
            "colorbar": {
             "outlinewidth": 0,
             "ticks": ""
            },
            "colorscale": [
             [
              0,
              "#0d0887"
             ],
             [
              0.1111111111111111,
              "#46039f"
             ],
             [
              0.2222222222222222,
              "#7201a8"
             ],
             [
              0.3333333333333333,
              "#9c179e"
             ],
             [
              0.4444444444444444,
              "#bd3786"
             ],
             [
              0.5555555555555556,
              "#d8576b"
             ],
             [
              0.6666666666666666,
              "#ed7953"
             ],
             [
              0.7777777777777778,
              "#fb9f3a"
             ],
             [
              0.8888888888888888,
              "#fdca26"
             ],
             [
              1,
              "#f0f921"
             ]
            ],
            "type": "contour"
           }
          ],
          "contourcarpet": [
           {
            "colorbar": {
             "outlinewidth": 0,
             "ticks": ""
            },
            "type": "contourcarpet"
           }
          ],
          "heatmap": [
           {
            "colorbar": {
             "outlinewidth": 0,
             "ticks": ""
            },
            "colorscale": [
             [
              0,
              "#0d0887"
             ],
             [
              0.1111111111111111,
              "#46039f"
             ],
             [
              0.2222222222222222,
              "#7201a8"
             ],
             [
              0.3333333333333333,
              "#9c179e"
             ],
             [
              0.4444444444444444,
              "#bd3786"
             ],
             [
              0.5555555555555556,
              "#d8576b"
             ],
             [
              0.6666666666666666,
              "#ed7953"
             ],
             [
              0.7777777777777778,
              "#fb9f3a"
             ],
             [
              0.8888888888888888,
              "#fdca26"
             ],
             [
              1,
              "#f0f921"
             ]
            ],
            "type": "heatmap"
           }
          ],
          "heatmapgl": [
           {
            "colorbar": {
             "outlinewidth": 0,
             "ticks": ""
            },
            "colorscale": [
             [
              0,
              "#0d0887"
             ],
             [
              0.1111111111111111,
              "#46039f"
             ],
             [
              0.2222222222222222,
              "#7201a8"
             ],
             [
              0.3333333333333333,
              "#9c179e"
             ],
             [
              0.4444444444444444,
              "#bd3786"
             ],
             [
              0.5555555555555556,
              "#d8576b"
             ],
             [
              0.6666666666666666,
              "#ed7953"
             ],
             [
              0.7777777777777778,
              "#fb9f3a"
             ],
             [
              0.8888888888888888,
              "#fdca26"
             ],
             [
              1,
              "#f0f921"
             ]
            ],
            "type": "heatmapgl"
           }
          ],
          "histogram": [
           {
            "marker": {
             "pattern": {
              "fillmode": "overlay",
              "size": 10,
              "solidity": 0.2
             }
            },
            "type": "histogram"
           }
          ],
          "histogram2d": [
           {
            "colorbar": {
             "outlinewidth": 0,
             "ticks": ""
            },
            "colorscale": [
             [
              0,
              "#0d0887"
             ],
             [
              0.1111111111111111,
              "#46039f"
             ],
             [
              0.2222222222222222,
              "#7201a8"
             ],
             [
              0.3333333333333333,
              "#9c179e"
             ],
             [
              0.4444444444444444,
              "#bd3786"
             ],
             [
              0.5555555555555556,
              "#d8576b"
             ],
             [
              0.6666666666666666,
              "#ed7953"
             ],
             [
              0.7777777777777778,
              "#fb9f3a"
             ],
             [
              0.8888888888888888,
              "#fdca26"
             ],
             [
              1,
              "#f0f921"
             ]
            ],
            "type": "histogram2d"
           }
          ],
          "histogram2dcontour": [
           {
            "colorbar": {
             "outlinewidth": 0,
             "ticks": ""
            },
            "colorscale": [
             [
              0,
              "#0d0887"
             ],
             [
              0.1111111111111111,
              "#46039f"
             ],
             [
              0.2222222222222222,
              "#7201a8"
             ],
             [
              0.3333333333333333,
              "#9c179e"
             ],
             [
              0.4444444444444444,
              "#bd3786"
             ],
             [
              0.5555555555555556,
              "#d8576b"
             ],
             [
              0.6666666666666666,
              "#ed7953"
             ],
             [
              0.7777777777777778,
              "#fb9f3a"
             ],
             [
              0.8888888888888888,
              "#fdca26"
             ],
             [
              1,
              "#f0f921"
             ]
            ],
            "type": "histogram2dcontour"
           }
          ],
          "mesh3d": [
           {
            "colorbar": {
             "outlinewidth": 0,
             "ticks": ""
            },
            "type": "mesh3d"
           }
          ],
          "parcoords": [
           {
            "line": {
             "colorbar": {
              "outlinewidth": 0,
              "ticks": ""
             }
            },
            "type": "parcoords"
           }
          ],
          "pie": [
           {
            "automargin": true,
            "type": "pie"
           }
          ],
          "scatter": [
           {
            "fillpattern": {
             "fillmode": "overlay",
             "size": 10,
             "solidity": 0.2
            },
            "type": "scatter"
           }
          ],
          "scatter3d": [
           {
            "line": {
             "colorbar": {
              "outlinewidth": 0,
              "ticks": ""
             }
            },
            "marker": {
             "colorbar": {
              "outlinewidth": 0,
              "ticks": ""
             }
            },
            "type": "scatter3d"
           }
          ],
          "scattercarpet": [
           {
            "marker": {
             "colorbar": {
              "outlinewidth": 0,
              "ticks": ""
             }
            },
            "type": "scattercarpet"
           }
          ],
          "scattergeo": [
           {
            "marker": {
             "colorbar": {
              "outlinewidth": 0,
              "ticks": ""
             }
            },
            "type": "scattergeo"
           }
          ],
          "scattergl": [
           {
            "marker": {
             "colorbar": {
              "outlinewidth": 0,
              "ticks": ""
             }
            },
            "type": "scattergl"
           }
          ],
          "scattermapbox": [
           {
            "marker": {
             "colorbar": {
              "outlinewidth": 0,
              "ticks": ""
             }
            },
            "type": "scattermapbox"
           }
          ],
          "scatterpolar": [
           {
            "marker": {
             "colorbar": {
              "outlinewidth": 0,
              "ticks": ""
             }
            },
            "type": "scatterpolar"
           }
          ],
          "scatterpolargl": [
           {
            "marker": {
             "colorbar": {
              "outlinewidth": 0,
              "ticks": ""
             }
            },
            "type": "scatterpolargl"
           }
          ],
          "scatterternary": [
           {
            "marker": {
             "colorbar": {
              "outlinewidth": 0,
              "ticks": ""
             }
            },
            "type": "scatterternary"
           }
          ],
          "surface": [
           {
            "colorbar": {
             "outlinewidth": 0,
             "ticks": ""
            },
            "colorscale": [
             [
              0,
              "#0d0887"
             ],
             [
              0.1111111111111111,
              "#46039f"
             ],
             [
              0.2222222222222222,
              "#7201a8"
             ],
             [
              0.3333333333333333,
              "#9c179e"
             ],
             [
              0.4444444444444444,
              "#bd3786"
             ],
             [
              0.5555555555555556,
              "#d8576b"
             ],
             [
              0.6666666666666666,
              "#ed7953"
             ],
             [
              0.7777777777777778,
              "#fb9f3a"
             ],
             [
              0.8888888888888888,
              "#fdca26"
             ],
             [
              1,
              "#f0f921"
             ]
            ],
            "type": "surface"
           }
          ],
          "table": [
           {
            "cells": {
             "fill": {
              "color": "#EBF0F8"
             },
             "line": {
              "color": "white"
             }
            },
            "header": {
             "fill": {
              "color": "#C8D4E3"
             },
             "line": {
              "color": "white"
             }
            },
            "type": "table"
           }
          ]
         },
         "layout": {
          "annotationdefaults": {
           "arrowcolor": "#2a3f5f",
           "arrowhead": 0,
           "arrowwidth": 1
          },
          "autotypenumbers": "strict",
          "coloraxis": {
           "colorbar": {
            "outlinewidth": 0,
            "ticks": ""
           }
          },
          "colorscale": {
           "diverging": [
            [
             0,
             "#8e0152"
            ],
            [
             0.1,
             "#c51b7d"
            ],
            [
             0.2,
             "#de77ae"
            ],
            [
             0.3,
             "#f1b6da"
            ],
            [
             0.4,
             "#fde0ef"
            ],
            [
             0.5,
             "#f7f7f7"
            ],
            [
             0.6,
             "#e6f5d0"
            ],
            [
             0.7,
             "#b8e186"
            ],
            [
             0.8,
             "#7fbc41"
            ],
            [
             0.9,
             "#4d9221"
            ],
            [
             1,
             "#276419"
            ]
           ],
           "sequential": [
            [
             0,
             "#0d0887"
            ],
            [
             0.1111111111111111,
             "#46039f"
            ],
            [
             0.2222222222222222,
             "#7201a8"
            ],
            [
             0.3333333333333333,
             "#9c179e"
            ],
            [
             0.4444444444444444,
             "#bd3786"
            ],
            [
             0.5555555555555556,
             "#d8576b"
            ],
            [
             0.6666666666666666,
             "#ed7953"
            ],
            [
             0.7777777777777778,
             "#fb9f3a"
            ],
            [
             0.8888888888888888,
             "#fdca26"
            ],
            [
             1,
             "#f0f921"
            ]
           ],
           "sequentialminus": [
            [
             0,
             "#0d0887"
            ],
            [
             0.1111111111111111,
             "#46039f"
            ],
            [
             0.2222222222222222,
             "#7201a8"
            ],
            [
             0.3333333333333333,
             "#9c179e"
            ],
            [
             0.4444444444444444,
             "#bd3786"
            ],
            [
             0.5555555555555556,
             "#d8576b"
            ],
            [
             0.6666666666666666,
             "#ed7953"
            ],
            [
             0.7777777777777778,
             "#fb9f3a"
            ],
            [
             0.8888888888888888,
             "#fdca26"
            ],
            [
             1,
             "#f0f921"
            ]
           ]
          },
          "colorway": [
           "#636efa",
           "#EF553B",
           "#00cc96",
           "#ab63fa",
           "#FFA15A",
           "#19d3f3",
           "#FF6692",
           "#B6E880",
           "#FF97FF",
           "#FECB52"
          ],
          "font": {
           "color": "#2a3f5f"
          },
          "geo": {
           "bgcolor": "white",
           "lakecolor": "white",
           "landcolor": "#E5ECF6",
           "showlakes": true,
           "showland": true,
           "subunitcolor": "white"
          },
          "hoverlabel": {
           "align": "left"
          },
          "hovermode": "closest",
          "mapbox": {
           "style": "light"
          },
          "paper_bgcolor": "white",
          "plot_bgcolor": "#E5ECF6",
          "polar": {
           "angularaxis": {
            "gridcolor": "white",
            "linecolor": "white",
            "ticks": ""
           },
           "bgcolor": "#E5ECF6",
           "radialaxis": {
            "gridcolor": "white",
            "linecolor": "white",
            "ticks": ""
           }
          },
          "scene": {
           "xaxis": {
            "backgroundcolor": "#E5ECF6",
            "gridcolor": "white",
            "gridwidth": 2,
            "linecolor": "white",
            "showbackground": true,
            "ticks": "",
            "zerolinecolor": "white"
           },
           "yaxis": {
            "backgroundcolor": "#E5ECF6",
            "gridcolor": "white",
            "gridwidth": 2,
            "linecolor": "white",
            "showbackground": true,
            "ticks": "",
            "zerolinecolor": "white"
           },
           "zaxis": {
            "backgroundcolor": "#E5ECF6",
            "gridcolor": "white",
            "gridwidth": 2,
            "linecolor": "white",
            "showbackground": true,
            "ticks": "",
            "zerolinecolor": "white"
           }
          },
          "shapedefaults": {
           "line": {
            "color": "#2a3f5f"
           }
          },
          "ternary": {
           "aaxis": {
            "gridcolor": "white",
            "linecolor": "white",
            "ticks": ""
           },
           "baxis": {
            "gridcolor": "white",
            "linecolor": "white",
            "ticks": ""
           },
           "bgcolor": "#E5ECF6",
           "caxis": {
            "gridcolor": "white",
            "linecolor": "white",
            "ticks": ""
           }
          },
          "title": {
           "x": 0.05
          },
          "xaxis": {
           "automargin": true,
           "gridcolor": "white",
           "linecolor": "white",
           "ticks": "",
           "title": {
            "standoff": 15
           },
           "zerolinecolor": "white",
           "zerolinewidth": 2
          },
          "yaxis": {
           "automargin": true,
           "gridcolor": "white",
           "linecolor": "white",
           "ticks": "",
           "title": {
            "standoff": 15
           },
           "zerolinecolor": "white",
           "zerolinewidth": 2
          }
         }
        },
        "title": {
         "text": "TOP30 Word Frequencies (Test data)"
        },
        "xaxis": {
         "anchor": "y",
         "domain": [
          0,
          1
         ],
         "title": {
          "text": "Terms"
         }
        },
        "yaxis": {
         "anchor": "x",
         "domain": [
          0,
          1
         ],
         "title": {
          "text": "Frequencies"
         }
        }
       }
      }
     },
     "metadata": {},
     "output_type": "display_data"
    }
   ],
   "source": [
    "count_vect = CountVectorizer()\n",
    "test_counts = count_vect.fit_transform(test_df.text).sum(axis=0)\n",
    "temp = pd.DataFrame({\"Frequency\":test_counts.tolist()[0],\n",
    "                     \"Term\":count_vect.get_feature_names_out()}).sort_values(by=\"Frequency\",ascending=False)\n",
    "\n",
    "# sort\n",
    "import plotly.express as px\n",
    "fig = px.bar(temp[:30], x=temp[\"Term\"][:30], y=temp[\"Frequency\"][:30], title  = \"TOP30 Word Frequencies (Test data)\", labels = {'x':'Terms', 'y':'Frequencies'})\n",
    "\n",
    "fig.show()"
   ]
  },
  {
   "cell_type": "markdown",
   "metadata": {},
   "source": [
    "#### Exercise 2\n",
    "Generate an embedding using the TF-IDF vectorizer instead of th BOW one with 1000 features and show the feature names for features [100:110]."
   ]
  },
  {
   "cell_type": "code",
   "execution_count": 4,
   "metadata": {},
   "outputs": [
    {
     "name": "stderr",
     "output_type": "stream",
     "text": [
      "/home/allen/.local/lib/python3.10/site-packages/sklearn/feature_extraction/text.py:525: UserWarning:\n",
      "\n",
      "The parameter 'token_pattern' will not be used since 'tokenizer' is not None'\n",
      "\n"
     ]
    },
    {
     "name": "stdout",
     "output_type": "stream",
     "text": [
      "['awful' 'b' 'baby' 'back' 'bad' 'ball' 'balls' 'bb18' 'bc' 'bday']\n"
     ]
    }
   ],
   "source": [
    "# Answer here\n",
    "from sklearn.feature_extraction.text import TfidfVectorizer\n",
    "import nltk\n",
    "\n",
    "tfidf = TfidfVectorizer(max_features=1000, tokenizer=nltk.word_tokenize)\n",
    "tfidf.fit(train_df['text'])\n",
    "feature_names_1000 = tfidf.get_feature_names_out()\n",
    "print(feature_names_1000[100:110])"
   ]
  },
  {
   "cell_type": "markdown",
   "metadata": {},
   "source": [
    "#### Exercise 3\n",
    "Can you interpret the results above? What do they mean?"
   ]
  },
  {
   "cell_type": "markdown",
   "metadata": {},
   "source": [
    "* From the plot we can discovered that the ***anger*** and ***fear*** are two categories,\n",
    "which are more likly two be misclassified as another one of them compared with other misclassified categories.\n",
    "* The performance of ***sadness*** is quit bad, almost half of them were misclassified.\n",
    "* The performance of ***joy*** is quit good, almost classified all of them correctly."
   ]
  },
  {
   "cell_type": "markdown",
   "metadata": {},
   "source": [
    "Total ***anger*** : 84\n",
    "| Corect Predicted as ***anger*** | Mispredicted as ***fear*** | Mispredicted as ***joy*** | Mispredicted as ***sadness*** |\n",
    "| :----: | :----: | :----: | :----: |\n",
    "| 57 | 18 | 6 | 3 |\n",
    "\n"
   ]
  },
  {
   "cell_type": "markdown",
   "metadata": {},
   "source": [
    "Total ***fear*** : 110\n",
    "| Mispredicted as ***anger*** | Corect Predicted as ***fear*** | Mispredicted as ***joy*** | Mispredicted as ***sadness*** |\n",
    "| :----: | :----: | :----: | :----: |\n",
    "| 16 | 76 | 9 | 9 |\n",
    "\n"
   ]
  },
  {
   "cell_type": "markdown",
   "metadata": {},
   "source": [
    "Total ***joy*** : 79\n",
    "| Mispredicted as ***anger*** | Mispredicted as ***fear*** | Corect Predicted as ***joy*** | Mispredicted as ***sadness*** |\n",
    "| :----: | :----: | :----: | :----: |\n",
    "| 6 | 9 | 56 | 8 |\n",
    "\n"
   ]
  },
  {
   "cell_type": "markdown",
   "metadata": {},
   "source": [
    "Total ***sadness*** : 74\n",
    "| Mispredicted as ***anger*** | Mispredicted as ***fear*** | Mispredicted as ***joy*** | Corect Predicted as ***sadness*** |\n",
    "| :----: | :----: | :----: | :----: |\n",
    "| 7 | 13 | 7 | 47 |\n",
    "\n"
   ]
  },
  {
   "cell_type": "markdown",
   "metadata": {},
   "source": [
    "#### Prepared Data and Function."
   ]
  },
  {
   "cell_type": "code",
   "execution_count": 5,
   "metadata": {},
   "outputs": [
    {
     "data": {
      "text/html": [
       "<style>#sk-container-id-1 {color: black;}#sk-container-id-1 pre{padding: 0;}#sk-container-id-1 div.sk-toggleable {background-color: white;}#sk-container-id-1 label.sk-toggleable__label {cursor: pointer;display: block;width: 100%;margin-bottom: 0;padding: 0.3em;box-sizing: border-box;text-align: center;}#sk-container-id-1 label.sk-toggleable__label-arrow:before {content: \"▸\";float: left;margin-right: 0.25em;color: #696969;}#sk-container-id-1 label.sk-toggleable__label-arrow:hover:before {color: black;}#sk-container-id-1 div.sk-estimator:hover label.sk-toggleable__label-arrow:before {color: black;}#sk-container-id-1 div.sk-toggleable__content {max-height: 0;max-width: 0;overflow: hidden;text-align: left;background-color: #f0f8ff;}#sk-container-id-1 div.sk-toggleable__content pre {margin: 0.2em;color: black;border-radius: 0.25em;background-color: #f0f8ff;}#sk-container-id-1 input.sk-toggleable__control:checked~div.sk-toggleable__content {max-height: 200px;max-width: 100%;overflow: auto;}#sk-container-id-1 input.sk-toggleable__control:checked~label.sk-toggleable__label-arrow:before {content: \"▾\";}#sk-container-id-1 div.sk-estimator input.sk-toggleable__control:checked~label.sk-toggleable__label {background-color: #d4ebff;}#sk-container-id-1 div.sk-label input.sk-toggleable__control:checked~label.sk-toggleable__label {background-color: #d4ebff;}#sk-container-id-1 input.sk-hidden--visually {border: 0;clip: rect(1px 1px 1px 1px);clip: rect(1px, 1px, 1px, 1px);height: 1px;margin: -1px;overflow: hidden;padding: 0;position: absolute;width: 1px;}#sk-container-id-1 div.sk-estimator {font-family: monospace;background-color: #f0f8ff;border: 1px dotted black;border-radius: 0.25em;box-sizing: border-box;margin-bottom: 0.5em;}#sk-container-id-1 div.sk-estimator:hover {background-color: #d4ebff;}#sk-container-id-1 div.sk-parallel-item::after {content: \"\";width: 100%;border-bottom: 1px solid gray;flex-grow: 1;}#sk-container-id-1 div.sk-label:hover label.sk-toggleable__label {background-color: #d4ebff;}#sk-container-id-1 div.sk-serial::before {content: \"\";position: absolute;border-left: 1px solid gray;box-sizing: border-box;top: 0;bottom: 0;left: 50%;z-index: 0;}#sk-container-id-1 div.sk-serial {display: flex;flex-direction: column;align-items: center;background-color: white;padding-right: 0.2em;padding-left: 0.2em;position: relative;}#sk-container-id-1 div.sk-item {position: relative;z-index: 1;}#sk-container-id-1 div.sk-parallel {display: flex;align-items: stretch;justify-content: center;background-color: white;position: relative;}#sk-container-id-1 div.sk-item::before, #sk-container-id-1 div.sk-parallel-item::before {content: \"\";position: absolute;border-left: 1px solid gray;box-sizing: border-box;top: 0;bottom: 0;left: 50%;z-index: -1;}#sk-container-id-1 div.sk-parallel-item {display: flex;flex-direction: column;z-index: 1;position: relative;background-color: white;}#sk-container-id-1 div.sk-parallel-item:first-child::after {align-self: flex-end;width: 50%;}#sk-container-id-1 div.sk-parallel-item:last-child::after {align-self: flex-start;width: 50%;}#sk-container-id-1 div.sk-parallel-item:only-child::after {width: 0;}#sk-container-id-1 div.sk-dashed-wrapped {border: 1px dashed gray;margin: 0 0.4em 0.5em 0.4em;box-sizing: border-box;padding-bottom: 0.4em;background-color: white;}#sk-container-id-1 div.sk-label label {font-family: monospace;font-weight: bold;display: inline-block;line-height: 1.2em;}#sk-container-id-1 div.sk-label-container {text-align: center;}#sk-container-id-1 div.sk-container {/* jupyter's `normalize.less` sets `[hidden] { display: none; }` but bootstrap.min.css set `[hidden] { display: none !important; }` so we also need the `!important` here to be able to override the default hidden behavior on the sphinx rendered scikit-learn.org. See: https://github.com/scikit-learn/scikit-learn/issues/21755 */display: inline-block !important;position: relative;}#sk-container-id-1 div.sk-text-repr-fallback {display: none;}</style><div id=\"sk-container-id-1\" class=\"sk-top-container\"><div class=\"sk-text-repr-fallback\"><pre>CountVectorizer(max_features=500,\n",
       "                tokenizer=&lt;function word_tokenize at 0x7fc622ceb010&gt;)</pre><b>In a Jupyter environment, please rerun this cell to show the HTML representation or trust the notebook. <br />On GitHub, the HTML representation is unable to render, please try loading this page with nbviewer.org.</b></div><div class=\"sk-container\" hidden><div class=\"sk-item\"><div class=\"sk-estimator sk-toggleable\"><input class=\"sk-toggleable__control sk-hidden--visually\" id=\"sk-estimator-id-1\" type=\"checkbox\" checked><label for=\"sk-estimator-id-1\" class=\"sk-toggleable__label sk-toggleable__label-arrow\">CountVectorizer</label><div class=\"sk-toggleable__content\"><pre>CountVectorizer(max_features=500,\n",
       "                tokenizer=&lt;function word_tokenize at 0x7fc622ceb010&gt;)</pre></div></div></div></div></div>"
      ],
      "text/plain": [
       "CountVectorizer(max_features=500,\n",
       "                tokenizer=<function word_tokenize at 0x7fc622ceb010>)"
      ]
     },
     "execution_count": 5,
     "metadata": {},
     "output_type": "execute_result"
    }
   ],
   "source": [
    "import nltk\n",
    "from sklearn.feature_extraction.text import CountVectorizer\n",
    "\n",
    "# build analyzers (bag-of-words)\n",
    "BOW_500 = CountVectorizer(max_features=500, tokenizer=nltk.word_tokenize) \n",
    "\n",
    "# apply analyzer to training data\n",
    "BOW_500.fit(train_df['text'])\n"
   ]
  },
  {
   "cell_type": "code",
   "execution_count": 6,
   "metadata": {},
   "outputs": [],
   "source": [
    "from sklearn.tree import DecisionTreeClassifier\n",
    "\n",
    "# for a classificaiton problem, you need to provide both training & testing data\n",
    "X_train = BOW_500.transform(train_df['text'])\n",
    "y_train = train_df['emotion']\n",
    "\n",
    "X_test = BOW_500.transform(test_df['text'])\n",
    "y_test = test_df['emotion']"
   ]
  },
  {
   "cell_type": "code",
   "execution_count": 7,
   "metadata": {},
   "outputs": [],
   "source": [
    "# Funciton for visualizing confusion_matrix\n",
    "import matplotlib.pyplot as plt\n",
    "import seaborn as sns\n",
    "import numpy as np\n",
    "import itertools\n",
    "\n",
    "def plot_confusion_matrix(cm, classes, title='Confusion matrix',\n",
    "                          cmap=sns.cubehelix_palette(as_cmap=True)):\n",
    "    \"\"\"\n",
    "    This function is modified from: \n",
    "    http://scikit-learn.org/stable/auto_examples/model_selection/plot_confusion_matrix.html\n",
    "    \"\"\"\n",
    "    classes.sort()\n",
    "    tick_marks = np.arange(len(classes))    \n",
    "    \n",
    "    fig, ax = plt.subplots(figsize=(5,5))\n",
    "    im = ax.imshow(cm, interpolation='nearest', cmap=cmap)\n",
    "    ax.figure.colorbar(im, ax=ax)\n",
    "    ax.set(xticks=np.arange(cm.shape[1]),\n",
    "           yticks=np.arange(cm.shape[0]),\n",
    "           xticklabels = classes,\n",
    "           yticklabels = classes,\n",
    "           title = title,\n",
    "           xlabel = 'True label',\n",
    "           ylabel = 'Predicted label')\n",
    "\n",
    "    fmt = 'd'\n",
    "    thresh = cm.max() / 2.\n",
    "    for i, j in itertools.product(range(cm.shape[0]), range(cm.shape[1])):\n",
    "        plt.text(j, i, format(cm[i, j], fmt), horizontalalignment=\"center\", color=\"white\" if cm[i, j] > thresh else \"black\")\n",
    "    ylim_top = len(classes) - 0.5\n",
    "    plt.ylim([ylim_top, -.5])\n",
    "    plt.tight_layout()\n",
    "    plt.show()"
   ]
  },
  {
   "cell_type": "markdown",
   "metadata": {},
   "source": [
    "#### Exercise 4\n",
    "Build a model using a ```Naive Bayes``` model and train it. What are the testing results? \n",
    "\n",
    "*Reference*: https://scikit-learn.org/stable/modules/generated/sklearn.naive_bayes.MultinomialNB.html"
   ]
  },
  {
   "cell_type": "code",
   "execution_count": 8,
   "metadata": {},
   "outputs": [
    {
     "data": {
      "text/plain": [
       "'1.3.2'"
      ]
     },
     "execution_count": 8,
     "metadata": {},
     "output_type": "execute_result"
    }
   ],
   "source": [
    "# check sklearn version, since defult value of the parameter force_alpha is False before version 1.4\n",
    "import sklearn\n",
    "sklearn.__version__"
   ]
  },
  {
   "cell_type": "code",
   "execution_count": 9,
   "metadata": {},
   "outputs": [],
   "source": [
    "from sklearn.naive_bayes import MultinomialNB\n",
    "Mul_NB = MultinomialNB(force_alpha=True)\n",
    "\n",
    "# Train\n",
    "Mul_NB.fit(X_train, y_train)\n",
    "\n",
    "# Predict\n",
    "y_train_pred = Mul_NB.predict(X_train)\n",
    "y_test_pred = Mul_NB.predict(X_test)"
   ]
  },
  {
   "cell_type": "code",
   "execution_count": 10,
   "metadata": {},
   "outputs": [
    {
     "name": "stdout",
     "output_type": "stream",
     "text": [
      "y_train:\n",
      "              precision    recall  f1-score   support\n",
      "\n",
      "       anger       0.77      0.80      0.78       857\n",
      "        fear       0.78      0.81      0.79      1147\n",
      "         joy       0.87      0.80      0.83       823\n",
      "     sadness       0.76      0.75      0.76       786\n",
      "\n",
      "    accuracy                           0.79      3613\n",
      "   macro avg       0.79      0.79      0.79      3613\n",
      "weighted avg       0.79      0.79      0.79      3613\n",
      "\n",
      "y_test:\n",
      "              precision    recall  f1-score   support\n",
      "\n",
      "       anger       0.63      0.65      0.64        84\n",
      "        fear       0.73      0.77      0.75       110\n",
      "         joy       0.78      0.71      0.74        79\n",
      "     sadness       0.64      0.62      0.63        74\n",
      "\n",
      "    accuracy                           0.70       347\n",
      "   macro avg       0.70      0.69      0.69       347\n",
      "weighted avg       0.70      0.70      0.70       347\n",
      "\n"
     ]
    }
   ],
   "source": [
    "# Evaluation\n",
    "from sklearn.metrics import classification_report\n",
    "print(\"y_train:\")\n",
    "print(classification_report(y_true=y_train, y_pred=y_train_pred))\n",
    "print(\"y_test:\")\n",
    "print(classification_report(y_true=y_test, y_pred=y_test_pred))"
   ]
  },
  {
   "cell_type": "code",
   "execution_count": 11,
   "metadata": {},
   "outputs": [
    {
     "data": {
      "image/png": "[encoded data removed]",
      "text/plain": [
       "<Figure size 500x500 with 2 Axes>"
      ]
     },
     "metadata": {},
     "output_type": "display_data"
    }
   ],
   "source": [
    "# plot\n",
    "from sklearn.metrics import confusion_matrix\n",
    "\n",
    "cm = confusion_matrix(y_true=y_test, y_pred=y_test_pred)\n",
    "my_tags = ['anger', 'fear', 'joy', 'sadness']\n",
    "plot_confusion_matrix(cm, classes=my_tags, title='Confusion matrix')"
   ]
  },
  {
   "cell_type": "markdown",
   "metadata": {},
   "source": [
    "#### Exercise 5\n",
    "How do the results from the Naive Bayes model and the Decision Tree model compare? How do you interpret these differences? Use the theoretical background covered in class to try and explain these differences."
   ]
  },
  {
   "cell_type": "markdown",
   "metadata": {},
   "source": [
    "* The decision tree is easy to understand. but without the limitation of height, it is very easy to suffer from overfitting. Also, the way classifies by rectangular partition doesn't handle the correlated features well.\n",
    "* The Naive Bayes is under the assumption that all class are independent. But the class **angry**, **fear**, **joy** and **sadness** do have some relation between them. As a result Naive Bayes has less consistent values over four emotions."
   ]
  },
  {
   "cell_type": "markdown",
   "metadata": {},
   "source": [
    "#### Prepareation"
   ]
  },
  {
   "cell_type": "code",
   "execution_count": 14,
   "metadata": {},
   "outputs": [
    {
     "name": "stderr",
     "output_type": "stream",
     "text": [
      "2023-12-30 21:41:16.744312: I tensorflow/core/platform/cpu_feature_guard.cc:182] This TensorFlow binary is optimized to use available CPU instructions in performance-critical operations.\n",
      "To enable the following instructions: SSE4.1 SSE4.2 AVX AVX2 FMA, in other operations, rebuild TensorFlow with the appropriate compiler flags.\n"
     ]
    }
   ],
   "source": [
    "import keras\n",
    "\n",
    "# standardize name (X, y) \n",
    "X_train = BOW_500.transform(train_df['text'])\n",
    "y_train = train_df['emotion']\n",
    "\n",
    "X_test = BOW_500.transform(test_df['text'])\n",
    "y_test = test_df['emotion']\n"
   ]
  },
  {
   "cell_type": "code",
   "execution_count": 15,
   "metadata": {},
   "outputs": [],
   "source": [
    "\n",
    "from sklearn.preprocessing import LabelEncoder\n",
    "\n",
    "label_encoder = LabelEncoder()\n",
    "label_encoder.fit(y_train)\n",
    "\n",
    "def label_encode(le, labels):\n",
    "    enc = le.transform(labels)\n",
    "    return keras.utils.to_categorical(enc)\n",
    "\n",
    "def label_decode(le, one_hot_label):\n",
    "    dec = np.argmax(one_hot_label, axis=1)\n",
    "    return le.inverse_transform(dec)\n",
    "\n",
    "y_train = label_encode(label_encoder, y_train)\n",
    "y_test = label_encode(label_encoder, y_test)"
   ]
  },
  {
   "cell_type": "code",
   "execution_count": 16,
   "metadata": {},
   "outputs": [
    {
     "name": "stdout",
     "output_type": "stream",
     "text": [
      "Model: \"model\"\n",
      "_________________________________________________________________\n",
      " Layer (type)                Output Shape              Param #   \n",
      "=================================================================\n",
      " input_1 (InputLayer)        [(None, 500)]             0         \n",
      "                                                                 \n",
      " dense (Dense)               (None, 64)                32064     \n",
      "                                                                 \n",
      " re_lu (ReLU)                (None, 64)                0         \n",
      "                                                                 \n",
      " dense_1 (Dense)             (None, 64)                4160      \n",
      "                                                                 \n",
      " re_lu_1 (ReLU)              (None, 64)                0         \n",
      "                                                                 \n",
      " dense_2 (Dense)             (None, 4)                 260       \n",
      "                                                                 \n",
      " softmax (Softmax)           (None, 4)                 0         \n",
      "                                                                 \n",
      "=================================================================\n",
      "Total params: 36,484\n",
      "Trainable params: 36,484\n",
      "Non-trainable params: 0\n",
      "_________________________________________________________________\n"
     ]
    },
    {
     "name": "stderr",
     "output_type": "stream",
     "text": [
      "2023-12-30 21:41:25.425795: I tensorflow/core/common_runtime/process_util.cc:146] Creating new thread pool with default inter op setting: 2. Tune using inter_op_parallelism_threads for best performance.\n"
     ]
    }
   ],
   "source": [
    "from keras.models import Model\n",
    "from keras.layers import Input, Dense\n",
    "from keras.layers import ReLU, Softmax\n",
    "\n",
    "# I/O\n",
    "input_shape = X_train.shape[1]\n",
    "output_shape = len(label_encoder.classes_)\n",
    "# input layer\n",
    "model_input = Input(shape=(input_shape, ))  # 500\n",
    "X = model_input\n",
    "\n",
    "# 1st hidden layer\n",
    "X_W1 = Dense(units=64)(X)  # 64\n",
    "H1 = ReLU()(X_W1)\n",
    "\n",
    "# 2nd hidden layer\n",
    "H1_W2 = Dense(units=64)(H1)  # 64\n",
    "H2 = ReLU()(H1_W2)\n",
    "\n",
    "# output layer\n",
    "H2_W3 = Dense(units=output_shape)(H2)  # 4\n",
    "H3 = Softmax()(H2_W3)\n",
    "\n",
    "model_output = H3\n",
    "\n",
    "# create model\n",
    "model = Model(inputs=[model_input], outputs=[model_output])\n",
    "\n",
    "# loss function & optimizer\n",
    "model.compile(optimizer='adam',\n",
    "              loss='categorical_crossentropy',\n",
    "              metrics=['accuracy'])\n",
    "\n",
    "# show model construction\n",
    "model.summary()"
   ]
  },
  {
   "cell_type": "code",
   "execution_count": 17,
   "metadata": {},
   "outputs": [
    {
     "name": "stdout",
     "output_type": "stream",
     "text": [
      "Epoch 1/25\n"
     ]
    },
    {
     "name": "stderr",
     "output_type": "stream",
     "text": [
      "2023-12-30 21:41:25.517551: I tensorflow/core/common_runtime/executor.cc:1197] [/device:CPU:0] (DEBUG INFO) Executor start aborting (this does not indicate an error and you can ignore this message): INVALID_ARGUMENT: You must feed a value for placeholder tensor 'Placeholder/_0' with dtype variant and shape [3613,3]\n",
      "\t [[{{node Placeholder/_0}}]]\n",
      "2023-12-30 21:41:25.517782: I tensorflow/core/common_runtime/executor.cc:1197] [/device:CPU:0] (DEBUG INFO) Executor start aborting (this does not indicate an error and you can ignore this message): INVALID_ARGUMENT: You must feed a value for placeholder tensor 'Placeholder/_1' with dtype float and shape [3613,4]\n",
      "\t [[{{node Placeholder/_1}}]]\n"
     ]
    },
    {
     "name": "stdout",
     "output_type": "stream",
     "text": [
      "108/113 [===========================>..] - ETA: 0s - loss: 1.3348 - accuracy: 0.3498"
     ]
    },
    {
     "name": "stderr",
     "output_type": "stream",
     "text": [
      "2023-12-30 21:41:26.171201: I tensorflow/core/common_runtime/executor.cc:1197] [/device:CPU:0] (DEBUG INFO) Executor start aborting (this does not indicate an error and you can ignore this message): INVALID_ARGUMENT: You must feed a value for placeholder tensor 'Placeholder/_1' with dtype float and shape [347,4]\n",
      "\t [[{{node Placeholder/_1}}]]\n"
     ]
    },
    {
     "name": "stdout",
     "output_type": "stream",
     "text": [
      "113/113 [==============================] - 1s 4ms/step - loss: 1.3325 - accuracy: 0.3546 - val_loss: 1.2867 - val_accuracy: 0.4697\n",
      "Epoch 2/25\n",
      "113/113 [==============================] - 0s 2ms/step - loss: 1.0128 - accuracy: 0.6208 - val_loss: 0.9259 - val_accuracy: 0.6859\n",
      "Epoch 3/25\n",
      "113/113 [==============================] - 0s 2ms/step - loss: 0.6087 - accuracy: 0.7836 - val_loss: 0.7812 - val_accuracy: 0.7118\n",
      "Epoch 4/25\n",
      "113/113 [==============================] - 0s 2ms/step - loss: 0.4197 - accuracy: 0.8442 - val_loss: 0.8001 - val_accuracy: 0.6916\n",
      "Epoch 5/25\n",
      "113/113 [==============================] - 0s 2ms/step - loss: 0.3269 - accuracy: 0.8860 - val_loss: 0.8214 - val_accuracy: 0.6945\n",
      "Epoch 6/25\n",
      "113/113 [==============================] - 0s 2ms/step - loss: 0.2638 - accuracy: 0.9089 - val_loss: 0.8978 - val_accuracy: 0.7003\n",
      "Epoch 7/25\n",
      "113/113 [==============================] - 0s 2ms/step - loss: 0.2170 - accuracy: 0.9280 - val_loss: 0.9201 - val_accuracy: 0.7032\n",
      "Epoch 8/25\n",
      "113/113 [==============================] - 0s 3ms/step - loss: 0.1827 - accuracy: 0.9419 - val_loss: 0.9584 - val_accuracy: 0.7003\n",
      "Epoch 9/25\n",
      "113/113 [==============================] - 0s 2ms/step - loss: 0.1562 - accuracy: 0.9529 - val_loss: 1.0414 - val_accuracy: 0.7061\n",
      "Epoch 10/25\n",
      "113/113 [==============================] - 0s 2ms/step - loss: 0.1318 - accuracy: 0.9621 - val_loss: 1.0900 - val_accuracy: 0.6888\n",
      "Epoch 11/25\n",
      "113/113 [==============================] - 0s 3ms/step - loss: 0.1183 - accuracy: 0.9657 - val_loss: 1.1803 - val_accuracy: 0.6801\n",
      "Epoch 12/25\n",
      "113/113 [==============================] - 0s 2ms/step - loss: 0.1108 - accuracy: 0.9668 - val_loss: 1.2108 - val_accuracy: 0.6859\n",
      "Epoch 13/25\n",
      "113/113 [==============================] - 0s 2ms/step - loss: 0.1000 - accuracy: 0.9709 - val_loss: 1.2746 - val_accuracy: 0.6801\n",
      "Epoch 14/25\n",
      "113/113 [==============================] - 0s 3ms/step - loss: 0.0946 - accuracy: 0.9723 - val_loss: 1.2730 - val_accuracy: 0.6888\n",
      "Epoch 15/25\n",
      "113/113 [==============================] - 0s 2ms/step - loss: 0.0861 - accuracy: 0.9732 - val_loss: 1.3156 - val_accuracy: 0.6888\n",
      "Epoch 16/25\n",
      "113/113 [==============================] - 0s 3ms/step - loss: 0.0817 - accuracy: 0.9748 - val_loss: 1.3599 - val_accuracy: 0.6830\n",
      "Epoch 17/25\n",
      "113/113 [==============================] - 0s 2ms/step - loss: 0.0825 - accuracy: 0.9723 - val_loss: 1.3956 - val_accuracy: 0.6744\n",
      "Epoch 18/25\n",
      "113/113 [==============================] - 0s 2ms/step - loss: 0.0778 - accuracy: 0.9737 - val_loss: 1.4059 - val_accuracy: 0.6744\n",
      "Epoch 19/25\n",
      "113/113 [==============================] - 0s 3ms/step - loss: 0.0764 - accuracy: 0.9756 - val_loss: 1.4372 - val_accuracy: 0.6686\n",
      "Epoch 20/25\n",
      "113/113 [==============================] - 0s 2ms/step - loss: 0.0718 - accuracy: 0.9748 - val_loss: 1.4916 - val_accuracy: 0.6830\n",
      "Epoch 21/25\n",
      "113/113 [==============================] - 0s 2ms/step - loss: 0.0686 - accuracy: 0.9762 - val_loss: 1.5517 - val_accuracy: 0.6801\n",
      "Epoch 22/25\n",
      "113/113 [==============================] - 0s 2ms/step - loss: 0.0630 - accuracy: 0.9776 - val_loss: 1.5150 - val_accuracy: 0.6686\n",
      "Epoch 23/25\n",
      "113/113 [==============================] - 0s 3ms/step - loss: 0.0660 - accuracy: 0.9770 - val_loss: 1.6418 - val_accuracy: 0.6715\n",
      "Epoch 24/25\n",
      "113/113 [==============================] - 0s 2ms/step - loss: 0.0650 - accuracy: 0.9787 - val_loss: 1.5997 - val_accuracy: 0.6599\n",
      "Epoch 25/25\n",
      "113/113 [==============================] - 0s 2ms/step - loss: 0.0611 - accuracy: 0.9773 - val_loss: 1.6156 - val_accuracy: 0.6772\n",
      "training finish\n"
     ]
    }
   ],
   "source": [
    "from keras.callbacks import CSVLogger\n",
    "\n",
    "csv_logger = CSVLogger('logs/training_log.csv')\n",
    "\n",
    "# training setting\n",
    "epochs = 25\n",
    "batch_size = 32\n",
    "\n",
    "# training!\n",
    "history = model.fit(X_train, y_train, \n",
    "                    epochs=epochs, \n",
    "                    batch_size=batch_size, \n",
    "                    callbacks=[csv_logger],\n",
    "                    validation_data = (X_test, y_test))\n",
    "print('training finish')"
   ]
  },
  {
   "cell_type": "markdown",
   "metadata": {},
   "source": [
    "#### Exercise 6"
   ]
  },
  {
   "cell_type": "code",
   "execution_count": 18,
   "metadata": {},
   "outputs": [
    {
     "name": "stderr",
     "output_type": "stream",
     "text": [
      "/home/allen/anaconda3/envs/DM_LAB2/lib/python3.10/site-packages/seaborn/_oldcore.py:1119: FutureWarning:\n",
      "\n",
      "use_inf_as_na option is deprecated and will be removed in a future version. Convert inf values to NaN before operating instead.\n",
      "\n",
      "/home/allen/anaconda3/envs/DM_LAB2/lib/python3.10/site-packages/seaborn/_oldcore.py:1119: FutureWarning:\n",
      "\n",
      "use_inf_as_na option is deprecated and will be removed in a future version. Convert inf values to NaN before operating instead.\n",
      "\n",
      "/home/allen/anaconda3/envs/DM_LAB2/lib/python3.10/site-packages/seaborn/_oldcore.py:1119: FutureWarning:\n",
      "\n",
      "use_inf_as_na option is deprecated and will be removed in a future version. Convert inf values to NaN before operating instead.\n",
      "\n",
      "/home/allen/anaconda3/envs/DM_LAB2/lib/python3.10/site-packages/seaborn/_oldcore.py:1119: FutureWarning:\n",
      "\n",
      "use_inf_as_na option is deprecated and will be removed in a future version. Convert inf values to NaN before operating instead.\n",
      "\n",
      "/home/allen/anaconda3/envs/DM_LAB2/lib/python3.10/site-packages/seaborn/_oldcore.py:1119: FutureWarning:\n",
      "\n",
      "use_inf_as_na option is deprecated and will be removed in a future version. Convert inf values to NaN before operating instead.\n",
      "\n",
      "/home/allen/anaconda3/envs/DM_LAB2/lib/python3.10/site-packages/seaborn/_oldcore.py:1119: FutureWarning:\n",
      "\n",
      "use_inf_as_na option is deprecated and will be removed in a future version. Convert inf values to NaN before operating instead.\n",
      "\n",
      "/home/allen/anaconda3/envs/DM_LAB2/lib/python3.10/site-packages/seaborn/_oldcore.py:1119: FutureWarning:\n",
      "\n",
      "use_inf_as_na option is deprecated and will be removed in a future version. Convert inf values to NaN before operating instead.\n",
      "\n",
      "/home/allen/anaconda3/envs/DM_LAB2/lib/python3.10/site-packages/seaborn/_oldcore.py:1119: FutureWarning:\n",
      "\n",
      "use_inf_as_na option is deprecated and will be removed in a future version. Convert inf values to NaN before operating instead.\n",
      "\n"
     ]
    },
    {
     "data": {
      "image/png": "[encoded data removed]",
      "text/plain": [
       "<Figure size 640x480 with 2 Axes>"
      ]
     },
     "metadata": {},
     "output_type": "display_data"
    }
   ],
   "source": [
    "training_log = pd.DataFrame()\n",
    "training_log = pd.read_csv(\"logs/training_log.csv\")\n",
    "training_log.columns = map((lambda x: x.strip()), training_log.columns)\n",
    "\n",
    "fig, ax = plt.subplots(1,2)\n",
    "fig.tight_layout(pad=1.0)\n",
    "sns.lineplot(training_log, x='epoch', y='accuracy', label='train_accuracy', ax=ax[0])\n",
    "sns.lineplot(training_log, x='epoch', y='val_accuracy', label='val_accuracy', ax=ax[0])\n",
    "sns.lineplot(training_log, x='epoch', y='loss', label='train_loss', ax=ax[1])\n",
    "sns.lineplot(training_log, x='epoch', y='val_loss', label='val_loss', ax=ax[1])\n",
    "plt.show()\n"
   ]
  },
  {
   "cell_type": "markdown",
   "metadata": {},
   "source": [
    "* The training accuracy is increasing, but the validation accuracy is not.\n",
    "* The training loss is decreasing, but the validation loss is not.\n",
    "> The model is learning some patterns from the training data, but it is not generalized term.\n",
    "Maybe is a sign of overfitting."
   ]
  },
  {
   "cell_type": "markdown",
   "metadata": {},
   "source": [
    "#### Exercise 7"
   ]
  },
  {
   "cell_type": "markdown",
   "metadata": {},
   "source": [
    "* Use the average of all word vectors to represent as the vector of the sequence.\n",
    "* Design model that can deal with sequence data, like GRU, LSTM...\n",
    "* Use those vectors to train obtain and embedding to represent them, like Doc2Vec."
   ]
  },
  {
   "cell_type": "markdown",
   "metadata": {},
   "source": [
    "#### Preparation"
   ]
  },
  {
   "cell_type": "code",
   "execution_count": 20,
   "metadata": {},
   "outputs": [],
   "source": [
    "import gensim\n",
    "\n",
    "## ignore warnings\n",
    "import warnings\n",
    "warnings.filterwarnings('ignore')\n",
    "\n",
    "# # if you want to see the training messages, you can use it\n",
    "# import logging\n",
    "# logging.basicConfig(format='%(asctime)s : %(levelname)s : %(message)s', level=logging.INFO)\n",
    "\n",
    "## the input type\n",
    "train_df['text_tokenized'] = train_df['text'].apply(lambda x: nltk.word_tokenize(x))\n",
    "\n",
    "## create the training corpus\n",
    "training_corpus = train_df['text_tokenized'].values"
   ]
  },
  {
   "cell_type": "code",
   "execution_count": 21,
   "metadata": {},
   "outputs": [
    {
     "name": "stdout",
     "output_type": "stream",
     "text": [
      "load ok\n"
     ]
    }
   ],
   "source": [
    "from gensim.models import KeyedVectors\n",
    "\n",
    "## Note: this model is very huge, this will take some time ...\n",
    "MODEL_NAME = \"GoogleNews/GoogleNews-vectors-negative300.bin.gz\"\n",
    "w2v_google_model = KeyedVectors.load_word2vec_format(MODEL_NAME, binary=True)\n",
    "print('load ok')"
   ]
  },
  {
   "cell_type": "markdown",
   "metadata": {},
   "source": [
    "#### Exercise 8"
   ]
  },
  {
   "cell_type": "code",
   "execution_count": 22,
   "metadata": {},
   "outputs": [
    {
     "name": "stdout",
     "output_type": "stream",
     "text": [
      "happy_words:  ['happy', 'glad', 'pleased', 'ecstatic', 'overjoyed', 'thrilled', 'satisfied', 'proud', 'delighted', 'disappointed', 'excited', 'happier', 'Said_Hirschbeck', 'elated', 'thankful', 'unhappy']\n",
      "angry_words:  ['angry', 'irate', 'enraged', 'indignant', 'incensed', 'annoyed', 'agitated', 'frustrated', 'furious', 'unhappy', 'outraged', 'livid', 'irritated', 'exasperated', 'angrier', 'Angry']\n",
      "sad_words:  ['sad', 'saddening', 'Sad', 'saddened', 'heartbreaking', 'disheartening', 'Meny_Friedman', 'parishioner_Pat_Patello', 'saddens_me', 'distressing', 'reminders_bobbing', 'Turkoman_Shiites', 'saddest', 'unfortunate', 'sorry', 'bittersweet']\n",
      "fear_words:  ['fear', 'fearful', 'fears', 'Fear', 'fearing', 'worry', 'dread', 'feared', 'anxiety', 'apprehension', 'afraid', 'worries', 'concern', 'distrust', 'worried', 'Fearful']\n",
      "\n",
      "target words: \n",
      "['happy', 'glad', 'pleased', 'ecstatic', 'overjoyed', 'thrilled', 'satisfied', 'proud', 'delighted', 'disappointed', 'excited', 'happier', 'Said_Hirschbeck', 'elated', 'thankful', 'unhappy', 'angry', 'irate', 'enraged', 'indignant', 'incensed', 'annoyed', 'agitated', 'frustrated', 'furious', 'unhappy', 'outraged', 'livid', 'irritated', 'exasperated', 'angrier', 'Angry', 'sad', 'saddening', 'Sad', 'saddened', 'heartbreaking', 'disheartening', 'Meny_Friedman', 'parishioner_Pat_Patello', 'saddens_me', 'distressing', 'reminders_bobbing', 'Turkoman_Shiites', 'saddest', 'unfortunate', 'sorry', 'bittersweet', 'fear', 'fearful', 'fears', 'Fear', 'fearing', 'worry', 'dread', 'feared', 'anxiety', 'apprehension', 'afraid', 'worries', 'concern', 'distrust', 'worried', 'Fearful']\n",
      "\n",
      "color list:\n",
      "['b', 'b', 'b', 'b', 'b', 'b', 'b', 'b', 'b', 'b', 'b', 'b', 'b', 'b', 'b', 'b', 'g', 'g', 'g', 'g', 'g', 'g', 'g', 'g', 'g', 'g', 'g', 'g', 'g', 'g', 'g', 'g', 'r', 'r', 'r', 'r', 'r', 'r', 'r', 'r', 'r', 'r', 'r', 'r', 'r', 'r', 'r', 'r', 'y', 'y', 'y', 'y', 'y', 'y', 'y', 'y', 'y', 'y', 'y', 'y', 'y', 'y', 'y', 'y']\n"
     ]
    }
   ],
   "source": [
    "word_list = ['happy', 'angry', 'sad', 'fear']\n",
    "\n",
    "topn = 15\n",
    "happy_words = ['happy'] + [word_ for word_, sim_ in w2v_google_model.most_similar('happy', topn=topn)]\n",
    "angry_words = ['angry'] + [word_ for word_, sim_ in w2v_google_model.most_similar('angry', topn=topn)]        \n",
    "sad_words = ['sad'] + [word_ for word_, sim_ in w2v_google_model.most_similar('sad', topn=topn)]\n",
    "fear_words = ['fear'] + [word_ for word_, sim_ in w2v_google_model.most_similar('fear', topn=topn)]\n",
    "\n",
    "print('happy_words: ', happy_words)\n",
    "print('angry_words: ', angry_words)\n",
    "print('sad_words: ', sad_words)\n",
    "print('fear_words: ', fear_words)\n",
    "\n",
    "target_words = happy_words + angry_words + sad_words + fear_words\n",
    "print('\\ntarget words: ')\n",
    "print(target_words)\n",
    "\n",
    "print('\\ncolor list:')\n",
    "cn = topn + 1\n",
    "color = ['b'] * cn + ['g'] * cn + ['r'] * cn + ['y'] * cn\n",
    "print(color)"
   ]
  },
  {
   "cell_type": "code",
   "execution_count": 23,
   "metadata": {},
   "outputs": [
    {
     "data": {
      "image/png": "[encoded data removed]",
      "text/plain": [
       "<Figure size 862.5x862.5 with 1 Axes>"
      ]
     },
     "metadata": {},
     "output_type": "display_data"
    }
   ],
   "source": [
    "from sklearn.manifold import TSNE\n",
    "\n",
    "model = w2v_google_model\n",
    "\n",
    "size = 200\n",
    "target_size = len(target_words)\n",
    "all_word = list(model.index_to_key)\n",
    "word_train = target_words + all_word[:size]\n",
    "X_train = model[word_train]\n",
    "\n",
    "\n",
    "## t-SNE model\n",
    "tsne = TSNE(n_components=2, metric='cosine', random_state=1)\n",
    "\n",
    "## training\n",
    "X_tsne = tsne.fit_transform(X_train)\n",
    "\n",
    "## plot the result\n",
    "plt.figure(figsize=(7.5, 7.5), dpi=115)\n",
    "plt.scatter(X_tsne[:target_size, 0], X_tsne[:target_size, 1], c=color)\n",
    "for label, x, y in zip(target_words, X_tsne[:target_size, 0], X_tsne[:target_size, 1]):\n",
    "    plt.annotate(label, xy=(x,y), xytext=(0,0),  textcoords='offset points')\n",
    "plt.show()"
   ]
  },
  {
   "cell_type": "markdown",
   "metadata": {},
   "source": [
    "### Second Part"
   ]
  },
  {
   "cell_type": "markdown",
   "metadata": {},
   "source": [
    "#### Preprocess while EDA"
   ]
  },
  {
   "cell_type": "markdown",
   "metadata": {},
   "source": [
    "EDA written in below with markdown block and comment.\n",
    "While doing this, I found some methods are super helpful:\n",
    "* .explode(): unpack list in Dataframe. Help me dealing with the mentions and hashtags because I stored them with list after extracted from the text.\n",
    "* .progress_map(): from tqdm package. Alow me to see whethere the function is working, or just dead loop.\n",
    "* .join(): extremely fast when join dataframes together.    \n",
    "\n",
    "A new technique I learned is you can creating a function object returning from another function, by doing this I can get the custom function without further specify the parameters. I used this to create a function that processed the mentions in text, this technique help the code become clean and easy to read."
   ]
  },
  {
   "cell_type": "markdown",
   "metadata": {},
   "source": [
    "##### Make dataframe and save to pickle file"
   ]
  },
  {
   "cell_type": "markdown",
   "metadata": {},
   "source": [
    "So that we don't need to processed it again. And continue dealing with data without waiting after each preprocessed."
   ]
  },
  {
   "cell_type": "code",
   "execution_count": 2,
   "metadata": {},
   "outputs": [
    {
     "name": "stderr",
     "output_type": "stream",
     "text": [
      "/home/allen/.local/lib/python3.10/site-packages/tqdm/auto.py:21: TqdmWarning: IProgress not found. Please update jupyter and ipywidgets. See https://ipywidgets.readthedocs.io/en/stable/user_install.html\n",
      "  from .autonotebook import tqdm as notebook_tqdm\n"
     ]
    }
   ],
   "source": [
    "from datetime import datetime \n",
    "import re\n",
    "import os\n",
    "\n",
    "import numpy as np\n",
    "import pandas as pd\n",
    "import matplotlib.pyplot as plt\n",
    "import seaborn as sns\n",
    "import plotly.express as px\n",
    "\n",
    "from tqdm.auto import tqdm\n",
    "tqdm.pandas()"
   ]
  },
  {
   "cell_type": "code",
   "execution_count": 47,
   "metadata": {},
   "outputs": [],
   "source": [
    "EMOTION_NAMES = ['joy', 'anticipation', 'trust' , 'sadness' , 'disgust' , 'fear' , 'surprise', 'anger']\n",
    "MODEL_NAME = 'cardiffnlp/twitter-roberta-base-sentiment-latest'"
   ]
  },
  {
   "cell_type": "code",
   "execution_count": 4,
   "metadata": {},
   "outputs": [],
   "source": [
    "identifies = pd.read_csv('data/data_identification.csv', index_col='tweet_id')\n",
    "labels = pd.read_csv('data/emotion.csv', index_col='tweet_id')"
   ]
  },
  {
   "cell_type": "code",
   "execution_count": 5,
   "metadata": {},
   "outputs": [
    {
     "name": "stdout",
     "output_type": "stream",
     "text": [
      "identification\n",
      "train    1455563\n",
      "test      411972\n",
      "dtype: int64\n",
      "         identification\n",
      "tweet_id               \n",
      "0x28cc61           test\n",
      "0x29e452          train\n",
      "0x2b3819          train\n",
      "0x2db41f           test\n",
      "0x2a2acc          train\n",
      "               emotion\n",
      "tweet_id              \n",
      "0x3140b1       sadness\n",
      "0x368b73       disgust\n",
      "0x296183  anticipation\n",
      "0x2bd6e1           joy\n",
      "0x2ee1dd  anticipation\n"
     ]
    }
   ],
   "source": [
    "print(identifies.value_counts('identification'))\n",
    "print(identifies.head())\n",
    "print(labels.head())"
   ]
  },
  {
   "cell_type": "code",
   "execution_count": 6,
   "metadata": {},
   "outputs": [],
   "source": [
    "train_idxs = identifies.index[identifies['identification'] == 'train']\n",
    "train_labels = labels.loc[train_idxs, 'emotion']\n",
    "assert train_idxs.shape == train_labels.shape, \"Labels and data have different length!\""
   ]
  },
  {
   "cell_type": "code",
   "execution_count": 7,
   "metadata": {},
   "outputs": [],
   "source": [
    "data = pd.read_json('data/tweets_DM.json', lines=True).drop(columns=['_index', '_type']) # feature selection"
   ]
  },
  {
   "cell_type": "code",
   "execution_count": 8,
   "metadata": {},
   "outputs": [],
   "source": [
    "source = data['_source']"
   ]
  },
  {
   "cell_type": "code",
   "execution_count": 9,
   "metadata": {},
   "outputs": [
    {
     "data": {
      "text/plain": [
       "{'hashtags': ['Snapchat'],\n",
       " 'tweet_id': '0x376b20',\n",
       " 'text': 'People who post \"add me on #Snapchat\" must be dehydrated. Cuz man.... that\\'s <LH>'}"
      ]
     },
     "execution_count": 9,
     "metadata": {},
     "output_type": "execute_result"
    }
   ],
   "source": [
    "source[0]['tweet']"
   ]
  },
  {
   "cell_type": "code",
   "execution_count": 10,
   "metadata": {},
   "outputs": [
    {
     "data": {
      "text/html": [
       "<div>\n",
       "<style scoped>\n",
       "    .dataframe tbody tr th:only-of-type {\n",
       "        vertical-align: middle;\n",
       "    }\n",
       "\n",
       "    .dataframe tbody tr th {\n",
       "        vertical-align: top;\n",
       "    }\n",
       "\n",
       "    .dataframe thead th {\n",
       "        text-align: right;\n",
       "    }\n",
       "</style>\n",
       "<table border=\"1\" class=\"dataframe\">\n",
       "  <thead>\n",
       "    <tr style=\"text-align: right;\">\n",
       "      <th></th>\n",
       "      <th>_score</th>\n",
       "      <th>_source</th>\n",
       "      <th>_crawldate</th>\n",
       "    </tr>\n",
       "  </thead>\n",
       "  <tbody>\n",
       "    <tr>\n",
       "      <th>0</th>\n",
       "      <td>391</td>\n",
       "      <td>{'tweet': {'hashtags': ['Snapchat'], 'tweet_id...</td>\n",
       "      <td>2015-05-23 11:42:47</td>\n",
       "    </tr>\n",
       "    <tr>\n",
       "      <th>1</th>\n",
       "      <td>433</td>\n",
       "      <td>{'tweet': {'hashtags': ['freepress', 'TrumpLeg...</td>\n",
       "      <td>2016-01-28 04:52:09</td>\n",
       "    </tr>\n",
       "    <tr>\n",
       "      <th>2</th>\n",
       "      <td>232</td>\n",
       "      <td>{'tweet': {'hashtags': ['bibleverse'], 'tweet_...</td>\n",
       "      <td>2017-12-25 04:39:20</td>\n",
       "    </tr>\n",
       "    <tr>\n",
       "      <th>3</th>\n",
       "      <td>376</td>\n",
       "      <td>{'tweet': {'hashtags': [], 'tweet_id': '0x1cd5...</td>\n",
       "      <td>2016-01-24 23:53:05</td>\n",
       "    </tr>\n",
       "    <tr>\n",
       "      <th>4</th>\n",
       "      <td>989</td>\n",
       "      <td>{'tweet': {'hashtags': [], 'tweet_id': '0x2de2...</td>\n",
       "      <td>2016-01-08 17:18:59</td>\n",
       "    </tr>\n",
       "  </tbody>\n",
       "</table>\n",
       "</div>"
      ],
      "text/plain": [
       "   _score                                            _source  \\\n",
       "0     391  {'tweet': {'hashtags': ['Snapchat'], 'tweet_id...   \n",
       "1     433  {'tweet': {'hashtags': ['freepress', 'TrumpLeg...   \n",
       "2     232  {'tweet': {'hashtags': ['bibleverse'], 'tweet_...   \n",
       "3     376  {'tweet': {'hashtags': [], 'tweet_id': '0x1cd5...   \n",
       "4     989  {'tweet': {'hashtags': [], 'tweet_id': '0x2de2...   \n",
       "\n",
       "            _crawldate  \n",
       "0  2015-05-23 11:42:47  \n",
       "1  2016-01-28 04:52:09  \n",
       "2  2017-12-25 04:39:20  \n",
       "3  2016-01-24 23:53:05  \n",
       "4  2016-01-08 17:18:59  "
      ]
     },
     "execution_count": 10,
     "metadata": {},
     "output_type": "execute_result"
    }
   ],
   "source": [
    "data.head()"
   ]
  },
  {
   "cell_type": "code",
   "execution_count": 11,
   "metadata": {},
   "outputs": [
    {
     "name": "stderr",
     "output_type": "stream",
     "text": [
      "100%|██████████| 1867535/1867535 [00:01<00:00, 1469077.49it/s]\n"
     ]
    }
   ],
   "source": [
    "tweet = pd.DataFrame(source.progress_map(lambda x : x[\"tweet\"]).tolist()) # dealing with _source data\n",
    "data = pd.concat([data, tweet], axis=1)\n",
    "data = data.drop(columns=['_source'])\n",
    "\n",
    "data.set_index('tweet_id', inplace=True)\n"
   ]
  },
  {
   "cell_type": "code",
   "execution_count": 12,
   "metadata": {},
   "outputs": [
    {
     "data": {
      "text/html": [
       "<div>\n",
       "<style scoped>\n",
       "    .dataframe tbody tr th:only-of-type {\n",
       "        vertical-align: middle;\n",
       "    }\n",
       "\n",
       "    .dataframe tbody tr th {\n",
       "        vertical-align: top;\n",
       "    }\n",
       "\n",
       "    .dataframe thead th {\n",
       "        text-align: right;\n",
       "    }\n",
       "</style>\n",
       "<table border=\"1\" class=\"dataframe\">\n",
       "  <thead>\n",
       "    <tr style=\"text-align: right;\">\n",
       "      <th></th>\n",
       "      <th>_score</th>\n",
       "      <th>_crawldate</th>\n",
       "      <th>hashtags</th>\n",
       "      <th>text</th>\n",
       "    </tr>\n",
       "    <tr>\n",
       "      <th>tweet_id</th>\n",
       "      <th></th>\n",
       "      <th></th>\n",
       "      <th></th>\n",
       "      <th></th>\n",
       "    </tr>\n",
       "  </thead>\n",
       "  <tbody>\n",
       "    <tr>\n",
       "      <th>0x376b20</th>\n",
       "      <td>391</td>\n",
       "      <td>2015-05-23 11:42:47</td>\n",
       "      <td>[Snapchat]</td>\n",
       "      <td>People who post \"add me on #Snapchat\" must be ...</td>\n",
       "    </tr>\n",
       "    <tr>\n",
       "      <th>0x2d5350</th>\n",
       "      <td>433</td>\n",
       "      <td>2016-01-28 04:52:09</td>\n",
       "      <td>[freepress, TrumpLegacy, CNN]</td>\n",
       "      <td>@brianklaas As we see, Trump is dangerous to #...</td>\n",
       "    </tr>\n",
       "    <tr>\n",
       "      <th>0x28b412</th>\n",
       "      <td>232</td>\n",
       "      <td>2017-12-25 04:39:20</td>\n",
       "      <td>[bibleverse]</td>\n",
       "      <td>Confident of your obedience, I write to you, k...</td>\n",
       "    </tr>\n",
       "    <tr>\n",
       "      <th>0x1cd5b0</th>\n",
       "      <td>376</td>\n",
       "      <td>2016-01-24 23:53:05</td>\n",
       "      <td>[]</td>\n",
       "      <td>Now ISSA is stalking Tasha 😂😂😂 &lt;LH&gt;</td>\n",
       "    </tr>\n",
       "    <tr>\n",
       "      <th>0x2de201</th>\n",
       "      <td>989</td>\n",
       "      <td>2016-01-08 17:18:59</td>\n",
       "      <td>[]</td>\n",
       "      <td>\"Trust is not the same as faith. A friend is s...</td>\n",
       "    </tr>\n",
       "  </tbody>\n",
       "</table>\n",
       "</div>"
      ],
      "text/plain": [
       "          _score           _crawldate                       hashtags  \\\n",
       "tweet_id                                                               \n",
       "0x376b20     391  2015-05-23 11:42:47                     [Snapchat]   \n",
       "0x2d5350     433  2016-01-28 04:52:09  [freepress, TrumpLegacy, CNN]   \n",
       "0x28b412     232  2017-12-25 04:39:20                   [bibleverse]   \n",
       "0x1cd5b0     376  2016-01-24 23:53:05                             []   \n",
       "0x2de201     989  2016-01-08 17:18:59                             []   \n",
       "\n",
       "                                                       text  \n",
       "tweet_id                                                     \n",
       "0x376b20  People who post \"add me on #Snapchat\" must be ...  \n",
       "0x2d5350  @brianklaas As we see, Trump is dangerous to #...  \n",
       "0x28b412  Confident of your obedience, I write to you, k...  \n",
       "0x1cd5b0                Now ISSA is stalking Tasha 😂😂😂 <LH>  \n",
       "0x2de201  \"Trust is not the same as faith. A friend is s...  "
      ]
     },
     "execution_count": 12,
     "metadata": {},
     "output_type": "execute_result"
    }
   ],
   "source": [
    "data.head()"
   ]
  },
  {
   "cell_type": "code",
   "execution_count": 13,
   "metadata": {},
   "outputs": [],
   "source": [
    "train_data = data.loc[train_idxs, :].sort_values(by='tweet_id')\n",
    "test_data = data.loc[~data.index.isin(train_idxs), :].sort_values(by='tweet_id')\n",
    "train_labels = train_labels.sort_index()\n",
    "\n",
    "assert len(train_data) == len(train_labels), \"Labels and data have different length!\"\n",
    "assert np.all(train_data.index == train_labels.index), \"Labels and data have different order!\""
   ]
  },
  {
   "cell_type": "code",
   "execution_count": 14,
   "metadata": {},
   "outputs": [],
   "source": [
    "# Save as pickle file, so that we don't need to processed it again\n",
    "train_data.to_pickle('data/train_data.pkl')\n",
    "train_labels.to_pickle('data/train_labels.pkl')\n",
    "test_data.to_pickle('data/test_data.pkl')"
   ]
  },
  {
   "cell_type": "markdown",
   "metadata": {},
   "source": [
    "##### Label distribution"
   ]
  },
  {
   "cell_type": "code",
   "execution_count": 15,
   "metadata": {},
   "outputs": [],
   "source": [
    "# Read files\n",
    "train_data = pd.read_pickle('data/train_data.pkl')\n",
    "train_labels = pd.read_pickle('data/train_labels.pkl')\n",
    "data = pd.concat([train_data, train_labels], axis=1)# Make frame"
   ]
  },
  {
   "cell_type": "code",
   "execution_count": 16,
   "metadata": {},
   "outputs": [
    {
     "data": {
      "text/html": [
       "<div>\n",
       "<style scoped>\n",
       "    .dataframe tbody tr th:only-of-type {\n",
       "        vertical-align: middle;\n",
       "    }\n",
       "\n",
       "    .dataframe tbody tr th {\n",
       "        vertical-align: top;\n",
       "    }\n",
       "\n",
       "    .dataframe thead th {\n",
       "        text-align: right;\n",
       "    }\n",
       "</style>\n",
       "<table border=\"1\" class=\"dataframe\">\n",
       "  <thead>\n",
       "    <tr style=\"text-align: right;\">\n",
       "      <th></th>\n",
       "      <th>_score</th>\n",
       "      <th>_crawldate</th>\n",
       "      <th>hashtags</th>\n",
       "      <th>text</th>\n",
       "      <th>emotion</th>\n",
       "    </tr>\n",
       "    <tr>\n",
       "      <th>tweet_id</th>\n",
       "      <th></th>\n",
       "      <th></th>\n",
       "      <th></th>\n",
       "      <th></th>\n",
       "      <th></th>\n",
       "    </tr>\n",
       "  </thead>\n",
       "  <tbody>\n",
       "    <tr>\n",
       "      <th>0x1c7f10</th>\n",
       "      <td>242</td>\n",
       "      <td>2015-05-16 10:36:47</td>\n",
       "      <td>[BlackMirror]</td>\n",
       "      <td>o m g Shut Up And Dance though #BlackMirror &lt;LH&gt;</td>\n",
       "      <td>joy</td>\n",
       "    </tr>\n",
       "    <tr>\n",
       "      <th>0x1c7f11</th>\n",
       "      <td>915</td>\n",
       "      <td>2016-10-15 20:46:37</td>\n",
       "      <td>[twitch, Destinybeta, Destiny, Destiny2, Desti...</td>\n",
       "      <td>On #twitch &lt;LH&gt; on the #Destinybeta #Destiny #...</td>\n",
       "      <td>anticipation</td>\n",
       "    </tr>\n",
       "    <tr>\n",
       "      <th>0x1c7f14</th>\n",
       "      <td>939</td>\n",
       "      <td>2016-07-04 07:22:56</td>\n",
       "      <td>[]</td>\n",
       "      <td>A nice sunny wak this morning not many &lt;LH&gt; ar...</td>\n",
       "      <td>joy</td>\n",
       "    </tr>\n",
       "    <tr>\n",
       "      <th>0x1c7f15</th>\n",
       "      <td>181</td>\n",
       "      <td>2016-04-16 12:53:40</td>\n",
       "      <td>[Confession, NationalCandyCornDay, CouldEatThe...</td>\n",
       "      <td>I'm one of those people who love candy corn......</td>\n",
       "      <td>joy</td>\n",
       "    </tr>\n",
       "    <tr>\n",
       "      <th>0x1c7f16</th>\n",
       "      <td>970</td>\n",
       "      <td>2017-04-22 17:50:28</td>\n",
       "      <td>[]</td>\n",
       "      <td>@metmuseum What are these? They look like some...</td>\n",
       "      <td>disgust</td>\n",
       "    </tr>\n",
       "  </tbody>\n",
       "</table>\n",
       "</div>"
      ],
      "text/plain": [
       "          _score           _crawldate  \\\n",
       "tweet_id                                \n",
       "0x1c7f10     242  2015-05-16 10:36:47   \n",
       "0x1c7f11     915  2016-10-15 20:46:37   \n",
       "0x1c7f14     939  2016-07-04 07:22:56   \n",
       "0x1c7f15     181  2016-04-16 12:53:40   \n",
       "0x1c7f16     970  2017-04-22 17:50:28   \n",
       "\n",
       "                                                   hashtags  \\\n",
       "tweet_id                                                      \n",
       "0x1c7f10                                      [BlackMirror]   \n",
       "0x1c7f11  [twitch, Destinybeta, Destiny, Destiny2, Desti...   \n",
       "0x1c7f14                                                 []   \n",
       "0x1c7f15  [Confession, NationalCandyCornDay, CouldEatThe...   \n",
       "0x1c7f16                                                 []   \n",
       "\n",
       "                                                       text       emotion  \n",
       "tweet_id                                                                   \n",
       "0x1c7f10   o m g Shut Up And Dance though #BlackMirror <LH>           joy  \n",
       "0x1c7f11  On #twitch <LH> on the #Destinybeta #Destiny #...  anticipation  \n",
       "0x1c7f14  A nice sunny wak this morning not many <LH> ar...           joy  \n",
       "0x1c7f15  I'm one of those people who love candy corn......           joy  \n",
       "0x1c7f16  @metmuseum What are these? They look like some...       disgust  "
      ]
     },
     "execution_count": 16,
     "metadata": {},
     "output_type": "execute_result"
    }
   ],
   "source": [
    "data.head()"
   ]
  },
  {
   "cell_type": "code",
   "execution_count": 17,
   "metadata": {},
   "outputs": [
    {
     "data": {
      "text/plain": [
       "emotion\n",
       "joy             516017\n",
       "anticipation    248935\n",
       "trust           205478\n",
       "sadness         193437\n",
       "disgust         139101\n",
       "fear             63999\n",
       "surprise         48729\n",
       "anger            39867\n",
       "dtype: int64"
      ]
     },
     "execution_count": 17,
     "metadata": {},
     "output_type": "execute_result"
    }
   ],
   "source": [
    "data.value_counts('emotion')"
   ]
  },
  {
   "cell_type": "code",
   "execution_count": 18,
   "metadata": {},
   "outputs": [
    {
     "data": {
      "text/plain": [
       "<Axes: xlabel='emotion'>"
      ]
     },
     "execution_count": 18,
     "metadata": {},
     "output_type": "execute_result"
    },
    {
     "data": {
      "image/png": "[encoded data removed]",
      "text/plain": [
       "<Figure size 640x480 with 1 Axes>"
      ]
     },
     "metadata": {},
     "output_type": "display_data"
    }
   ],
   "source": [
    "data.value_counts('emotion').plot.bar()"
   ]
  },
  {
   "cell_type": "markdown",
   "metadata": {},
   "source": [
    "##### Delete \\<LH\\> in text"
   ]
  },
  {
   "cell_type": "code",
   "execution_count": 19,
   "metadata": {},
   "outputs": [
    {
     "name": "stderr",
     "output_type": "stream",
     "text": [
      "100%|██████████| 1455563/1455563 [00:01<00:00, 1333761.90it/s]\n"
     ]
    }
   ],
   "source": [
    "data[\"preprocessed_text\"] = data[\"text\"].progress_map(lambda x : x.replace(\"<LH>\", ''))"
   ]
  },
  {
   "cell_type": "markdown",
   "metadata": {},
   "source": [
    "##### User mention distribution"
   ]
  },
  {
   "cell_type": "code",
   "execution_count": 20,
   "metadata": {},
   "outputs": [
    {
     "name": "stderr",
     "output_type": "stream",
     "text": [
      "100%|██████████| 1455563/1455563 [00:01<00:00, 900344.46it/s]\n"
     ]
    }
   ],
   "source": [
    "data[\"mentions\"] = data[\"text\"].progress_map(lambda x : re.findall(r'@([a-zA-Z0-9_]+)', x))"
   ]
  },
  {
   "cell_type": "code",
   "execution_count": 21,
   "metadata": {},
   "outputs": [
    {
     "data": {
      "text/plain": [
       "realDonaldTrump    27254\n",
       "FifthHarmony       11085\n",
       "MostRequestLive     5366\n",
       "POTUS               5130\n",
       "OnAirRomeo          5014\n",
       "DonnieWahlberg      3945\n",
       "FoxNews             2689\n",
       "CNN                 2482\n",
       "IssaRae             1676\n",
       "Browns              1553\n",
       "Name: mentions, dtype: int64"
      ]
     },
     "execution_count": 21,
     "metadata": {},
     "output_type": "execute_result"
    }
   ],
   "source": [
    "data[\"mentions\"].explode().value_counts()[:10]"
   ]
  },
  {
   "cell_type": "markdown",
   "metadata": {},
   "source": [
    "##### Replace the mentions that apears less than 10 times"
   ]
  },
  {
   "cell_type": "code",
   "execution_count": 22,
   "metadata": {},
   "outputs": [],
   "source": [
    "def create_mentions_replace_function(mentions: pd.Series, threshold = 10):\n",
    "    '''Create mentions replace function\n",
    "    Return a custom function object that Replace the mentions smaller then $threshold by the table created using given series.\n",
    "    mentions: pd.Series\n",
    "    threshold:int = 10\n",
    "\n",
    "    Return function object\n",
    "    '''\n",
    "    MENTIONS_TABLE = mentions.explode().value_counts()\n",
    "    print(\"Create mention table finished.\")\n",
    "    def custom_mentions_replace_function(text: str):\n",
    "        user_mentions = re.findall(r'@([a-zA-Z0-9_]+)', text)\n",
    "        for user_mention in user_mentions:\n",
    "            if user_mention in MENTIONS_TABLE.index and  MENTIONS_TABLE[user_mention] < threshold:\n",
    "                # By checking whether user_mention is in MENTIONS_TABLE.index first, the fuction can be applied to the text from test data.\n",
    "                # The mention that are not appear in training data will not be replace.\n",
    "                text = text.replace(f'@{user_mention}', f'@user')\n",
    "        return text\n",
    "    return custom_mentions_replace_function"
   ]
  },
  {
   "cell_type": "code",
   "execution_count": 23,
   "metadata": {},
   "outputs": [
    {
     "name": "stdout",
     "output_type": "stream",
     "text": [
      "Create mention table finished.\n"
     ]
    }
   ],
   "source": [
    "custom_mentions_replace_function = create_mentions_replace_function(data[\"mentions\"])"
   ]
  },
  {
   "cell_type": "code",
   "execution_count": 24,
   "metadata": {},
   "outputs": [
    {
     "name": "stderr",
     "output_type": "stream",
     "text": [
      "100%|██████████| 1455563/1455563 [00:03<00:00, 364566.66it/s]\n"
     ]
    }
   ],
   "source": [
    "data[\"preprocessed_text\"] = data[\"preprocessed_text\"].progress_map(custom_mentions_replace_function)"
   ]
  },
  {
   "cell_type": "code",
   "execution_count": 25,
   "metadata": {},
   "outputs": [
    {
     "name": "stdout",
     "output_type": "stream",
     "text": [
      "Before processed: \n",
      "\tNumber of mentions:  337873\n",
      "\tText:  @metmuseum What are these? They look like something toddlers make at summer camp with junk beads. <LH>\n"
     ]
    }
   ],
   "source": [
    "print(\"Before processed: \")\n",
    "print(\"\\tNumber of mentions: \", len(data[\"mentions\"].explode().unique()))\n",
    "print(\"\\tText: \", data[\"text\"][4])"
   ]
  },
  {
   "cell_type": "code",
   "execution_count": 26,
   "metadata": {},
   "outputs": [
    {
     "name": "stdout",
     "output_type": "stream",
     "text": [
      "After processed: \n",
      "\tNumber of mentions:  8210\n",
      "\tText:  @user What are these? They look like something toddlers make at summer camp with junk beads. \n"
     ]
    }
   ],
   "source": [
    "print(\"After processed: \")\n",
    "print(\"\\tNumber of mentions: \", len(data[\"preprocessed_text\"].map(lambda x : re.findall(r'@([a-zA-Z0-9_]+)', x)).explode().unique()))\n",
    "print(\"\\tText: \", data[\"preprocessed_text\"][4])"
   ]
  },
  {
   "cell_type": "code",
   "execution_count": 27,
   "metadata": {},
   "outputs": [
    {
     "name": "stderr",
     "output_type": "stream",
     "text": [
      "100%|██████████| 1455563/1455563 [00:01<00:00, 887593.84it/s]\n",
      "100%|██████████| 1455563/1455563 [00:01<00:00, 1331205.84it/s]\n",
      "100%|██████████| 1455563/1455563 [00:03<00:00, 368028.18it/s]\n"
     ]
    }
   ],
   "source": [
    "train_data = pd.read_pickle('data/train_data.pkl')\n",
    "train_data[\"mentions\"] = train_data[\"text\"].progress_map(lambda x : re.findall(r'@([a-zA-Z0-9_]+)', x))\n",
    "train_data[\"preprocessed_text\"] = train_data[\"text\"].progress_map(lambda x : x.replace(\"<LH>\", '')).progress_map(custom_mentions_replace_function)"
   ]
  },
  {
   "cell_type": "code",
   "execution_count": 28,
   "metadata": {},
   "outputs": [
    {
     "name": "stderr",
     "output_type": "stream",
     "text": [
      "100%|██████████| 411972/411972 [00:04<00:00, 102148.83it/s]\n",
      "100%|██████████| 411972/411972 [00:00<00:00, 1223117.36it/s]\n",
      "100%|██████████| 411972/411972 [00:00<00:00, 419454.22it/s]\n"
     ]
    }
   ],
   "source": [
    "# processed the test data with same processed\n",
    "# Noticed the $custom_mentions_replace_function is created from the training data to prevent information leakage.\n",
    "test_data = pd.read_pickle('data/test_data.pkl')\n",
    "test_data[\"mentions\"] = test_data[\"text\"].progress_map(lambda x : re.findall(r'@([a-zA-Z0-9_]+)', x))\n",
    "test_data[\"preprocessed_text\"] = test_data[\"text\"].progress_map(lambda x : x.replace(\"<LH>\", '')).progress_map(custom_mentions_replace_function)"
   ]
  },
  {
   "cell_type": "code",
   "execution_count": 29,
   "metadata": {},
   "outputs": [],
   "source": [
    "assert np.all(test_data.columns == train_data.columns)"
   ]
  },
  {
   "cell_type": "code",
   "execution_count": 30,
   "metadata": {},
   "outputs": [
    {
     "data": {
      "text/html": [
       "<div>\n",
       "<style scoped>\n",
       "    .dataframe tbody tr th:only-of-type {\n",
       "        vertical-align: middle;\n",
       "    }\n",
       "\n",
       "    .dataframe tbody tr th {\n",
       "        vertical-align: top;\n",
       "    }\n",
       "\n",
       "    .dataframe thead th {\n",
       "        text-align: right;\n",
       "    }\n",
       "</style>\n",
       "<table border=\"1\" class=\"dataframe\">\n",
       "  <thead>\n",
       "    <tr style=\"text-align: right;\">\n",
       "      <th></th>\n",
       "      <th>_score</th>\n",
       "      <th>_crawldate</th>\n",
       "      <th>hashtags</th>\n",
       "      <th>text</th>\n",
       "      <th>mentions</th>\n",
       "      <th>preprocessed_text</th>\n",
       "    </tr>\n",
       "    <tr>\n",
       "      <th>tweet_id</th>\n",
       "      <th></th>\n",
       "      <th></th>\n",
       "      <th></th>\n",
       "      <th></th>\n",
       "      <th></th>\n",
       "      <th></th>\n",
       "    </tr>\n",
       "  </thead>\n",
       "  <tbody>\n",
       "    <tr>\n",
       "      <th>0x1c7f10</th>\n",
       "      <td>242</td>\n",
       "      <td>2015-05-16 10:36:47</td>\n",
       "      <td>[BlackMirror]</td>\n",
       "      <td>o m g Shut Up And Dance though #BlackMirror &lt;LH&gt;</td>\n",
       "      <td>[]</td>\n",
       "      <td>o m g Shut Up And Dance though #BlackMirror</td>\n",
       "    </tr>\n",
       "    <tr>\n",
       "      <th>0x1c7f11</th>\n",
       "      <td>915</td>\n",
       "      <td>2016-10-15 20:46:37</td>\n",
       "      <td>[twitch, Destinybeta, Destiny, Destiny2, Desti...</td>\n",
       "      <td>On #twitch &lt;LH&gt; on the #Destinybeta #Destiny #...</td>\n",
       "      <td>[]</td>\n",
       "      <td>On #twitch  on the #Destinybeta #Destiny #Dest...</td>\n",
       "    </tr>\n",
       "    <tr>\n",
       "      <th>0x1c7f14</th>\n",
       "      <td>939</td>\n",
       "      <td>2016-07-04 07:22:56</td>\n",
       "      <td>[]</td>\n",
       "      <td>A nice sunny wak this morning not many &lt;LH&gt; ar...</td>\n",
       "      <td>[]</td>\n",
       "      <td>A nice sunny wak this morning not many  aroud,...</td>\n",
       "    </tr>\n",
       "    <tr>\n",
       "      <th>0x1c7f15</th>\n",
       "      <td>181</td>\n",
       "      <td>2016-04-16 12:53:40</td>\n",
       "      <td>[Confession, NationalCandyCornDay, CouldEatThe...</td>\n",
       "      <td>I'm one of those people who love candy corn......</td>\n",
       "      <td>[]</td>\n",
       "      <td>I'm one of those people who love candy corn......</td>\n",
       "    </tr>\n",
       "    <tr>\n",
       "      <th>0x1c7f16</th>\n",
       "      <td>970</td>\n",
       "      <td>2017-04-22 17:50:28</td>\n",
       "      <td>[]</td>\n",
       "      <td>@metmuseum What are these? They look like some...</td>\n",
       "      <td>[metmuseum]</td>\n",
       "      <td>@user What are these? They look like something...</td>\n",
       "    </tr>\n",
       "  </tbody>\n",
       "</table>\n",
       "</div>"
      ],
      "text/plain": [
       "          _score           _crawldate  \\\n",
       "tweet_id                                \n",
       "0x1c7f10     242  2015-05-16 10:36:47   \n",
       "0x1c7f11     915  2016-10-15 20:46:37   \n",
       "0x1c7f14     939  2016-07-04 07:22:56   \n",
       "0x1c7f15     181  2016-04-16 12:53:40   \n",
       "0x1c7f16     970  2017-04-22 17:50:28   \n",
       "\n",
       "                                                   hashtags  \\\n",
       "tweet_id                                                      \n",
       "0x1c7f10                                      [BlackMirror]   \n",
       "0x1c7f11  [twitch, Destinybeta, Destiny, Destiny2, Desti...   \n",
       "0x1c7f14                                                 []   \n",
       "0x1c7f15  [Confession, NationalCandyCornDay, CouldEatThe...   \n",
       "0x1c7f16                                                 []   \n",
       "\n",
       "                                                       text     mentions  \\\n",
       "tweet_id                                                                   \n",
       "0x1c7f10   o m g Shut Up And Dance though #BlackMirror <LH>           []   \n",
       "0x1c7f11  On #twitch <LH> on the #Destinybeta #Destiny #...           []   \n",
       "0x1c7f14  A nice sunny wak this morning not many <LH> ar...           []   \n",
       "0x1c7f15  I'm one of those people who love candy corn......           []   \n",
       "0x1c7f16  @metmuseum What are these? They look like some...  [metmuseum]   \n",
       "\n",
       "                                          preprocessed_text  \n",
       "tweet_id                                                     \n",
       "0x1c7f10       o m g Shut Up And Dance though #BlackMirror   \n",
       "0x1c7f11  On #twitch  on the #Destinybeta #Destiny #Dest...  \n",
       "0x1c7f14  A nice sunny wak this morning not many  aroud,...  \n",
       "0x1c7f15  I'm one of those people who love candy corn......  \n",
       "0x1c7f16  @user What are these? They look like something...  "
      ]
     },
     "execution_count": 30,
     "metadata": {},
     "output_type": "execute_result"
    }
   ],
   "source": [
    "train_data.head()"
   ]
  },
  {
   "cell_type": "code",
   "execution_count": 31,
   "metadata": {},
   "outputs": [
    {
     "data": {
      "text/html": [
       "<div>\n",
       "<style scoped>\n",
       "    .dataframe tbody tr th:only-of-type {\n",
       "        vertical-align: middle;\n",
       "    }\n",
       "\n",
       "    .dataframe tbody tr th {\n",
       "        vertical-align: top;\n",
       "    }\n",
       "\n",
       "    .dataframe thead th {\n",
       "        text-align: right;\n",
       "    }\n",
       "</style>\n",
       "<table border=\"1\" class=\"dataframe\">\n",
       "  <thead>\n",
       "    <tr style=\"text-align: right;\">\n",
       "      <th></th>\n",
       "      <th>_score</th>\n",
       "      <th>_crawldate</th>\n",
       "      <th>hashtags</th>\n",
       "      <th>text</th>\n",
       "      <th>mentions</th>\n",
       "      <th>preprocessed_text</th>\n",
       "    </tr>\n",
       "    <tr>\n",
       "      <th>tweet_id</th>\n",
       "      <th></th>\n",
       "      <th></th>\n",
       "      <th></th>\n",
       "      <th></th>\n",
       "      <th></th>\n",
       "      <th></th>\n",
       "    </tr>\n",
       "  </thead>\n",
       "  <tbody>\n",
       "    <tr>\n",
       "      <th>0x1c7f0f</th>\n",
       "      <td>62</td>\n",
       "      <td>2017-05-14 11:39:43</td>\n",
       "      <td>[]</td>\n",
       "      <td>@JZED74 While inappropriate AF, he likely wasn...</td>\n",
       "      <td>[JZED74]</td>\n",
       "      <td>@JZED74 While inappropriate AF, he likely wasn...</td>\n",
       "    </tr>\n",
       "    <tr>\n",
       "      <th>0x1c7f12</th>\n",
       "      <td>756</td>\n",
       "      <td>2016-02-14 15:55:45</td>\n",
       "      <td>[]</td>\n",
       "      <td>I tried to figure out why you mean so much to ...</td>\n",
       "      <td>[]</td>\n",
       "      <td>I tried to figure out why you mean so much to ...</td>\n",
       "    </tr>\n",
       "    <tr>\n",
       "      <th>0x1c7f13</th>\n",
       "      <td>213</td>\n",
       "      <td>2016-07-25 17:05:35</td>\n",
       "      <td>[auspol, fizza]</td>\n",
       "      <td>The only “big plan” you ever had in your life,...</td>\n",
       "      <td>[TurnbullMalcolm]</td>\n",
       "      <td>The only “big plan” you ever had in your life,...</td>\n",
       "    </tr>\n",
       "    <tr>\n",
       "      <th>0x1c7f17</th>\n",
       "      <td>603</td>\n",
       "      <td>2017-01-21 19:25:33</td>\n",
       "      <td>[]</td>\n",
       "      <td>Looking back on situations old &amp; new, recent o...</td>\n",
       "      <td>[]</td>\n",
       "      <td>Looking back on situations old &amp; new, recent o...</td>\n",
       "    </tr>\n",
       "    <tr>\n",
       "      <th>0x1c7f18</th>\n",
       "      <td>609</td>\n",
       "      <td>2017-04-25 16:36:47</td>\n",
       "      <td>[]</td>\n",
       "      <td>@jasoninthehouse Why do you insist on talking ...</td>\n",
       "      <td>[jasoninthehouse]</td>\n",
       "      <td>@jasoninthehouse Why do you insist on talking ...</td>\n",
       "    </tr>\n",
       "  </tbody>\n",
       "</table>\n",
       "</div>"
      ],
      "text/plain": [
       "          _score           _crawldate         hashtags  \\\n",
       "tweet_id                                                 \n",
       "0x1c7f0f      62  2017-05-14 11:39:43               []   \n",
       "0x1c7f12     756  2016-02-14 15:55:45               []   \n",
       "0x1c7f13     213  2016-07-25 17:05:35  [auspol, fizza]   \n",
       "0x1c7f17     603  2017-01-21 19:25:33               []   \n",
       "0x1c7f18     609  2017-04-25 16:36:47               []   \n",
       "\n",
       "                                                       text  \\\n",
       "tweet_id                                                      \n",
       "0x1c7f0f  @JZED74 While inappropriate AF, he likely wasn...   \n",
       "0x1c7f12  I tried to figure out why you mean so much to ...   \n",
       "0x1c7f13  The only “big plan” you ever had in your life,...   \n",
       "0x1c7f17  Looking back on situations old & new, recent o...   \n",
       "0x1c7f18  @jasoninthehouse Why do you insist on talking ...   \n",
       "\n",
       "                   mentions                                  preprocessed_text  \n",
       "tweet_id                                                                        \n",
       "0x1c7f0f           [JZED74]  @JZED74 While inappropriate AF, he likely wasn...  \n",
       "0x1c7f12                 []  I tried to figure out why you mean so much to ...  \n",
       "0x1c7f13  [TurnbullMalcolm]  The only “big plan” you ever had in your life,...  \n",
       "0x1c7f17                 []  Looking back on situations old & new, recent o...  \n",
       "0x1c7f18  [jasoninthehouse]  @jasoninthehouse Why do you insist on talking ...  "
      ]
     },
     "execution_count": 31,
     "metadata": {},
     "output_type": "execute_result"
    }
   ],
   "source": [
    "test_data.head()"
   ]
  },
  {
   "cell_type": "code",
   "execution_count": 32,
   "metadata": {},
   "outputs": [],
   "source": [
    "train_data.to_pickle('data/train_data.pkl')\n",
    "test_data.to_pickle('data/test_data.pkl')"
   ]
  },
  {
   "cell_type": "markdown",
   "metadata": {},
   "source": [
    "##### Hashtags distribution"
   ]
  },
  {
   "cell_type": "markdown",
   "metadata": {},
   "source": [
    "I found that hashtags has long-tailed distribution, also some of them have are related to emotions.  "
   ]
  },
  {
   "cell_type": "code",
   "execution_count": 1,
   "metadata": {},
   "outputs": [
    {
     "name": "stderr",
     "output_type": "stream",
     "text": [
      "/home/allen/.local/lib/python3.10/site-packages/tqdm/auto.py:21: TqdmWarning: IProgress not found. Please update jupyter and ipywidgets. See https://ipywidgets.readthedocs.io/en/stable/user_install.html\n",
      "  from .autonotebook import tqdm as notebook_tqdm\n"
     ]
    }
   ],
   "source": [
    "from datetime import datetime \n",
    "import re\n",
    "import os\n",
    "\n",
    "import numpy as np\n",
    "import pandas as pd\n",
    "import matplotlib.pyplot as plt\n",
    "import seaborn as sns\n",
    "import plotly.express as px\n",
    "\n",
    "from tqdm.auto import tqdm\n",
    "tqdm.pandas()\n",
    "\n",
    "EMOTION_NAMES = ['joy', 'anticipation', 'trust' , 'sadness' , 'disgust' , 'fear' , 'surprise', 'anger']\n"
   ]
  },
  {
   "cell_type": "code",
   "execution_count": 2,
   "metadata": {},
   "outputs": [],
   "source": [
    "# Read files\n",
    "train_data = pd.read_pickle('data/train_data.pkl')\n",
    "train_labels = pd.read_pickle('data/train_labels.pkl')\n",
    "data = pd.concat([train_data, train_labels], axis=1)# Make frame"
   ]
  },
  {
   "cell_type": "code",
   "execution_count": 3,
   "metadata": {},
   "outputs": [
    {
     "data": {
      "text/html": [
       "<div>\n",
       "<style scoped>\n",
       "    .dataframe tbody tr th:only-of-type {\n",
       "        vertical-align: middle;\n",
       "    }\n",
       "\n",
       "    .dataframe tbody tr th {\n",
       "        vertical-align: top;\n",
       "    }\n",
       "\n",
       "    .dataframe thead th {\n",
       "        text-align: right;\n",
       "    }\n",
       "</style>\n",
       "<table border=\"1\" class=\"dataframe\">\n",
       "  <thead>\n",
       "    <tr style=\"text-align: right;\">\n",
       "      <th></th>\n",
       "      <th>_score</th>\n",
       "      <th>_crawldate</th>\n",
       "      <th>hashtags</th>\n",
       "      <th>text</th>\n",
       "      <th>mentions</th>\n",
       "      <th>preprocessed_text</th>\n",
       "      <th>emotion</th>\n",
       "    </tr>\n",
       "    <tr>\n",
       "      <th>tweet_id</th>\n",
       "      <th></th>\n",
       "      <th></th>\n",
       "      <th></th>\n",
       "      <th></th>\n",
       "      <th></th>\n",
       "      <th></th>\n",
       "      <th></th>\n",
       "    </tr>\n",
       "  </thead>\n",
       "  <tbody>\n",
       "    <tr>\n",
       "      <th>0x1c7f10</th>\n",
       "      <td>242</td>\n",
       "      <td>2015-05-16 10:36:47</td>\n",
       "      <td>[BlackMirror]</td>\n",
       "      <td>o m g Shut Up And Dance though #BlackMirror &lt;LH&gt;</td>\n",
       "      <td>[]</td>\n",
       "      <td>o m g Shut Up And Dance though #BlackMirror</td>\n",
       "      <td>joy</td>\n",
       "    </tr>\n",
       "    <tr>\n",
       "      <th>0x1c7f11</th>\n",
       "      <td>915</td>\n",
       "      <td>2016-10-15 20:46:37</td>\n",
       "      <td>[twitch, Destinybeta, Destiny, Destiny2, Desti...</td>\n",
       "      <td>On #twitch &lt;LH&gt; on the #Destinybeta #Destiny #...</td>\n",
       "      <td>[]</td>\n",
       "      <td>On #twitch  on the #Destinybeta #Destiny #Dest...</td>\n",
       "      <td>anticipation</td>\n",
       "    </tr>\n",
       "    <tr>\n",
       "      <th>0x1c7f14</th>\n",
       "      <td>939</td>\n",
       "      <td>2016-07-04 07:22:56</td>\n",
       "      <td>[]</td>\n",
       "      <td>A nice sunny wak this morning not many &lt;LH&gt; ar...</td>\n",
       "      <td>[]</td>\n",
       "      <td>A nice sunny wak this morning not many  aroud,...</td>\n",
       "      <td>joy</td>\n",
       "    </tr>\n",
       "    <tr>\n",
       "      <th>0x1c7f15</th>\n",
       "      <td>181</td>\n",
       "      <td>2016-04-16 12:53:40</td>\n",
       "      <td>[Confession, NationalCandyCornDay, CouldEatThe...</td>\n",
       "      <td>I'm one of those people who love candy corn......</td>\n",
       "      <td>[]</td>\n",
       "      <td>I'm one of those people who love candy corn......</td>\n",
       "      <td>joy</td>\n",
       "    </tr>\n",
       "    <tr>\n",
       "      <th>0x1c7f16</th>\n",
       "      <td>970</td>\n",
       "      <td>2017-04-22 17:50:28</td>\n",
       "      <td>[]</td>\n",
       "      <td>@metmuseum What are these? They look like some...</td>\n",
       "      <td>[metmuseum]</td>\n",
       "      <td>@user What are these? They look like something...</td>\n",
       "      <td>disgust</td>\n",
       "    </tr>\n",
       "  </tbody>\n",
       "</table>\n",
       "</div>"
      ],
      "text/plain": [
       "          _score           _crawldate  \\\n",
       "tweet_id                                \n",
       "0x1c7f10     242  2015-05-16 10:36:47   \n",
       "0x1c7f11     915  2016-10-15 20:46:37   \n",
       "0x1c7f14     939  2016-07-04 07:22:56   \n",
       "0x1c7f15     181  2016-04-16 12:53:40   \n",
       "0x1c7f16     970  2017-04-22 17:50:28   \n",
       "\n",
       "                                                   hashtags  \\\n",
       "tweet_id                                                      \n",
       "0x1c7f10                                      [BlackMirror]   \n",
       "0x1c7f11  [twitch, Destinybeta, Destiny, Destiny2, Desti...   \n",
       "0x1c7f14                                                 []   \n",
       "0x1c7f15  [Confession, NationalCandyCornDay, CouldEatThe...   \n",
       "0x1c7f16                                                 []   \n",
       "\n",
       "                                                       text     mentions  \\\n",
       "tweet_id                                                                   \n",
       "0x1c7f10   o m g Shut Up And Dance though #BlackMirror <LH>           []   \n",
       "0x1c7f11  On #twitch <LH> on the #Destinybeta #Destiny #...           []   \n",
       "0x1c7f14  A nice sunny wak this morning not many <LH> ar...           []   \n",
       "0x1c7f15  I'm one of those people who love candy corn......           []   \n",
       "0x1c7f16  @metmuseum What are these? They look like some...  [metmuseum]   \n",
       "\n",
       "                                          preprocessed_text       emotion  \n",
       "tweet_id                                                                   \n",
       "0x1c7f10       o m g Shut Up And Dance though #BlackMirror            joy  \n",
       "0x1c7f11  On #twitch  on the #Destinybeta #Destiny #Dest...  anticipation  \n",
       "0x1c7f14  A nice sunny wak this morning not many  aroud,...           joy  \n",
       "0x1c7f15  I'm one of those people who love candy corn......           joy  \n",
       "0x1c7f16  @user What are these? They look like something...       disgust  "
      ]
     },
     "execution_count": 3,
     "metadata": {},
     "output_type": "execute_result"
    }
   ],
   "source": [
    "data.head()"
   ]
  },
  {
   "cell_type": "markdown",
   "metadata": {},
   "source": [
    "Some hashtags are empty"
   ]
  },
  {
   "cell_type": "code",
   "execution_count": 4,
   "metadata": {},
   "outputs": [
    {
     "data": {
      "text/plain": [
       "<Axes: >"
      ]
     },
     "execution_count": 4,
     "metadata": {},
     "output_type": "execute_result"
    },
    {
     "data": {
      "image/png": "[encoded data removed]",
      "text/plain": [
       "<Figure size 640x480 with 1 Axes>"
      ]
     },
     "metadata": {},
     "output_type": "display_data"
    }
   ],
   "source": [
    "data[\"hashtags\"].explode().value_counts()[:100].plot.bar()"
   ]
  },
  {
   "cell_type": "code",
   "execution_count": 5,
   "metadata": {},
   "outputs": [
    {
     "data": {
      "text/plain": [
       "Life     15160\n",
       "God      11971\n",
       "life     10715\n",
       "love     10090\n",
       "dream     6622\n",
       "Name: hashtags, dtype: int64"
      ]
     },
     "execution_count": 5,
     "metadata": {},
     "output_type": "execute_result"
    }
   ],
   "source": [
    "data[\"hashtags\"].explode().value_counts().head()"
   ]
  },
  {
   "cell_type": "code",
   "execution_count": 6,
   "metadata": {},
   "outputs": [
    {
     "name": "stderr",
     "output_type": "stream",
     "text": [
      "100%|██████████| 1455563/1455563 [00:01<00:00, 997141.84it/s] \n"
     ]
    }
   ],
   "source": [
    "data[\"preprocessed_hashtags\"] = data[\"hashtags\"].progress_map(lambda x : [tag.lower() for tag in x] if len(x) else ['noTag']) # turn all hastags into lower case"
   ]
  },
  {
   "cell_type": "code",
   "execution_count": 7,
   "metadata": {},
   "outputs": [
    {
     "data": {
      "text/plain": [
       "noTag    696358\n",
       "life      26147\n",
       "love      14038\n",
       "god       12177\n",
       "dream      6964\n",
       "Name: preprocessed_hashtags, dtype: int64"
      ]
     },
     "execution_count": 7,
     "metadata": {},
     "output_type": "execute_result"
    }
   ],
   "source": [
    "data[\"preprocessed_hashtags\"].explode().value_counts().head()"
   ]
  },
  {
   "cell_type": "code",
   "execution_count": 8,
   "metadata": {},
   "outputs": [
    {
     "data": {
      "text/plain": [
       "325137"
      ]
     },
     "execution_count": 8,
     "metadata": {},
     "output_type": "execute_result"
    }
   ],
   "source": [
    "unique_tags = data[\"preprocessed_hashtags\"].explode().unique()\n",
    "len(unique_tags)"
   ]
  },
  {
   "cell_type": "code",
   "execution_count": 9,
   "metadata": {},
   "outputs": [
    {
     "data": {
      "text/html": [
       "<div>\n",
       "<style scoped>\n",
       "    .dataframe tbody tr th:only-of-type {\n",
       "        vertical-align: middle;\n",
       "    }\n",
       "\n",
       "    .dataframe tbody tr th {\n",
       "        vertical-align: top;\n",
       "    }\n",
       "\n",
       "    .dataframe thead th {\n",
       "        text-align: right;\n",
       "    }\n",
       "</style>\n",
       "<table border=\"1\" class=\"dataframe\">\n",
       "  <thead>\n",
       "    <tr style=\"text-align: right;\">\n",
       "      <th></th>\n",
       "      <th>preprocessed_hashtags</th>\n",
       "      <th>emotion</th>\n",
       "    </tr>\n",
       "    <tr>\n",
       "      <th>tweet_id</th>\n",
       "      <th></th>\n",
       "      <th></th>\n",
       "    </tr>\n",
       "  </thead>\n",
       "  <tbody>\n",
       "    <tr>\n",
       "      <th>0x1c7f10</th>\n",
       "      <td>blackmirror</td>\n",
       "      <td>joy</td>\n",
       "    </tr>\n",
       "    <tr>\n",
       "      <th>0x1c7f11</th>\n",
       "      <td>twitch</td>\n",
       "      <td>anticipation</td>\n",
       "    </tr>\n",
       "    <tr>\n",
       "      <th>0x1c7f11</th>\n",
       "      <td>destinybeta</td>\n",
       "      <td>anticipation</td>\n",
       "    </tr>\n",
       "    <tr>\n",
       "      <th>0x1c7f11</th>\n",
       "      <td>destiny</td>\n",
       "      <td>anticipation</td>\n",
       "    </tr>\n",
       "    <tr>\n",
       "      <th>0x1c7f11</th>\n",
       "      <td>destiny2</td>\n",
       "      <td>anticipation</td>\n",
       "    </tr>\n",
       "    <tr>\n",
       "      <th>...</th>\n",
       "      <td>...</td>\n",
       "      <td>...</td>\n",
       "    </tr>\n",
       "    <tr>\n",
       "      <th>0x38fe1a</th>\n",
       "      <td>maga</td>\n",
       "      <td>surprise</td>\n",
       "    </tr>\n",
       "    <tr>\n",
       "      <th>0x38fe1c</th>\n",
       "      <td>noTag</td>\n",
       "      <td>disgust</td>\n",
       "    </tr>\n",
       "    <tr>\n",
       "      <th>0x38fe1d</th>\n",
       "      <td>redheadproblems</td>\n",
       "      <td>sadness</td>\n",
       "    </tr>\n",
       "    <tr>\n",
       "      <th>0x38fe1d</th>\n",
       "      <td>ouch</td>\n",
       "      <td>sadness</td>\n",
       "    </tr>\n",
       "    <tr>\n",
       "      <th>0x38fe1d</th>\n",
       "      <td>burnt</td>\n",
       "      <td>sadness</td>\n",
       "    </tr>\n",
       "  </tbody>\n",
       "</table>\n",
       "<p>2281309 rows × 2 columns</p>\n",
       "</div>"
      ],
      "text/plain": [
       "         preprocessed_hashtags       emotion\n",
       "tweet_id                                    \n",
       "0x1c7f10           blackmirror           joy\n",
       "0x1c7f11                twitch  anticipation\n",
       "0x1c7f11           destinybeta  anticipation\n",
       "0x1c7f11               destiny  anticipation\n",
       "0x1c7f11              destiny2  anticipation\n",
       "...                        ...           ...\n",
       "0x38fe1a                  maga      surprise\n",
       "0x38fe1c                 noTag       disgust\n",
       "0x38fe1d       redheadproblems       sadness\n",
       "0x38fe1d                  ouch       sadness\n",
       "0x38fe1d                 burnt       sadness\n",
       "\n",
       "[2281309 rows x 2 columns]"
      ]
     },
     "execution_count": 9,
     "metadata": {},
     "output_type": "execute_result"
    }
   ],
   "source": [
    "hashtags_emotion_data = data[['preprocessed_hashtags', 'emotion']].explode('preprocessed_hashtags').reset_index().fillna(\"noTag\") # deal with no tags data\n",
    "hashtags_emotion_data.drop_duplicates(inplace=True)\n",
    "hashtags_emotion_data.set_index(\"tweet_id\", inplace=True)\n",
    "hashtags_emotion_data"
   ]
  },
  {
   "cell_type": "code",
   "execution_count": 10,
   "metadata": {},
   "outputs": [
    {
     "data": {
      "text/html": [
       "<div>\n",
       "<style scoped>\n",
       "    .dataframe tbody tr th:only-of-type {\n",
       "        vertical-align: middle;\n",
       "    }\n",
       "\n",
       "    .dataframe tbody tr th {\n",
       "        vertical-align: top;\n",
       "    }\n",
       "\n",
       "    .dataframe thead th {\n",
       "        text-align: right;\n",
       "    }\n",
       "</style>\n",
       "<table border=\"1\" class=\"dataframe\">\n",
       "  <thead>\n",
       "    <tr style=\"text-align: right;\">\n",
       "      <th>emotion</th>\n",
       "      <th>anger</th>\n",
       "      <th>anticipation</th>\n",
       "      <th>disgust</th>\n",
       "      <th>fear</th>\n",
       "      <th>joy</th>\n",
       "      <th>sadness</th>\n",
       "      <th>surprise</th>\n",
       "      <th>trust</th>\n",
       "    </tr>\n",
       "    <tr>\n",
       "      <th>preprocessed_hashtags</th>\n",
       "      <th></th>\n",
       "      <th></th>\n",
       "      <th></th>\n",
       "      <th></th>\n",
       "      <th></th>\n",
       "      <th></th>\n",
       "      <th></th>\n",
       "      <th></th>\n",
       "    </tr>\n",
       "  </thead>\n",
       "  <tbody>\n",
       "    <tr>\n",
       "      <th>0</th>\n",
       "      <td>2.0</td>\n",
       "      <td>0.0</td>\n",
       "      <td>9.0</td>\n",
       "      <td>0.0</td>\n",
       "      <td>6.0</td>\n",
       "      <td>6.0</td>\n",
       "      <td>0.0</td>\n",
       "      <td>0.0</td>\n",
       "    </tr>\n",
       "    <tr>\n",
       "      <th>00</th>\n",
       "      <td>0.0</td>\n",
       "      <td>0.0</td>\n",
       "      <td>0.0</td>\n",
       "      <td>0.0</td>\n",
       "      <td>1.0</td>\n",
       "      <td>0.0</td>\n",
       "      <td>0.0</td>\n",
       "      <td>0.0</td>\n",
       "    </tr>\n",
       "    <tr>\n",
       "      <th>0000ff</th>\n",
       "      <td>0.0</td>\n",
       "      <td>0.0</td>\n",
       "      <td>0.0</td>\n",
       "      <td>0.0</td>\n",
       "      <td>0.0</td>\n",
       "      <td>1.0</td>\n",
       "      <td>0.0</td>\n",
       "      <td>0.0</td>\n",
       "    </tr>\n",
       "    <tr>\n",
       "      <th>0001</th>\n",
       "      <td>0.0</td>\n",
       "      <td>0.0</td>\n",
       "      <td>1.0</td>\n",
       "      <td>0.0</td>\n",
       "      <td>0.0</td>\n",
       "      <td>0.0</td>\n",
       "      <td>0.0</td>\n",
       "      <td>0.0</td>\n",
       "    </tr>\n",
       "    <tr>\n",
       "      <th>0002</th>\n",
       "      <td>0.0</td>\n",
       "      <td>0.0</td>\n",
       "      <td>1.0</td>\n",
       "      <td>0.0</td>\n",
       "      <td>0.0</td>\n",
       "      <td>0.0</td>\n",
       "      <td>0.0</td>\n",
       "      <td>0.0</td>\n",
       "    </tr>\n",
       "    <tr>\n",
       "      <th>...</th>\n",
       "      <td>...</td>\n",
       "      <td>...</td>\n",
       "      <td>...</td>\n",
       "      <td>...</td>\n",
       "      <td>...</td>\n",
       "      <td>...</td>\n",
       "      <td>...</td>\n",
       "      <td>...</td>\n",
       "    </tr>\n",
       "    <tr>\n",
       "      <th>２０２１</th>\n",
       "      <td>0.0</td>\n",
       "      <td>0.0</td>\n",
       "      <td>0.0</td>\n",
       "      <td>0.0</td>\n",
       "      <td>1.0</td>\n",
       "      <td>0.0</td>\n",
       "      <td>0.0</td>\n",
       "      <td>0.0</td>\n",
       "    </tr>\n",
       "    <tr>\n",
       "      <th>２４歳</th>\n",
       "      <td>0.0</td>\n",
       "      <td>0.0</td>\n",
       "      <td>0.0</td>\n",
       "      <td>0.0</td>\n",
       "      <td>1.0</td>\n",
       "      <td>0.0</td>\n",
       "      <td>0.0</td>\n",
       "      <td>0.0</td>\n",
       "    </tr>\n",
       "    <tr>\n",
       "      <th>ｆｏｌｌｏｗ</th>\n",
       "      <td>0.0</td>\n",
       "      <td>0.0</td>\n",
       "      <td>0.0</td>\n",
       "      <td>0.0</td>\n",
       "      <td>2.0</td>\n",
       "      <td>0.0</td>\n",
       "      <td>0.0</td>\n",
       "      <td>0.0</td>\n",
       "    </tr>\n",
       "    <tr>\n",
       "      <th>ｓlｅep</th>\n",
       "      <td>0.0</td>\n",
       "      <td>0.0</td>\n",
       "      <td>1.0</td>\n",
       "      <td>0.0</td>\n",
       "      <td>0.0</td>\n",
       "      <td>0.0</td>\n",
       "      <td>0.0</td>\n",
       "      <td>0.0</td>\n",
       "    </tr>\n",
       "    <tr>\n",
       "      <th>ｔｕnp</th>\n",
       "      <td>0.0</td>\n",
       "      <td>0.0</td>\n",
       "      <td>0.0</td>\n",
       "      <td>0.0</td>\n",
       "      <td>1.0</td>\n",
       "      <td>1.0</td>\n",
       "      <td>0.0</td>\n",
       "      <td>0.0</td>\n",
       "    </tr>\n",
       "  </tbody>\n",
       "</table>\n",
       "<p>325137 rows × 8 columns</p>\n",
       "</div>"
      ],
      "text/plain": [
       "emotion                anger  anticipation  disgust  fear  joy  sadness  \\\n",
       "preprocessed_hashtags                                                     \n",
       "0                        2.0           0.0      9.0   0.0  6.0      6.0   \n",
       "00                       0.0           0.0      0.0   0.0  1.0      0.0   \n",
       "0000ff                   0.0           0.0      0.0   0.0  0.0      1.0   \n",
       "0001                     0.0           0.0      1.0   0.0  0.0      0.0   \n",
       "0002                     0.0           0.0      1.0   0.0  0.0      0.0   \n",
       "...                      ...           ...      ...   ...  ...      ...   \n",
       "２０２１                     0.0           0.0      0.0   0.0  1.0      0.0   \n",
       "２４歳                      0.0           0.0      0.0   0.0  1.0      0.0   \n",
       "ｆｏｌｌｏｗ                   0.0           0.0      0.0   0.0  2.0      0.0   \n",
       "ｓlｅep                    0.0           0.0      1.0   0.0  0.0      0.0   \n",
       "ｔｕnp                     0.0           0.0      0.0   0.0  1.0      1.0   \n",
       "\n",
       "emotion                surprise  trust  \n",
       "preprocessed_hashtags                   \n",
       "0                           0.0    0.0  \n",
       "00                          0.0    0.0  \n",
       "0000ff                      0.0    0.0  \n",
       "0001                        0.0    0.0  \n",
       "0002                        0.0    0.0  \n",
       "...                         ...    ...  \n",
       "２０２１                        0.0    0.0  \n",
       "２４歳                         0.0    0.0  \n",
       "ｆｏｌｌｏｗ                      0.0    0.0  \n",
       "ｓlｅep                       0.0    0.0  \n",
       "ｔｕnp                        0.0    0.0  \n",
       "\n",
       "[325137 rows x 8 columns]"
      ]
     },
     "execution_count": 10,
     "metadata": {},
     "output_type": "execute_result"
    }
   ],
   "source": [
    "hashtags_emotion_table = hashtags_emotion_data\\\n",
    "                            .groupby(\"preprocessed_hashtags\")\\\n",
    "                            .value_counts(dropna=False)\\\n",
    "                            .reset_index(name=\"count\")\\\n",
    "                            .pivot(index='preprocessed_hashtags', columns='emotion', values='count')\\\n",
    "                            .fillna(0.0)\n",
    "hashtags_emotion_table"
   ]
  },
  {
   "cell_type": "code",
   "execution_count": 11,
   "metadata": {},
   "outputs": [
    {
     "name": "stderr",
     "output_type": "stream",
     "text": [
      "100%|██████████| 1455563/1455563 [00:01<00:00, 809070.29it/s]\n",
      "100%|██████████| 411972/411972 [00:00<00:00, 1414883.03it/s]\n"
     ]
    }
   ],
   "source": [
    "test_data = pd.read_pickle('data/test_data.pkl')\n",
    "train_data = pd.read_pickle('data/train_data.pkl')\n",
    "train_data[\"preprocessed_hashtags\"] = train_data[\"hashtags\"].progress_map(lambda x : [tag.lower() for tag in x] if len(x) else ['noTag'])\n",
    "test_data[\"preprocessed_hashtags\"] = test_data[\"hashtags\"].progress_map(lambda x : [tag.lower() for tag in x] if len(x) else ['noTag'])\n",
    "hashtags_emotion_table.to_csv(\"EDA/hashtags_emotion_table.csv\")\n",
    "train_data.to_pickle('data/train_data.pkl')\n",
    "test_data.to_pickle('data/test_data.pkl')"
   ]
  },
  {
   "cell_type": "code",
   "execution_count": 12,
   "metadata": {},
   "outputs": [
    {
     "data": {
      "application/vnd.plotly.v1+json": {
       "config": {
        "plotlyServerURL": "https://plot.ly"
       },
       "data": [
        {
         "alignmentgroup": "True",
         "hovertemplate": "variable=joy<br>preprocessed_hashtags=%{x}<br>value=%{y}<extra></extra>",
         "legendgroup": "joy",
         "marker": {
          "color": "#636efa",
          "pattern": {
           "shape": ""
          }
         },
         "name": "joy",
         "offsetgroup": "joy",
         "orientation": "v",
         "showlegend": true,
         "textposition": "auto",
         "type": "bar",
         "x": [
          "life",
          "love",
          "god",
          "dream",
          "blessed",
          "sad",
          "faith",
          "special",
          "everyday",
          "trump",
          "jesus",
          "hope",
          "motivation",
          "thanks",
          "wtf",
          "help",
          "success",
          "maga",
          "female",
          "inspiration",
          "awesome",
          "mondaymotivation",
          "people",
          "world",
          "gratitude",
          "wisdom",
          "happy",
          "power",
          "work",
          "content",
          "usa",
          "food",
          "amazing",
          "health",
          "you",
          "leadership",
          "today",
          "bb19",
          "america",
          "followers",
          "gameofthrones",
          "business",
          "shame",
          "wednesdaywisdom",
          "thursdaythoughts",
          "tuesdaythoughts",
          "lol",
          "beautiful",
          "entrepreneur"
         ],
         "xaxis": "x",
         "y": [
          8931,
          13587,
          402,
          9,
          6853,
          41,
          2703,
          4800,
          4543,
          468,
          98,
          2671,
          1758,
          1808,
          5,
          380,
          1389,
          459,
          3000,
          1405,
          2856,
          1057,
          1090,
          1161,
          1157,
          924,
          2138,
          693,
          852,
          1996,
          526,
          749,
          1862,
          847,
          892,
          547,
          886,
          143,
          364,
          76,
          357,
          669,
          1,
          666,
          600,
          609,
          497,
          1461,
          453
         ],
         "yaxis": "y"
        },
        {
         "alignmentgroup": "True",
         "hovertemplate": "variable=anticipation<br>preprocessed_hashtags=%{x}<br>value=%{y}<extra></extra>",
         "legendgroup": "anticipation",
         "marker": {
          "color": "#EF553B",
          "pattern": {
           "shape": ""
          }
         },
         "name": "anticipation",
         "offsetgroup": "anticipation",
         "orientation": "v",
         "showlegend": true,
         "textposition": "auto",
         "type": "bar",
         "x": [
          "life",
          "love",
          "god",
          "dream",
          "blessed",
          "sad",
          "faith",
          "special",
          "everyday",
          "trump",
          "jesus",
          "hope",
          "motivation",
          "thanks",
          "wtf",
          "help",
          "success",
          "maga",
          "female",
          "inspiration",
          "awesome",
          "mondaymotivation",
          "people",
          "world",
          "gratitude",
          "wisdom",
          "happy",
          "power",
          "work",
          "content",
          "usa",
          "food",
          "amazing",
          "health",
          "you",
          "leadership",
          "today",
          "bb19",
          "america",
          "followers",
          "gameofthrones",
          "business",
          "shame",
          "wednesdaywisdom",
          "thursdaythoughts",
          "tuesdaythoughts",
          "lol",
          "beautiful",
          "entrepreneur"
         ],
         "xaxis": "x",
         "y": [
          12888,
          198,
          11315,
          6936,
          24,
          7,
          2336,
          4,
          6,
          755,
          4213,
          71,
          1432,
          163,
          2,
          417,
          1052,
          749,
          1,
          737,
          6,
          752,
          597,
          570,
          172,
          973,
          13,
          524,
          550,
          1,
          461,
          527,
          3,
          335,
          437,
          544,
          178,
          43,
          524,
          13,
          154,
          356,
          4,
          522,
          468,
          411,
          90,
          6,
          658
         ],
         "yaxis": "y"
        },
        {
         "alignmentgroup": "True",
         "hovertemplate": "variable=trust<br>preprocessed_hashtags=%{x}<br>value=%{y}<extra></extra>",
         "legendgroup": "trust",
         "marker": {
          "color": "#00cc96",
          "pattern": {
           "shape": ""
          }
         },
         "name": "trust",
         "offsetgroup": "trust",
         "orientation": "v",
         "showlegend": true,
         "textposition": "auto",
         "type": "bar",
         "x": [
          "life",
          "love",
          "god",
          "dream",
          "blessed",
          "sad",
          "faith",
          "special",
          "everyday",
          "trump",
          "jesus",
          "hope",
          "motivation",
          "thanks",
          "wtf",
          "help",
          "success",
          "maga",
          "female",
          "inspiration",
          "awesome",
          "mondaymotivation",
          "people",
          "world",
          "gratitude",
          "wisdom",
          "happy",
          "power",
          "work",
          "content",
          "usa",
          "food",
          "amazing",
          "health",
          "you",
          "leadership",
          "today",
          "bb19",
          "america",
          "followers",
          "gameofthrones",
          "business",
          "shame",
          "wednesdaywisdom",
          "thursdaythoughts",
          "tuesdaythoughts",
          "lol",
          "beautiful",
          "entrepreneur"
         ],
         "xaxis": "x",
         "y": [
          3099,
          104,
          80,
          9,
          33,
          2,
          57,
          1,
          3,
          411,
          31,
          1568,
          826,
          1998,
          1,
          1837,
          643,
          346,
          1,
          663,
          9,
          492,
          267,
          243,
          982,
          288,
          44,
          151,
          334,
          2,
          412,
          468,
          6,
          554,
          180,
          463,
          491,
          25,
          210,
          1538,
          53,
          463,
          1,
          254,
          307,
          303,
          146,
          17,
          302
         ],
         "yaxis": "y"
        },
        {
         "alignmentgroup": "True",
         "hovertemplate": "variable=sadness<br>preprocessed_hashtags=%{x}<br>value=%{y}<extra></extra>",
         "legendgroup": "sadness",
         "marker": {
          "color": "#ab63fa",
          "pattern": {
           "shape": ""
          }
         },
         "name": "sadness",
         "offsetgroup": "sadness",
         "orientation": "v",
         "showlegend": true,
         "textposition": "auto",
         "type": "bar",
         "x": [
          "life",
          "love",
          "god",
          "dream",
          "blessed",
          "sad",
          "faith",
          "special",
          "everyday",
          "trump",
          "jesus",
          "hope",
          "motivation",
          "thanks",
          "wtf",
          "help",
          "success",
          "maga",
          "female",
          "inspiration",
          "awesome",
          "mondaymotivation",
          "people",
          "world",
          "gratitude",
          "wisdom",
          "happy",
          "power",
          "work",
          "content",
          "usa",
          "food",
          "amazing",
          "health",
          "you",
          "leadership",
          "today",
          "bb19",
          "america",
          "followers",
          "gameofthrones",
          "business",
          "shame",
          "wednesdaywisdom",
          "thursdaythoughts",
          "tuesdaythoughts",
          "lol",
          "beautiful",
          "entrepreneur"
         ],
         "xaxis": "x",
         "y": [
          507,
          18,
          15,
          3,
          11,
          5871,
          1,
          0,
          0,
          1195,
          6,
          3,
          39,
          27,
          8,
          506,
          41,
          1000,
          0,
          43,
          2,
          83,
          180,
          130,
          20,
          30,
          33,
          56,
          100,
          0,
          225,
          66,
          0,
          37,
          89,
          30,
          43,
          244,
          239,
          3,
          220,
          32,
          4,
          59,
          83,
          91,
          178,
          2,
          16
         ],
         "yaxis": "y"
        },
        {
         "alignmentgroup": "True",
         "hovertemplate": "variable=disgust<br>preprocessed_hashtags=%{x}<br>value=%{y}<extra></extra>",
         "legendgroup": "disgust",
         "marker": {
          "color": "#FFA15A",
          "pattern": {
           "shape": ""
          }
         },
         "name": "disgust",
         "offsetgroup": "disgust",
         "orientation": "v",
         "showlegend": true,
         "textposition": "auto",
         "type": "bar",
         "x": [
          "life",
          "love",
          "god",
          "dream",
          "blessed",
          "sad",
          "faith",
          "special",
          "everyday",
          "trump",
          "jesus",
          "hope",
          "motivation",
          "thanks",
          "wtf",
          "help",
          "success",
          "maga",
          "female",
          "inspiration",
          "awesome",
          "mondaymotivation",
          "people",
          "world",
          "gratitude",
          "wisdom",
          "happy",
          "power",
          "work",
          "content",
          "usa",
          "food",
          "amazing",
          "health",
          "you",
          "leadership",
          "today",
          "bb19",
          "america",
          "followers",
          "gameofthrones",
          "business",
          "shame",
          "wednesdaywisdom",
          "thursdaythoughts",
          "tuesdaythoughts",
          "lol",
          "beautiful",
          "entrepreneur"
         ],
         "xaxis": "x",
         "y": [
          151,
          3,
          11,
          1,
          0,
          9,
          1,
          2,
          0,
          1012,
          1,
          0,
          12,
          20,
          3674,
          192,
          12,
          403,
          1,
          2,
          3,
          26,
          164,
          87,
          3,
          15,
          1,
          54,
          68,
          0,
          220,
          68,
          2,
          18,
          65,
          34,
          24,
          560,
          202,
          3,
          318,
          22,
          1612,
          45,
          53,
          67,
          416,
          9,
          3
         ],
         "yaxis": "y"
        },
        {
         "alignmentgroup": "True",
         "hovertemplate": "variable=fear<br>preprocessed_hashtags=%{x}<br>value=%{y}<extra></extra>",
         "legendgroup": "fear",
         "marker": {
          "color": "#19d3f3",
          "pattern": {
           "shape": ""
          }
         },
         "name": "fear",
         "offsetgroup": "fear",
         "orientation": "v",
         "showlegend": true,
         "textposition": "auto",
         "type": "bar",
         "x": [
          "life",
          "love",
          "god",
          "dream",
          "blessed",
          "sad",
          "faith",
          "special",
          "everyday",
          "trump",
          "jesus",
          "hope",
          "motivation",
          "thanks",
          "wtf",
          "help",
          "success",
          "maga",
          "female",
          "inspiration",
          "awesome",
          "mondaymotivation",
          "people",
          "world",
          "gratitude",
          "wisdom",
          "happy",
          "power",
          "work",
          "content",
          "usa",
          "food",
          "amazing",
          "health",
          "you",
          "leadership",
          "today",
          "bb19",
          "america",
          "followers",
          "gameofthrones",
          "business",
          "shame",
          "wednesdaywisdom",
          "thursdaythoughts",
          "tuesdaythoughts",
          "lol",
          "beautiful",
          "entrepreneur"
         ],
         "xaxis": "x",
         "y": [
          195,
          15,
          16,
          0,
          1,
          2,
          10,
          0,
          2,
          127,
          4,
          5,
          85,
          6,
          0,
          99,
          130,
          33,
          0,
          51,
          1,
          43,
          48,
          38,
          18,
          72,
          1,
          554,
          39,
          0,
          21,
          6,
          0,
          16,
          34,
          43,
          18,
          24,
          28,
          0,
          411,
          47,
          0,
          31,
          39,
          35,
          46,
          1,
          34
         ],
         "yaxis": "y"
        },
        {
         "alignmentgroup": "True",
         "hovertemplate": "variable=surprise<br>preprocessed_hashtags=%{x}<br>value=%{y}<extra></extra>",
         "legendgroup": "surprise",
         "marker": {
          "color": "#FF6692",
          "pattern": {
           "shape": ""
          }
         },
         "name": "surprise",
         "offsetgroup": "surprise",
         "orientation": "v",
         "showlegend": true,
         "textposition": "auto",
         "type": "bar",
         "x": [
          "life",
          "love",
          "god",
          "dream",
          "blessed",
          "sad",
          "faith",
          "special",
          "everyday",
          "trump",
          "jesus",
          "hope",
          "motivation",
          "thanks",
          "wtf",
          "help",
          "success",
          "maga",
          "female",
          "inspiration",
          "awesome",
          "mondaymotivation",
          "people",
          "world",
          "gratitude",
          "wisdom",
          "happy",
          "power",
          "work",
          "content",
          "usa",
          "food",
          "amazing",
          "health",
          "you",
          "leadership",
          "today",
          "bb19",
          "america",
          "followers",
          "gameofthrones",
          "business",
          "shame",
          "wednesdaywisdom",
          "thursdaythoughts",
          "tuesdaythoughts",
          "lol",
          "beautiful",
          "entrepreneur"
         ],
         "xaxis": "x",
         "y": [
          193,
          11,
          4,
          3,
          0,
          5,
          2,
          1,
          1,
          313,
          3,
          0,
          24,
          13,
          3,
          94,
          16,
          102,
          0,
          16,
          2,
          31,
          96,
          105,
          5,
          9,
          4,
          30,
          41,
          0,
          52,
          39,
          0,
          14,
          54,
          9,
          18,
          75,
          48,
          4,
          99,
          23,
          0,
          19,
          33,
          27,
          101,
          0,
          8
         ],
         "yaxis": "y"
        },
        {
         "alignmentgroup": "True",
         "hovertemplate": "variable=anger<br>preprocessed_hashtags=%{x}<br>value=%{y}<extra></extra>",
         "legendgroup": "anger",
         "marker": {
          "color": "#B6E880",
          "pattern": {
           "shape": ""
          }
         },
         "name": "anger",
         "offsetgroup": "anger",
         "orientation": "v",
         "showlegend": true,
         "textposition": "auto",
         "type": "bar",
         "x": [
          "life",
          "love",
          "god",
          "dream",
          "blessed",
          "sad",
          "faith",
          "special",
          "everyday",
          "trump",
          "jesus",
          "hope",
          "motivation",
          "thanks",
          "wtf",
          "help",
          "success",
          "maga",
          "female",
          "inspiration",
          "awesome",
          "mondaymotivation",
          "people",
          "world",
          "gratitude",
          "wisdom",
          "happy",
          "power",
          "work",
          "content",
          "usa",
          "food",
          "amazing",
          "health",
          "you",
          "leadership",
          "today",
          "bb19",
          "america",
          "followers",
          "gameofthrones",
          "business",
          "shame",
          "wednesdaywisdom",
          "thursdaythoughts",
          "tuesdaythoughts",
          "lol",
          "beautiful",
          "entrepreneur"
         ],
         "xaxis": "x",
         "y": [
          66,
          3,
          5,
          1,
          0,
          6,
          0,
          0,
          1,
          86,
          1,
          0,
          13,
          7,
          3,
          80,
          9,
          50,
          0,
          11,
          0,
          17,
          51,
          31,
          1,
          17,
          2,
          18,
          59,
          0,
          25,
          9,
          0,
          25,
          19,
          12,
          6,
          537,
          30,
          1,
          24,
          12,
          0,
          19,
          30,
          20,
          27,
          0,
          2
         ],
         "yaxis": "y"
        }
       ],
       "layout": {
        "barmode": "relative",
        "height": 600,
        "legend": {
         "title": {
          "text": "variable"
         },
         "tracegroupgap": 0
        },
        "margin": {
         "t": 60
        },
        "template": {
         "data": {
          "bar": [
           {
            "error_x": {
             "color": "#2a3f5f"
            },
            "error_y": {
             "color": "#2a3f5f"
            },
            "marker": {
             "line": {
              "color": "#E5ECF6",
              "width": 0.5
             },
             "pattern": {
              "fillmode": "overlay",
              "size": 10,
              "solidity": 0.2
             }
            },
            "type": "bar"
           }
          ],
          "barpolar": [
           {
            "marker": {
             "line": {
              "color": "#E5ECF6",
              "width": 0.5
             },
             "pattern": {
              "fillmode": "overlay",
              "size": 10,
              "solidity": 0.2
             }
            },
            "type": "barpolar"
           }
          ],
          "carpet": [
           {
            "aaxis": {
             "endlinecolor": "#2a3f5f",
             "gridcolor": "white",
             "linecolor": "white",
             "minorgridcolor": "white",
             "startlinecolor": "#2a3f5f"
            },
            "baxis": {
             "endlinecolor": "#2a3f5f",
             "gridcolor": "white",
             "linecolor": "white",
             "minorgridcolor": "white",
             "startlinecolor": "#2a3f5f"
            },
            "type": "carpet"
           }
          ],
          "choropleth": [
           {
            "colorbar": {
             "outlinewidth": 0,
             "ticks": ""
            },
            "type": "choropleth"
           }
          ],
          "contour": [
           {
            "colorbar": {
             "outlinewidth": 0,
             "ticks": ""
            },
            "colorscale": [
             [
              0,
              "#0d0887"
             ],
             [
              0.1111111111111111,
              "#46039f"
             ],
             [
              0.2222222222222222,
              "#7201a8"
             ],
             [
              0.3333333333333333,
              "#9c179e"
             ],
             [
              0.4444444444444444,
              "#bd3786"
             ],
             [
              0.5555555555555556,
              "#d8576b"
             ],
             [
              0.6666666666666666,
              "#ed7953"
             ],
             [
              0.7777777777777778,
              "#fb9f3a"
             ],
             [
              0.8888888888888888,
              "#fdca26"
             ],
             [
              1,
              "#f0f921"
             ]
            ],
            "type": "contour"
           }
          ],
          "contourcarpet": [
           {
            "colorbar": {
             "outlinewidth": 0,
             "ticks": ""
            },
            "type": "contourcarpet"
           }
          ],
          "heatmap": [
           {
            "colorbar": {
             "outlinewidth": 0,
             "ticks": ""
            },
            "colorscale": [
             [
              0,
              "#0d0887"
             ],
             [
              0.1111111111111111,
              "#46039f"
             ],
             [
              0.2222222222222222,
              "#7201a8"
             ],
             [
              0.3333333333333333,
              "#9c179e"
             ],
             [
              0.4444444444444444,
              "#bd3786"
             ],
             [
              0.5555555555555556,
              "#d8576b"
             ],
             [
              0.6666666666666666,
              "#ed7953"
             ],
             [
              0.7777777777777778,
              "#fb9f3a"
             ],
             [
              0.8888888888888888,
              "#fdca26"
             ],
             [
              1,
              "#f0f921"
             ]
            ],
            "type": "heatmap"
           }
          ],
          "heatmapgl": [
           {
            "colorbar": {
             "outlinewidth": 0,
             "ticks": ""
            },
            "colorscale": [
             [
              0,
              "#0d0887"
             ],
             [
              0.1111111111111111,
              "#46039f"
             ],
             [
              0.2222222222222222,
              "#7201a8"
             ],
             [
              0.3333333333333333,
              "#9c179e"
             ],
             [
              0.4444444444444444,
              "#bd3786"
             ],
             [
              0.5555555555555556,
              "#d8576b"
             ],
             [
              0.6666666666666666,
              "#ed7953"
             ],
             [
              0.7777777777777778,
              "#fb9f3a"
             ],
             [
              0.8888888888888888,
              "#fdca26"
             ],
             [
              1,
              "#f0f921"
             ]
            ],
            "type": "heatmapgl"
           }
          ],
          "histogram": [
           {
            "marker": {
             "pattern": {
              "fillmode": "overlay",
              "size": 10,
              "solidity": 0.2
             }
            },
            "type": "histogram"
           }
          ],
          "histogram2d": [
           {
            "colorbar": {
             "outlinewidth": 0,
             "ticks": ""
            },
            "colorscale": [
             [
              0,
              "#0d0887"
             ],
             [
              0.1111111111111111,
              "#46039f"
             ],
             [
              0.2222222222222222,
              "#7201a8"
             ],
             [
              0.3333333333333333,
              "#9c179e"
             ],
             [
              0.4444444444444444,
              "#bd3786"
             ],
             [
              0.5555555555555556,
              "#d8576b"
             ],
             [
              0.6666666666666666,
              "#ed7953"
             ],
             [
              0.7777777777777778,
              "#fb9f3a"
             ],
             [
              0.8888888888888888,
              "#fdca26"
             ],
             [
              1,
              "#f0f921"
             ]
            ],
            "type": "histogram2d"
           }
          ],
          "histogram2dcontour": [
           {
            "colorbar": {
             "outlinewidth": 0,
             "ticks": ""
            },
            "colorscale": [
             [
              0,
              "#0d0887"
             ],
             [
              0.1111111111111111,
              "#46039f"
             ],
             [
              0.2222222222222222,
              "#7201a8"
             ],
             [
              0.3333333333333333,
              "#9c179e"
             ],
             [
              0.4444444444444444,
              "#bd3786"
             ],
             [
              0.5555555555555556,
              "#d8576b"
             ],
             [
              0.6666666666666666,
              "#ed7953"
             ],
             [
              0.7777777777777778,
              "#fb9f3a"
             ],
             [
              0.8888888888888888,
              "#fdca26"
             ],
             [
              1,
              "#f0f921"
             ]
            ],
            "type": "histogram2dcontour"
           }
          ],
          "mesh3d": [
           {
            "colorbar": {
             "outlinewidth": 0,
             "ticks": ""
            },
            "type": "mesh3d"
           }
          ],
          "parcoords": [
           {
            "line": {
             "colorbar": {
              "outlinewidth": 0,
              "ticks": ""
             }
            },
            "type": "parcoords"
           }
          ],
          "pie": [
           {
            "automargin": true,
            "type": "pie"
           }
          ],
          "scatter": [
           {
            "fillpattern": {
             "fillmode": "overlay",
             "size": 10,
             "solidity": 0.2
            },
            "type": "scatter"
           }
          ],
          "scatter3d": [
           {
            "line": {
             "colorbar": {
              "outlinewidth": 0,
              "ticks": ""
             }
            },
            "marker": {
             "colorbar": {
              "outlinewidth": 0,
              "ticks": ""
             }
            },
            "type": "scatter3d"
           }
          ],
          "scattercarpet": [
           {
            "marker": {
             "colorbar": {
              "outlinewidth": 0,
              "ticks": ""
             }
            },
            "type": "scattercarpet"
           }
          ],
          "scattergeo": [
           {
            "marker": {
             "colorbar": {
              "outlinewidth": 0,
              "ticks": ""
             }
            },
            "type": "scattergeo"
           }
          ],
          "scattergl": [
           {
            "marker": {
             "colorbar": {
              "outlinewidth": 0,
              "ticks": ""
             }
            },
            "type": "scattergl"
           }
          ],
          "scattermapbox": [
           {
            "marker": {
             "colorbar": {
              "outlinewidth": 0,
              "ticks": ""
             }
            },
            "type": "scattermapbox"
           }
          ],
          "scatterpolar": [
           {
            "marker": {
             "colorbar": {
              "outlinewidth": 0,
              "ticks": ""
             }
            },
            "type": "scatterpolar"
           }
          ],
          "scatterpolargl": [
           {
            "marker": {
             "colorbar": {
              "outlinewidth": 0,
              "ticks": ""
             }
            },
            "type": "scatterpolargl"
           }
          ],
          "scatterternary": [
           {
            "marker": {
             "colorbar": {
              "outlinewidth": 0,
              "ticks": ""
             }
            },
            "type": "scatterternary"
           }
          ],
          "surface": [
           {
            "colorbar": {
             "outlinewidth": 0,
             "ticks": ""
            },
            "colorscale": [
             [
              0,
              "#0d0887"
             ],
             [
              0.1111111111111111,
              "#46039f"
             ],
             [
              0.2222222222222222,
              "#7201a8"
             ],
             [
              0.3333333333333333,
              "#9c179e"
             ],
             [
              0.4444444444444444,
              "#bd3786"
             ],
             [
              0.5555555555555556,
              "#d8576b"
             ],
             [
              0.6666666666666666,
              "#ed7953"
             ],
             [
              0.7777777777777778,
              "#fb9f3a"
             ],
             [
              0.8888888888888888,
              "#fdca26"
             ],
             [
              1,
              "#f0f921"
             ]
            ],
            "type": "surface"
           }
          ],
          "table": [
           {
            "cells": {
             "fill": {
              "color": "#EBF0F8"
             },
             "line": {
              "color": "white"
             }
            },
            "header": {
             "fill": {
              "color": "#C8D4E3"
             },
             "line": {
              "color": "white"
             }
            },
            "type": "table"
           }
          ]
         },
         "layout": {
          "annotationdefaults": {
           "arrowcolor": "#2a3f5f",
           "arrowhead": 0,
           "arrowwidth": 1
          },
          "autotypenumbers": "strict",
          "coloraxis": {
           "colorbar": {
            "outlinewidth": 0,
            "ticks": ""
           }
          },
          "colorscale": {
           "diverging": [
            [
             0,
             "#8e0152"
            ],
            [
             0.1,
             "#c51b7d"
            ],
            [
             0.2,
             "#de77ae"
            ],
            [
             0.3,
             "#f1b6da"
            ],
            [
             0.4,
             "#fde0ef"
            ],
            [
             0.5,
             "#f7f7f7"
            ],
            [
             0.6,
             "#e6f5d0"
            ],
            [
             0.7,
             "#b8e186"
            ],
            [
             0.8,
             "#7fbc41"
            ],
            [
             0.9,
             "#4d9221"
            ],
            [
             1,
             "#276419"
            ]
           ],
           "sequential": [
            [
             0,
             "#0d0887"
            ],
            [
             0.1111111111111111,
             "#46039f"
            ],
            [
             0.2222222222222222,
             "#7201a8"
            ],
            [
             0.3333333333333333,
             "#9c179e"
            ],
            [
             0.4444444444444444,
             "#bd3786"
            ],
            [
             0.5555555555555556,
             "#d8576b"
            ],
            [
             0.6666666666666666,
             "#ed7953"
            ],
            [
             0.7777777777777778,
             "#fb9f3a"
            ],
            [
             0.8888888888888888,
             "#fdca26"
            ],
            [
             1,
             "#f0f921"
            ]
           ],
           "sequentialminus": [
            [
             0,
             "#0d0887"
            ],
            [
             0.1111111111111111,
             "#46039f"
            ],
            [
             0.2222222222222222,
             "#7201a8"
            ],
            [
             0.3333333333333333,
             "#9c179e"
            ],
            [
             0.4444444444444444,
             "#bd3786"
            ],
            [
             0.5555555555555556,
             "#d8576b"
            ],
            [
             0.6666666666666666,
             "#ed7953"
            ],
            [
             0.7777777777777778,
             "#fb9f3a"
            ],
            [
             0.8888888888888888,
             "#fdca26"
            ],
            [
             1,
             "#f0f921"
            ]
           ]
          },
          "colorway": [
           "#636efa",
           "#EF553B",
           "#00cc96",
           "#ab63fa",
           "#FFA15A",
           "#19d3f3",
           "#FF6692",
           "#B6E880",
           "#FF97FF",
           "#FECB52"
          ],
          "font": {
           "color": "#2a3f5f"
          },
          "geo": {
           "bgcolor": "white",
           "lakecolor": "white",
           "landcolor": "#E5ECF6",
           "showlakes": true,
           "showland": true,
           "subunitcolor": "white"
          },
          "hoverlabel": {
           "align": "left"
          },
          "hovermode": "closest",
          "mapbox": {
           "style": "light"
          },
          "paper_bgcolor": "white",
          "plot_bgcolor": "#E5ECF6",
          "polar": {
           "angularaxis": {
            "gridcolor": "white",
            "linecolor": "white",
            "ticks": ""
           },
           "bgcolor": "#E5ECF6",
           "radialaxis": {
            "gridcolor": "white",
            "linecolor": "white",
            "ticks": ""
           }
          },
          "scene": {
           "xaxis": {
            "backgroundcolor": "#E5ECF6",
            "gridcolor": "white",
            "gridwidth": 2,
            "linecolor": "white",
            "showbackground": true,
            "ticks": "",
            "zerolinecolor": "white"
           },
           "yaxis": {
            "backgroundcolor": "#E5ECF6",
            "gridcolor": "white",
            "gridwidth": 2,
            "linecolor": "white",
            "showbackground": true,
            "ticks": "",
            "zerolinecolor": "white"
           },
           "zaxis": {
            "backgroundcolor": "#E5ECF6",
            "gridcolor": "white",
            "gridwidth": 2,
            "linecolor": "white",
            "showbackground": true,
            "ticks": "",
            "zerolinecolor": "white"
           }
          },
          "shapedefaults": {
           "line": {
            "color": "#2a3f5f"
           }
          },
          "ternary": {
           "aaxis": {
            "gridcolor": "white",
            "linecolor": "white",
            "ticks": ""
           },
           "baxis": {
            "gridcolor": "white",
            "linecolor": "white",
            "ticks": ""
           },
           "bgcolor": "#E5ECF6",
           "caxis": {
            "gridcolor": "white",
            "linecolor": "white",
            "ticks": ""
           }
          },
          "title": {
           "x": 0.05
          },
          "xaxis": {
           "automargin": true,
           "gridcolor": "white",
           "linecolor": "white",
           "ticks": "",
           "title": {
            "standoff": 15
           },
           "zerolinecolor": "white",
           "zerolinewidth": 2
          },
          "yaxis": {
           "automargin": true,
           "gridcolor": "white",
           "linecolor": "white",
           "ticks": "",
           "title": {
            "standoff": 15
           },
           "zerolinecolor": "white",
           "zerolinewidth": 2
          }
         }
        },
        "xaxis": {
         "anchor": "y",
         "domain": [
          0,
          1
         ],
         "title": {
          "text": "preprocessed_hashtags"
         }
        },
        "yaxis": {
         "anchor": "x",
         "domain": [
          0,
          1
         ],
         "title": {
          "text": "value"
         }
        }
       }
      }
     },
     "metadata": {},
     "output_type": "display_data"
    }
   ],
   "source": [
    "visual_dataframe = pd.read_csv(\"EDA/hashtags_emotion_table.csv\").set_index(\"preprocessed_hashtags\")\n",
    "visual_dataframe['total'] = visual_dataframe.sum(axis=1)\n",
    "visual_dataframe.sort_values(by=\"total\", ascending=False, inplace=True)\n",
    "px.bar(visual_dataframe[EMOTION_NAMES].iloc[1:50], y=EMOTION_NAMES, height=600)"
   ]
  },
  {
   "cell_type": "markdown",
   "metadata": {},
   "source": [
    "Some of tags are highly related to the emotion( ex. dream -> anticipation)"
   ]
  },
  {
   "cell_type": "markdown",
   "metadata": {},
   "source": [
    "##### Transform hashtags to emotion ratio base on the frequency."
   ]
  },
  {
   "cell_type": "code",
   "execution_count": 13,
   "metadata": {},
   "outputs": [],
   "source": [
    "from datetime import datetime \n",
    "import re\n",
    "import os\n",
    "\n",
    "import numpy as np\n",
    "import pandas as pd\n",
    "import matplotlib.pyplot as plt\n",
    "import seaborn as sns\n",
    "import plotly.express as px\n",
    "\n",
    "from tqdm.auto import tqdm\n",
    "tqdm.pandas()"
   ]
  },
  {
   "cell_type": "code",
   "execution_count": 14,
   "metadata": {},
   "outputs": [
    {
     "data": {
      "text/html": [
       "<div>\n",
       "<style scoped>\n",
       "    .dataframe tbody tr th:only-of-type {\n",
       "        vertical-align: middle;\n",
       "    }\n",
       "\n",
       "    .dataframe tbody tr th {\n",
       "        vertical-align: top;\n",
       "    }\n",
       "\n",
       "    .dataframe thead th {\n",
       "        text-align: right;\n",
       "    }\n",
       "</style>\n",
       "<table border=\"1\" class=\"dataframe\">\n",
       "  <thead>\n",
       "    <tr style=\"text-align: right;\">\n",
       "      <th></th>\n",
       "      <th>anger</th>\n",
       "      <th>anticipation</th>\n",
       "      <th>disgust</th>\n",
       "      <th>fear</th>\n",
       "      <th>joy</th>\n",
       "      <th>sadness</th>\n",
       "      <th>surprise</th>\n",
       "      <th>trust</th>\n",
       "    </tr>\n",
       "    <tr>\n",
       "      <th>preprocessed_hashtags</th>\n",
       "      <th></th>\n",
       "      <th></th>\n",
       "      <th></th>\n",
       "      <th></th>\n",
       "      <th></th>\n",
       "      <th></th>\n",
       "      <th></th>\n",
       "      <th></th>\n",
       "    </tr>\n",
       "  </thead>\n",
       "  <tbody>\n",
       "    <tr>\n",
       "      <th>0</th>\n",
       "      <td>2.0</td>\n",
       "      <td>0.0</td>\n",
       "      <td>9.0</td>\n",
       "      <td>0.0</td>\n",
       "      <td>6.0</td>\n",
       "      <td>6.0</td>\n",
       "      <td>0.0</td>\n",
       "      <td>0.0</td>\n",
       "    </tr>\n",
       "    <tr>\n",
       "      <th>00</th>\n",
       "      <td>0.0</td>\n",
       "      <td>0.0</td>\n",
       "      <td>0.0</td>\n",
       "      <td>0.0</td>\n",
       "      <td>1.0</td>\n",
       "      <td>0.0</td>\n",
       "      <td>0.0</td>\n",
       "      <td>0.0</td>\n",
       "    </tr>\n",
       "    <tr>\n",
       "      <th>0000ff</th>\n",
       "      <td>0.0</td>\n",
       "      <td>0.0</td>\n",
       "      <td>0.0</td>\n",
       "      <td>0.0</td>\n",
       "      <td>0.0</td>\n",
       "      <td>1.0</td>\n",
       "      <td>0.0</td>\n",
       "      <td>0.0</td>\n",
       "    </tr>\n",
       "    <tr>\n",
       "      <th>0001</th>\n",
       "      <td>0.0</td>\n",
       "      <td>0.0</td>\n",
       "      <td>1.0</td>\n",
       "      <td>0.0</td>\n",
       "      <td>0.0</td>\n",
       "      <td>0.0</td>\n",
       "      <td>0.0</td>\n",
       "      <td>0.0</td>\n",
       "    </tr>\n",
       "    <tr>\n",
       "      <th>0002</th>\n",
       "      <td>0.0</td>\n",
       "      <td>0.0</td>\n",
       "      <td>1.0</td>\n",
       "      <td>0.0</td>\n",
       "      <td>0.0</td>\n",
       "      <td>0.0</td>\n",
       "      <td>0.0</td>\n",
       "      <td>0.0</td>\n",
       "    </tr>\n",
       "    <tr>\n",
       "      <th>...</th>\n",
       "      <td>...</td>\n",
       "      <td>...</td>\n",
       "      <td>...</td>\n",
       "      <td>...</td>\n",
       "      <td>...</td>\n",
       "      <td>...</td>\n",
       "      <td>...</td>\n",
       "      <td>...</td>\n",
       "    </tr>\n",
       "    <tr>\n",
       "      <th>２０２１</th>\n",
       "      <td>0.0</td>\n",
       "      <td>0.0</td>\n",
       "      <td>0.0</td>\n",
       "      <td>0.0</td>\n",
       "      <td>1.0</td>\n",
       "      <td>0.0</td>\n",
       "      <td>0.0</td>\n",
       "      <td>0.0</td>\n",
       "    </tr>\n",
       "    <tr>\n",
       "      <th>２４歳</th>\n",
       "      <td>0.0</td>\n",
       "      <td>0.0</td>\n",
       "      <td>0.0</td>\n",
       "      <td>0.0</td>\n",
       "      <td>1.0</td>\n",
       "      <td>0.0</td>\n",
       "      <td>0.0</td>\n",
       "      <td>0.0</td>\n",
       "    </tr>\n",
       "    <tr>\n",
       "      <th>ｆｏｌｌｏｗ</th>\n",
       "      <td>0.0</td>\n",
       "      <td>0.0</td>\n",
       "      <td>0.0</td>\n",
       "      <td>0.0</td>\n",
       "      <td>2.0</td>\n",
       "      <td>0.0</td>\n",
       "      <td>0.0</td>\n",
       "      <td>0.0</td>\n",
       "    </tr>\n",
       "    <tr>\n",
       "      <th>ｓlｅep</th>\n",
       "      <td>0.0</td>\n",
       "      <td>0.0</td>\n",
       "      <td>1.0</td>\n",
       "      <td>0.0</td>\n",
       "      <td>0.0</td>\n",
       "      <td>0.0</td>\n",
       "      <td>0.0</td>\n",
       "      <td>0.0</td>\n",
       "    </tr>\n",
       "    <tr>\n",
       "      <th>ｔｕnp</th>\n",
       "      <td>0.0</td>\n",
       "      <td>0.0</td>\n",
       "      <td>0.0</td>\n",
       "      <td>0.0</td>\n",
       "      <td>1.0</td>\n",
       "      <td>1.0</td>\n",
       "      <td>0.0</td>\n",
       "      <td>0.0</td>\n",
       "    </tr>\n",
       "  </tbody>\n",
       "</table>\n",
       "<p>325137 rows × 8 columns</p>\n",
       "</div>"
      ],
      "text/plain": [
       "                       anger  anticipation  disgust  fear  joy  sadness  \\\n",
       "preprocessed_hashtags                                                     \n",
       "0                        2.0           0.0      9.0   0.0  6.0      6.0   \n",
       "00                       0.0           0.0      0.0   0.0  1.0      0.0   \n",
       "0000ff                   0.0           0.0      0.0   0.0  0.0      1.0   \n",
       "0001                     0.0           0.0      1.0   0.0  0.0      0.0   \n",
       "0002                     0.0           0.0      1.0   0.0  0.0      0.0   \n",
       "...                      ...           ...      ...   ...  ...      ...   \n",
       "２０２１                     0.0           0.0      0.0   0.0  1.0      0.0   \n",
       "２４歳                      0.0           0.0      0.0   0.0  1.0      0.0   \n",
       "ｆｏｌｌｏｗ                   0.0           0.0      0.0   0.0  2.0      0.0   \n",
       "ｓlｅep                    0.0           0.0      1.0   0.0  0.0      0.0   \n",
       "ｔｕnp                     0.0           0.0      0.0   0.0  1.0      1.0   \n",
       "\n",
       "                       surprise  trust  \n",
       "preprocessed_hashtags                   \n",
       "0                           0.0    0.0  \n",
       "00                          0.0    0.0  \n",
       "0000ff                      0.0    0.0  \n",
       "0001                        0.0    0.0  \n",
       "0002                        0.0    0.0  \n",
       "...                         ...    ...  \n",
       "２０２１                        0.0    0.0  \n",
       "２４歳                         0.0    0.0  \n",
       "ｆｏｌｌｏｗ                      0.0    0.0  \n",
       "ｓlｅep                       0.0    0.0  \n",
       "ｔｕnp                        0.0    0.0  \n",
       "\n",
       "[325137 rows x 8 columns]"
      ]
     },
     "execution_count": 14,
     "metadata": {},
     "output_type": "execute_result"
    }
   ],
   "source": [
    "hashtags_emotion_table= pd.read_csv(\"EDA/hashtags_emotion_table.csv\").set_index(\"preprocessed_hashtags\")\n",
    "hashtags_emotion_table"
   ]
  },
  {
   "cell_type": "code",
   "execution_count": 15,
   "metadata": {},
   "outputs": [],
   "source": [
    "# Read files\n",
    "train_data = pd.read_pickle('data/train_data.pkl')\n",
    "train_labels = pd.read_pickle('data/train_labels.pkl')\n",
    "data = pd.concat([train_data, train_labels], axis=1)# Make frame"
   ]
  },
  {
   "cell_type": "code",
   "execution_count": 25,
   "metadata": {},
   "outputs": [],
   "source": [
    "def generate_ratio_table(data: pd.DataFrame):\n",
    "    data = data.add(1, axis=1) # To avoid ratio become 0\n",
    "    data[\"total\"] = data.sum(axis=1)\n",
    "    for emotion in EMOTION_NAMES:\n",
    "        data[emotion+'_ratio'] = data[emotion]/ data['total']\n",
    "    return data"
   ]
  },
  {
   "cell_type": "code",
   "execution_count": 26,
   "metadata": {},
   "outputs": [
    {
     "data": {
      "text/html": [
       "<div>\n",
       "<style scoped>\n",
       "    .dataframe tbody tr th:only-of-type {\n",
       "        vertical-align: middle;\n",
       "    }\n",
       "\n",
       "    .dataframe tbody tr th {\n",
       "        vertical-align: top;\n",
       "    }\n",
       "\n",
       "    .dataframe thead th {\n",
       "        text-align: right;\n",
       "    }\n",
       "</style>\n",
       "<table border=\"1\" class=\"dataframe\">\n",
       "  <thead>\n",
       "    <tr style=\"text-align: right;\">\n",
       "      <th></th>\n",
       "      <th>anger</th>\n",
       "      <th>anticipation</th>\n",
       "      <th>disgust</th>\n",
       "      <th>fear</th>\n",
       "      <th>joy</th>\n",
       "      <th>sadness</th>\n",
       "      <th>surprise</th>\n",
       "      <th>trust</th>\n",
       "      <th>total</th>\n",
       "      <th>joy_ratio</th>\n",
       "      <th>anticipation_ratio</th>\n",
       "      <th>trust_ratio</th>\n",
       "      <th>sadness_ratio</th>\n",
       "      <th>disgust_ratio</th>\n",
       "      <th>fear_ratio</th>\n",
       "      <th>surprise_ratio</th>\n",
       "      <th>anger_ratio</th>\n",
       "    </tr>\n",
       "    <tr>\n",
       "      <th>preprocessed_hashtags</th>\n",
       "      <th></th>\n",
       "      <th></th>\n",
       "      <th></th>\n",
       "      <th></th>\n",
       "      <th></th>\n",
       "      <th></th>\n",
       "      <th></th>\n",
       "      <th></th>\n",
       "      <th></th>\n",
       "      <th></th>\n",
       "      <th></th>\n",
       "      <th></th>\n",
       "      <th></th>\n",
       "      <th></th>\n",
       "      <th></th>\n",
       "      <th></th>\n",
       "      <th></th>\n",
       "    </tr>\n",
       "  </thead>\n",
       "  <tbody>\n",
       "    <tr>\n",
       "      <th>0</th>\n",
       "      <td>3.0</td>\n",
       "      <td>1.0</td>\n",
       "      <td>10.0</td>\n",
       "      <td>1.0</td>\n",
       "      <td>7.0</td>\n",
       "      <td>7.0</td>\n",
       "      <td>1.0</td>\n",
       "      <td>1.0</td>\n",
       "      <td>31.0</td>\n",
       "      <td>0.225806</td>\n",
       "      <td>0.032258</td>\n",
       "      <td>0.032258</td>\n",
       "      <td>0.225806</td>\n",
       "      <td>0.322581</td>\n",
       "      <td>0.032258</td>\n",
       "      <td>0.032258</td>\n",
       "      <td>0.096774</td>\n",
       "    </tr>\n",
       "    <tr>\n",
       "      <th>00</th>\n",
       "      <td>1.0</td>\n",
       "      <td>1.0</td>\n",
       "      <td>1.0</td>\n",
       "      <td>1.0</td>\n",
       "      <td>2.0</td>\n",
       "      <td>1.0</td>\n",
       "      <td>1.0</td>\n",
       "      <td>1.0</td>\n",
       "      <td>9.0</td>\n",
       "      <td>0.222222</td>\n",
       "      <td>0.111111</td>\n",
       "      <td>0.111111</td>\n",
       "      <td>0.111111</td>\n",
       "      <td>0.111111</td>\n",
       "      <td>0.111111</td>\n",
       "      <td>0.111111</td>\n",
       "      <td>0.111111</td>\n",
       "    </tr>\n",
       "    <tr>\n",
       "      <th>0000ff</th>\n",
       "      <td>1.0</td>\n",
       "      <td>1.0</td>\n",
       "      <td>1.0</td>\n",
       "      <td>1.0</td>\n",
       "      <td>1.0</td>\n",
       "      <td>2.0</td>\n",
       "      <td>1.0</td>\n",
       "      <td>1.0</td>\n",
       "      <td>9.0</td>\n",
       "      <td>0.111111</td>\n",
       "      <td>0.111111</td>\n",
       "      <td>0.111111</td>\n",
       "      <td>0.222222</td>\n",
       "      <td>0.111111</td>\n",
       "      <td>0.111111</td>\n",
       "      <td>0.111111</td>\n",
       "      <td>0.111111</td>\n",
       "    </tr>\n",
       "    <tr>\n",
       "      <th>0001</th>\n",
       "      <td>1.0</td>\n",
       "      <td>1.0</td>\n",
       "      <td>2.0</td>\n",
       "      <td>1.0</td>\n",
       "      <td>1.0</td>\n",
       "      <td>1.0</td>\n",
       "      <td>1.0</td>\n",
       "      <td>1.0</td>\n",
       "      <td>9.0</td>\n",
       "      <td>0.111111</td>\n",
       "      <td>0.111111</td>\n",
       "      <td>0.111111</td>\n",
       "      <td>0.111111</td>\n",
       "      <td>0.222222</td>\n",
       "      <td>0.111111</td>\n",
       "      <td>0.111111</td>\n",
       "      <td>0.111111</td>\n",
       "    </tr>\n",
       "    <tr>\n",
       "      <th>0002</th>\n",
       "      <td>1.0</td>\n",
       "      <td>1.0</td>\n",
       "      <td>2.0</td>\n",
       "      <td>1.0</td>\n",
       "      <td>1.0</td>\n",
       "      <td>1.0</td>\n",
       "      <td>1.0</td>\n",
       "      <td>1.0</td>\n",
       "      <td>9.0</td>\n",
       "      <td>0.111111</td>\n",
       "      <td>0.111111</td>\n",
       "      <td>0.111111</td>\n",
       "      <td>0.111111</td>\n",
       "      <td>0.222222</td>\n",
       "      <td>0.111111</td>\n",
       "      <td>0.111111</td>\n",
       "      <td>0.111111</td>\n",
       "    </tr>\n",
       "    <tr>\n",
       "      <th>...</th>\n",
       "      <td>...</td>\n",
       "      <td>...</td>\n",
       "      <td>...</td>\n",
       "      <td>...</td>\n",
       "      <td>...</td>\n",
       "      <td>...</td>\n",
       "      <td>...</td>\n",
       "      <td>...</td>\n",
       "      <td>...</td>\n",
       "      <td>...</td>\n",
       "      <td>...</td>\n",
       "      <td>...</td>\n",
       "      <td>...</td>\n",
       "      <td>...</td>\n",
       "      <td>...</td>\n",
       "      <td>...</td>\n",
       "      <td>...</td>\n",
       "    </tr>\n",
       "    <tr>\n",
       "      <th>２０２１</th>\n",
       "      <td>1.0</td>\n",
       "      <td>1.0</td>\n",
       "      <td>1.0</td>\n",
       "      <td>1.0</td>\n",
       "      <td>2.0</td>\n",
       "      <td>1.0</td>\n",
       "      <td>1.0</td>\n",
       "      <td>1.0</td>\n",
       "      <td>9.0</td>\n",
       "      <td>0.222222</td>\n",
       "      <td>0.111111</td>\n",
       "      <td>0.111111</td>\n",
       "      <td>0.111111</td>\n",
       "      <td>0.111111</td>\n",
       "      <td>0.111111</td>\n",
       "      <td>0.111111</td>\n",
       "      <td>0.111111</td>\n",
       "    </tr>\n",
       "    <tr>\n",
       "      <th>２４歳</th>\n",
       "      <td>1.0</td>\n",
       "      <td>1.0</td>\n",
       "      <td>1.0</td>\n",
       "      <td>1.0</td>\n",
       "      <td>2.0</td>\n",
       "      <td>1.0</td>\n",
       "      <td>1.0</td>\n",
       "      <td>1.0</td>\n",
       "      <td>9.0</td>\n",
       "      <td>0.222222</td>\n",
       "      <td>0.111111</td>\n",
       "      <td>0.111111</td>\n",
       "      <td>0.111111</td>\n",
       "      <td>0.111111</td>\n",
       "      <td>0.111111</td>\n",
       "      <td>0.111111</td>\n",
       "      <td>0.111111</td>\n",
       "    </tr>\n",
       "    <tr>\n",
       "      <th>ｆｏｌｌｏｗ</th>\n",
       "      <td>1.0</td>\n",
       "      <td>1.0</td>\n",
       "      <td>1.0</td>\n",
       "      <td>1.0</td>\n",
       "      <td>3.0</td>\n",
       "      <td>1.0</td>\n",
       "      <td>1.0</td>\n",
       "      <td>1.0</td>\n",
       "      <td>10.0</td>\n",
       "      <td>0.300000</td>\n",
       "      <td>0.100000</td>\n",
       "      <td>0.100000</td>\n",
       "      <td>0.100000</td>\n",
       "      <td>0.100000</td>\n",
       "      <td>0.100000</td>\n",
       "      <td>0.100000</td>\n",
       "      <td>0.100000</td>\n",
       "    </tr>\n",
       "    <tr>\n",
       "      <th>ｓlｅep</th>\n",
       "      <td>1.0</td>\n",
       "      <td>1.0</td>\n",
       "      <td>2.0</td>\n",
       "      <td>1.0</td>\n",
       "      <td>1.0</td>\n",
       "      <td>1.0</td>\n",
       "      <td>1.0</td>\n",
       "      <td>1.0</td>\n",
       "      <td>9.0</td>\n",
       "      <td>0.111111</td>\n",
       "      <td>0.111111</td>\n",
       "      <td>0.111111</td>\n",
       "      <td>0.111111</td>\n",
       "      <td>0.222222</td>\n",
       "      <td>0.111111</td>\n",
       "      <td>0.111111</td>\n",
       "      <td>0.111111</td>\n",
       "    </tr>\n",
       "    <tr>\n",
       "      <th>ｔｕnp</th>\n",
       "      <td>1.0</td>\n",
       "      <td>1.0</td>\n",
       "      <td>1.0</td>\n",
       "      <td>1.0</td>\n",
       "      <td>2.0</td>\n",
       "      <td>2.0</td>\n",
       "      <td>1.0</td>\n",
       "      <td>1.0</td>\n",
       "      <td>10.0</td>\n",
       "      <td>0.200000</td>\n",
       "      <td>0.100000</td>\n",
       "      <td>0.100000</td>\n",
       "      <td>0.200000</td>\n",
       "      <td>0.100000</td>\n",
       "      <td>0.100000</td>\n",
       "      <td>0.100000</td>\n",
       "      <td>0.100000</td>\n",
       "    </tr>\n",
       "  </tbody>\n",
       "</table>\n",
       "<p>325137 rows × 17 columns</p>\n",
       "</div>"
      ],
      "text/plain": [
       "                       anger  anticipation  disgust  fear  joy  sadness  \\\n",
       "preprocessed_hashtags                                                     \n",
       "0                        3.0           1.0     10.0   1.0  7.0      7.0   \n",
       "00                       1.0           1.0      1.0   1.0  2.0      1.0   \n",
       "0000ff                   1.0           1.0      1.0   1.0  1.0      2.0   \n",
       "0001                     1.0           1.0      2.0   1.0  1.0      1.0   \n",
       "0002                     1.0           1.0      2.0   1.0  1.0      1.0   \n",
       "...                      ...           ...      ...   ...  ...      ...   \n",
       "２０２１                     1.0           1.0      1.0   1.0  2.0      1.0   \n",
       "２４歳                      1.0           1.0      1.0   1.0  2.0      1.0   \n",
       "ｆｏｌｌｏｗ                   1.0           1.0      1.0   1.0  3.0      1.0   \n",
       "ｓlｅep                    1.0           1.0      2.0   1.0  1.0      1.0   \n",
       "ｔｕnp                     1.0           1.0      1.0   1.0  2.0      2.0   \n",
       "\n",
       "                       surprise  trust  total  joy_ratio  anticipation_ratio  \\\n",
       "preprocessed_hashtags                                                          \n",
       "0                           1.0    1.0   31.0   0.225806            0.032258   \n",
       "00                          1.0    1.0    9.0   0.222222            0.111111   \n",
       "0000ff                      1.0    1.0    9.0   0.111111            0.111111   \n",
       "0001                        1.0    1.0    9.0   0.111111            0.111111   \n",
       "0002                        1.0    1.0    9.0   0.111111            0.111111   \n",
       "...                         ...    ...    ...        ...                 ...   \n",
       "２０２１                        1.0    1.0    9.0   0.222222            0.111111   \n",
       "２４歳                         1.0    1.0    9.0   0.222222            0.111111   \n",
       "ｆｏｌｌｏｗ                      1.0    1.0   10.0   0.300000            0.100000   \n",
       "ｓlｅep                       1.0    1.0    9.0   0.111111            0.111111   \n",
       "ｔｕnp                        1.0    1.0   10.0   0.200000            0.100000   \n",
       "\n",
       "                       trust_ratio  sadness_ratio  disgust_ratio  fear_ratio  \\\n",
       "preprocessed_hashtags                                                          \n",
       "0                         0.032258       0.225806       0.322581    0.032258   \n",
       "00                        0.111111       0.111111       0.111111    0.111111   \n",
       "0000ff                    0.111111       0.222222       0.111111    0.111111   \n",
       "0001                      0.111111       0.111111       0.222222    0.111111   \n",
       "0002                      0.111111       0.111111       0.222222    0.111111   \n",
       "...                            ...            ...            ...         ...   \n",
       "２０２１                      0.111111       0.111111       0.111111    0.111111   \n",
       "２４歳                       0.111111       0.111111       0.111111    0.111111   \n",
       "ｆｏｌｌｏｗ                    0.100000       0.100000       0.100000    0.100000   \n",
       "ｓlｅep                     0.111111       0.111111       0.222222    0.111111   \n",
       "ｔｕnp                      0.100000       0.200000       0.100000    0.100000   \n",
       "\n",
       "                       surprise_ratio  anger_ratio  \n",
       "preprocessed_hashtags                               \n",
       "0                            0.032258     0.096774  \n",
       "00                           0.111111     0.111111  \n",
       "0000ff                       0.111111     0.111111  \n",
       "0001                         0.111111     0.111111  \n",
       "0002                         0.111111     0.111111  \n",
       "...                               ...          ...  \n",
       "２０２１                         0.111111     0.111111  \n",
       "２４歳                          0.111111     0.111111  \n",
       "ｆｏｌｌｏｗ                       0.100000     0.100000  \n",
       "ｓlｅep                        0.111111     0.111111  \n",
       "ｔｕnp                         0.100000     0.100000  \n",
       "\n",
       "[325137 rows x 17 columns]"
      ]
     },
     "execution_count": 26,
     "metadata": {},
     "output_type": "execute_result"
    }
   ],
   "source": [
    "freauency_table = generate_ratio_table(hashtags_emotion_table)\n",
    "freauency_table"
   ]
  },
  {
   "cell_type": "code",
   "execution_count": 44,
   "metadata": {},
   "outputs": [],
   "source": [
    "def generate_ratio_dataframe(data:pd.DataFrame, frequency_table:pd.DataFrame):\n",
    "    temp = data[[\"preprocessed_hashtags\"]].explode(\"preprocessed_hashtags\").fillna(\"noTag\")\n",
    "    temp = temp.join(frequency_table[['total', *[emotion+'_ratio' for emotion in EMOTION_NAMES]]], on=\"preprocessed_hashtags\", how='left')\n",
    "    temp = temp[[emotion+'_ratio' for emotion in EMOTION_NAMES]].mul(temp['total'] / temp.groupby('tweet_id')['total'].sum(), axis=0)\n",
    "    return temp.groupby('tweet_id').sum()"
   ]
  },
  {
   "cell_type": "code",
   "execution_count": 45,
   "metadata": {},
   "outputs": [
    {
     "data": {
      "text/html": [
       "<div>\n",
       "<style scoped>\n",
       "    .dataframe tbody tr th:only-of-type {\n",
       "        vertical-align: middle;\n",
       "    }\n",
       "\n",
       "    .dataframe tbody tr th {\n",
       "        vertical-align: top;\n",
       "    }\n",
       "\n",
       "    .dataframe thead th {\n",
       "        text-align: right;\n",
       "    }\n",
       "</style>\n",
       "<table border=\"1\" class=\"dataframe\">\n",
       "  <thead>\n",
       "    <tr style=\"text-align: right;\">\n",
       "      <th></th>\n",
       "      <th>joy_ratio</th>\n",
       "      <th>anticipation_ratio</th>\n",
       "      <th>trust_ratio</th>\n",
       "      <th>sadness_ratio</th>\n",
       "      <th>disgust_ratio</th>\n",
       "      <th>fear_ratio</th>\n",
       "      <th>surprise_ratio</th>\n",
       "      <th>anger_ratio</th>\n",
       "    </tr>\n",
       "    <tr>\n",
       "      <th>tweet_id</th>\n",
       "      <th></th>\n",
       "      <th></th>\n",
       "      <th></th>\n",
       "      <th></th>\n",
       "      <th></th>\n",
       "      <th></th>\n",
       "      <th></th>\n",
       "      <th></th>\n",
       "    </tr>\n",
       "  </thead>\n",
       "  <tbody>\n",
       "    <tr>\n",
       "      <th>0x1c7f10</th>\n",
       "      <td>0.258065</td>\n",
       "      <td>0.161290</td>\n",
       "      <td>0.096774</td>\n",
       "      <td>0.096774</td>\n",
       "      <td>0.161290</td>\n",
       "      <td>0.064516</td>\n",
       "      <td>0.129032</td>\n",
       "      <td>0.032258</td>\n",
       "    </tr>\n",
       "    <tr>\n",
       "      <th>0x1c7f11</th>\n",
       "      <td>0.377564</td>\n",
       "      <td>0.223077</td>\n",
       "      <td>0.143590</td>\n",
       "      <td>0.092949</td>\n",
       "      <td>0.071154</td>\n",
       "      <td>0.037821</td>\n",
       "      <td>0.025000</td>\n",
       "      <td>0.028846</td>\n",
       "    </tr>\n",
       "    <tr>\n",
       "      <th>0x1c7f14</th>\n",
       "      <td>0.363958</td>\n",
       "      <td>0.138407</td>\n",
       "      <td>0.133520</td>\n",
       "      <td>0.147634</td>\n",
       "      <td>0.092293</td>\n",
       "      <td>0.058833</td>\n",
       "      <td>0.034180</td>\n",
       "      <td>0.031175</td>\n",
       "    </tr>\n",
       "    <tr>\n",
       "      <th>0x1c7f15</th>\n",
       "      <td>0.256705</td>\n",
       "      <td>0.172414</td>\n",
       "      <td>0.107280</td>\n",
       "      <td>0.103448</td>\n",
       "      <td>0.229885</td>\n",
       "      <td>0.053640</td>\n",
       "      <td>0.053640</td>\n",
       "      <td>0.022989</td>\n",
       "    </tr>\n",
       "    <tr>\n",
       "      <th>0x1c7f16</th>\n",
       "      <td>0.363958</td>\n",
       "      <td>0.138407</td>\n",
       "      <td>0.133520</td>\n",
       "      <td>0.147634</td>\n",
       "      <td>0.092293</td>\n",
       "      <td>0.058833</td>\n",
       "      <td>0.034180</td>\n",
       "      <td>0.031175</td>\n",
       "    </tr>\n",
       "  </tbody>\n",
       "</table>\n",
       "</div>"
      ],
      "text/plain": [
       "          joy_ratio  anticipation_ratio  trust_ratio  sadness_ratio  \\\n",
       "tweet_id                                                              \n",
       "0x1c7f10   0.258065            0.161290     0.096774       0.096774   \n",
       "0x1c7f11   0.377564            0.223077     0.143590       0.092949   \n",
       "0x1c7f14   0.363958            0.138407     0.133520       0.147634   \n",
       "0x1c7f15   0.256705            0.172414     0.107280       0.103448   \n",
       "0x1c7f16   0.363958            0.138407     0.133520       0.147634   \n",
       "\n",
       "          disgust_ratio  fear_ratio  surprise_ratio  anger_ratio  \n",
       "tweet_id                                                          \n",
       "0x1c7f10       0.161290    0.064516        0.129032     0.032258  \n",
       "0x1c7f11       0.071154    0.037821        0.025000     0.028846  \n",
       "0x1c7f14       0.092293    0.058833        0.034180     0.031175  \n",
       "0x1c7f15       0.229885    0.053640        0.053640     0.022989  \n",
       "0x1c7f16       0.092293    0.058833        0.034180     0.031175  "
      ]
     },
     "execution_count": 45,
     "metadata": {},
     "output_type": "execute_result"
    }
   ],
   "source": [
    "train_ratio = generate_ratio_dataframe(train_data, freauency_table)\n",
    "train_ratio.head()"
   ]
  },
  {
   "cell_type": "code",
   "execution_count": 46,
   "metadata": {},
   "outputs": [],
   "source": [
    "assert np.all(train_ratio.index == train_data.index)"
   ]
  },
  {
   "cell_type": "code",
   "execution_count": 52,
   "metadata": {},
   "outputs": [],
   "source": [
    "train_data = pd.read_pickle('data/train_data.pkl')\n",
    "train_data = pd.concat([train_data,train_ratio], axis=1)\n",
    "train_data.to_pickle(\"data/train_data.pkl\")"
   ]
  },
  {
   "cell_type": "code",
   "execution_count": 56,
   "metadata": {},
   "outputs": [
    {
     "data": {
      "text/html": [
       "<div>\n",
       "<style scoped>\n",
       "    .dataframe tbody tr th:only-of-type {\n",
       "        vertical-align: middle;\n",
       "    }\n",
       "\n",
       "    .dataframe tbody tr th {\n",
       "        vertical-align: top;\n",
       "    }\n",
       "\n",
       "    .dataframe thead th {\n",
       "        text-align: right;\n",
       "    }\n",
       "</style>\n",
       "<table border=\"1\" class=\"dataframe\">\n",
       "  <thead>\n",
       "    <tr style=\"text-align: right;\">\n",
       "      <th></th>\n",
       "      <th>_score</th>\n",
       "      <th>_crawldate</th>\n",
       "      <th>hashtags</th>\n",
       "      <th>text</th>\n",
       "      <th>mentions</th>\n",
       "      <th>preprocessed_text</th>\n",
       "      <th>preprocessed_hashtags</th>\n",
       "      <th>joy_ratio</th>\n",
       "      <th>anticipation_ratio</th>\n",
       "      <th>trust_ratio</th>\n",
       "      <th>sadness_ratio</th>\n",
       "      <th>disgust_ratio</th>\n",
       "      <th>fear_ratio</th>\n",
       "      <th>surprise_ratio</th>\n",
       "      <th>anger_ratio</th>\n",
       "    </tr>\n",
       "    <tr>\n",
       "      <th>tweet_id</th>\n",
       "      <th></th>\n",
       "      <th></th>\n",
       "      <th></th>\n",
       "      <th></th>\n",
       "      <th></th>\n",
       "      <th></th>\n",
       "      <th></th>\n",
       "      <th></th>\n",
       "      <th></th>\n",
       "      <th></th>\n",
       "      <th></th>\n",
       "      <th></th>\n",
       "      <th></th>\n",
       "      <th></th>\n",
       "      <th></th>\n",
       "    </tr>\n",
       "  </thead>\n",
       "  <tbody>\n",
       "    <tr>\n",
       "      <th>0x1c7f10</th>\n",
       "      <td>242</td>\n",
       "      <td>2015-05-16 10:36:47</td>\n",
       "      <td>[BlackMirror]</td>\n",
       "      <td>o m g Shut Up And Dance though #BlackMirror &lt;LH&gt;</td>\n",
       "      <td>[]</td>\n",
       "      <td>o m g Shut Up And Dance though #BlackMirror</td>\n",
       "      <td>[blackmirror]</td>\n",
       "      <td>0.258065</td>\n",
       "      <td>0.161290</td>\n",
       "      <td>0.096774</td>\n",
       "      <td>0.096774</td>\n",
       "      <td>0.161290</td>\n",
       "      <td>0.064516</td>\n",
       "      <td>0.129032</td>\n",
       "      <td>0.032258</td>\n",
       "    </tr>\n",
       "    <tr>\n",
       "      <th>0x1c7f11</th>\n",
       "      <td>915</td>\n",
       "      <td>2016-10-15 20:46:37</td>\n",
       "      <td>[twitch, Destinybeta, Destiny, Destiny2, Desti...</td>\n",
       "      <td>On #twitch &lt;LH&gt; on the #Destinybeta #Destiny #...</td>\n",
       "      <td>[]</td>\n",
       "      <td>On #twitch  on the #Destinybeta #Destiny #Dest...</td>\n",
       "      <td>[twitch, destinybeta, destiny, destiny2, desti...</td>\n",
       "      <td>0.377564</td>\n",
       "      <td>0.223077</td>\n",
       "      <td>0.143590</td>\n",
       "      <td>0.092949</td>\n",
       "      <td>0.071154</td>\n",
       "      <td>0.037821</td>\n",
       "      <td>0.025000</td>\n",
       "      <td>0.028846</td>\n",
       "    </tr>\n",
       "    <tr>\n",
       "      <th>0x1c7f14</th>\n",
       "      <td>939</td>\n",
       "      <td>2016-07-04 07:22:56</td>\n",
       "      <td>[]</td>\n",
       "      <td>A nice sunny wak this morning not many &lt;LH&gt; ar...</td>\n",
       "      <td>[]</td>\n",
       "      <td>A nice sunny wak this morning not many  aroud,...</td>\n",
       "      <td>[noTag]</td>\n",
       "      <td>0.363958</td>\n",
       "      <td>0.138407</td>\n",
       "      <td>0.133520</td>\n",
       "      <td>0.147634</td>\n",
       "      <td>0.092293</td>\n",
       "      <td>0.058833</td>\n",
       "      <td>0.034180</td>\n",
       "      <td>0.031175</td>\n",
       "    </tr>\n",
       "    <tr>\n",
       "      <th>0x1c7f15</th>\n",
       "      <td>181</td>\n",
       "      <td>2016-04-16 12:53:40</td>\n",
       "      <td>[Confession, NationalCandyCornDay, CouldEatThe...</td>\n",
       "      <td>I'm one of those people who love candy corn......</td>\n",
       "      <td>[]</td>\n",
       "      <td>I'm one of those people who love candy corn......</td>\n",
       "      <td>[confession, nationalcandycornday, couldeatthe...</td>\n",
       "      <td>0.256705</td>\n",
       "      <td>0.172414</td>\n",
       "      <td>0.107280</td>\n",
       "      <td>0.103448</td>\n",
       "      <td>0.229885</td>\n",
       "      <td>0.053640</td>\n",
       "      <td>0.053640</td>\n",
       "      <td>0.022989</td>\n",
       "    </tr>\n",
       "    <tr>\n",
       "      <th>0x1c7f16</th>\n",
       "      <td>970</td>\n",
       "      <td>2017-04-22 17:50:28</td>\n",
       "      <td>[]</td>\n",
       "      <td>@metmuseum What are these? They look like some...</td>\n",
       "      <td>[metmuseum]</td>\n",
       "      <td>@user What are these? They look like something...</td>\n",
       "      <td>[noTag]</td>\n",
       "      <td>0.363958</td>\n",
       "      <td>0.138407</td>\n",
       "      <td>0.133520</td>\n",
       "      <td>0.147634</td>\n",
       "      <td>0.092293</td>\n",
       "      <td>0.058833</td>\n",
       "      <td>0.034180</td>\n",
       "      <td>0.031175</td>\n",
       "    </tr>\n",
       "  </tbody>\n",
       "</table>\n",
       "</div>"
      ],
      "text/plain": [
       "          _score           _crawldate  \\\n",
       "tweet_id                                \n",
       "0x1c7f10     242  2015-05-16 10:36:47   \n",
       "0x1c7f11     915  2016-10-15 20:46:37   \n",
       "0x1c7f14     939  2016-07-04 07:22:56   \n",
       "0x1c7f15     181  2016-04-16 12:53:40   \n",
       "0x1c7f16     970  2017-04-22 17:50:28   \n",
       "\n",
       "                                                   hashtags  \\\n",
       "tweet_id                                                      \n",
       "0x1c7f10                                      [BlackMirror]   \n",
       "0x1c7f11  [twitch, Destinybeta, Destiny, Destiny2, Desti...   \n",
       "0x1c7f14                                                 []   \n",
       "0x1c7f15  [Confession, NationalCandyCornDay, CouldEatThe...   \n",
       "0x1c7f16                                                 []   \n",
       "\n",
       "                                                       text     mentions  \\\n",
       "tweet_id                                                                   \n",
       "0x1c7f10   o m g Shut Up And Dance though #BlackMirror <LH>           []   \n",
       "0x1c7f11  On #twitch <LH> on the #Destinybeta #Destiny #...           []   \n",
       "0x1c7f14  A nice sunny wak this morning not many <LH> ar...           []   \n",
       "0x1c7f15  I'm one of those people who love candy corn......           []   \n",
       "0x1c7f16  @metmuseum What are these? They look like some...  [metmuseum]   \n",
       "\n",
       "                                          preprocessed_text  \\\n",
       "tweet_id                                                      \n",
       "0x1c7f10       o m g Shut Up And Dance though #BlackMirror    \n",
       "0x1c7f11  On #twitch  on the #Destinybeta #Destiny #Dest...   \n",
       "0x1c7f14  A nice sunny wak this morning not many  aroud,...   \n",
       "0x1c7f15  I'm one of those people who love candy corn......   \n",
       "0x1c7f16  @user What are these? They look like something...   \n",
       "\n",
       "                                      preprocessed_hashtags  joy_ratio  \\\n",
       "tweet_id                                                                 \n",
       "0x1c7f10                                      [blackmirror]   0.258065   \n",
       "0x1c7f11  [twitch, destinybeta, destiny, destiny2, desti...   0.377564   \n",
       "0x1c7f14                                            [noTag]   0.363958   \n",
       "0x1c7f15  [confession, nationalcandycornday, couldeatthe...   0.256705   \n",
       "0x1c7f16                                            [noTag]   0.363958   \n",
       "\n",
       "          anticipation_ratio  trust_ratio  sadness_ratio  disgust_ratio  \\\n",
       "tweet_id                                                                  \n",
       "0x1c7f10            0.161290     0.096774       0.096774       0.161290   \n",
       "0x1c7f11            0.223077     0.143590       0.092949       0.071154   \n",
       "0x1c7f14            0.138407     0.133520       0.147634       0.092293   \n",
       "0x1c7f15            0.172414     0.107280       0.103448       0.229885   \n",
       "0x1c7f16            0.138407     0.133520       0.147634       0.092293   \n",
       "\n",
       "          fear_ratio  surprise_ratio  anger_ratio  \n",
       "tweet_id                                           \n",
       "0x1c7f10    0.064516        0.129032     0.032258  \n",
       "0x1c7f11    0.037821        0.025000     0.028846  \n",
       "0x1c7f14    0.058833        0.034180     0.031175  \n",
       "0x1c7f15    0.053640        0.053640     0.022989  \n",
       "0x1c7f16    0.058833        0.034180     0.031175  "
      ]
     },
     "execution_count": 56,
     "metadata": {},
     "output_type": "execute_result"
    }
   ],
   "source": [
    "train_data.head()"
   ]
  },
  {
   "cell_type": "code",
   "execution_count": 57,
   "metadata": {},
   "outputs": [],
   "source": [
    "test_data = pd.read_pickle('data/test_data.pkl')\n",
    "test_ratio = generate_ratio_dataframe(test_data, freauency_table)\n",
    "test_data = pd.concat([test_data, test_ratio], axis=1)\n",
    "test_data.to_pickle('data/test_data.pkl')"
   ]
  },
  {
   "cell_type": "code",
   "execution_count": 58,
   "metadata": {},
   "outputs": [
    {
     "data": {
      "text/html": [
       "<div>\n",
       "<style scoped>\n",
       "    .dataframe tbody tr th:only-of-type {\n",
       "        vertical-align: middle;\n",
       "    }\n",
       "\n",
       "    .dataframe tbody tr th {\n",
       "        vertical-align: top;\n",
       "    }\n",
       "\n",
       "    .dataframe thead th {\n",
       "        text-align: right;\n",
       "    }\n",
       "</style>\n",
       "<table border=\"1\" class=\"dataframe\">\n",
       "  <thead>\n",
       "    <tr style=\"text-align: right;\">\n",
       "      <th></th>\n",
       "      <th>_score</th>\n",
       "      <th>_crawldate</th>\n",
       "      <th>hashtags</th>\n",
       "      <th>text</th>\n",
       "      <th>mentions</th>\n",
       "      <th>preprocessed_text</th>\n",
       "      <th>preprocessed_hashtags</th>\n",
       "      <th>joy_ratio</th>\n",
       "      <th>anticipation_ratio</th>\n",
       "      <th>trust_ratio</th>\n",
       "      <th>sadness_ratio</th>\n",
       "      <th>disgust_ratio</th>\n",
       "      <th>fear_ratio</th>\n",
       "      <th>surprise_ratio</th>\n",
       "      <th>anger_ratio</th>\n",
       "    </tr>\n",
       "    <tr>\n",
       "      <th>tweet_id</th>\n",
       "      <th></th>\n",
       "      <th></th>\n",
       "      <th></th>\n",
       "      <th></th>\n",
       "      <th></th>\n",
       "      <th></th>\n",
       "      <th></th>\n",
       "      <th></th>\n",
       "      <th></th>\n",
       "      <th></th>\n",
       "      <th></th>\n",
       "      <th></th>\n",
       "      <th></th>\n",
       "      <th></th>\n",
       "      <th></th>\n",
       "    </tr>\n",
       "  </thead>\n",
       "  <tbody>\n",
       "    <tr>\n",
       "      <th>0x1c7f0f</th>\n",
       "      <td>62</td>\n",
       "      <td>2017-05-14 11:39:43</td>\n",
       "      <td>[]</td>\n",
       "      <td>@JZED74 While inappropriate AF, he likely wasn...</td>\n",
       "      <td>[JZED74]</td>\n",
       "      <td>@JZED74 While inappropriate AF, he likely wasn...</td>\n",
       "      <td>[noTag]</td>\n",
       "      <td>0.363958</td>\n",
       "      <td>0.138407</td>\n",
       "      <td>0.133520</td>\n",
       "      <td>0.147634</td>\n",
       "      <td>0.092293</td>\n",
       "      <td>0.058833</td>\n",
       "      <td>0.034180</td>\n",
       "      <td>0.031175</td>\n",
       "    </tr>\n",
       "    <tr>\n",
       "      <th>0x1c7f12</th>\n",
       "      <td>756</td>\n",
       "      <td>2016-02-14 15:55:45</td>\n",
       "      <td>[]</td>\n",
       "      <td>I tried to figure out why you mean so much to ...</td>\n",
       "      <td>[]</td>\n",
       "      <td>I tried to figure out why you mean so much to ...</td>\n",
       "      <td>[noTag]</td>\n",
       "      <td>0.363958</td>\n",
       "      <td>0.138407</td>\n",
       "      <td>0.133520</td>\n",
       "      <td>0.147634</td>\n",
       "      <td>0.092293</td>\n",
       "      <td>0.058833</td>\n",
       "      <td>0.034180</td>\n",
       "      <td>0.031175</td>\n",
       "    </tr>\n",
       "    <tr>\n",
       "      <th>0x1c7f13</th>\n",
       "      <td>213</td>\n",
       "      <td>2016-07-25 17:05:35</td>\n",
       "      <td>[auspol, fizza]</td>\n",
       "      <td>The only “big plan” you ever had in your life,...</td>\n",
       "      <td>[TurnbullMalcolm]</td>\n",
       "      <td>The only “big plan” you ever had in your life,...</td>\n",
       "      <td>[auspol, fizza]</td>\n",
       "      <td>0.126794</td>\n",
       "      <td>0.102871</td>\n",
       "      <td>0.110048</td>\n",
       "      <td>0.215311</td>\n",
       "      <td>0.351675</td>\n",
       "      <td>0.033493</td>\n",
       "      <td>0.033493</td>\n",
       "      <td>0.026316</td>\n",
       "    </tr>\n",
       "    <tr>\n",
       "      <th>0x1c7f17</th>\n",
       "      <td>603</td>\n",
       "      <td>2017-01-21 19:25:33</td>\n",
       "      <td>[]</td>\n",
       "      <td>Looking back on situations old &amp; new, recent o...</td>\n",
       "      <td>[]</td>\n",
       "      <td>Looking back on situations old &amp; new, recent o...</td>\n",
       "      <td>[noTag]</td>\n",
       "      <td>0.363958</td>\n",
       "      <td>0.138407</td>\n",
       "      <td>0.133520</td>\n",
       "      <td>0.147634</td>\n",
       "      <td>0.092293</td>\n",
       "      <td>0.058833</td>\n",
       "      <td>0.034180</td>\n",
       "      <td>0.031175</td>\n",
       "    </tr>\n",
       "    <tr>\n",
       "      <th>0x1c7f18</th>\n",
       "      <td>609</td>\n",
       "      <td>2017-04-25 16:36:47</td>\n",
       "      <td>[]</td>\n",
       "      <td>@jasoninthehouse Why do you insist on talking ...</td>\n",
       "      <td>[jasoninthehouse]</td>\n",
       "      <td>@jasoninthehouse Why do you insist on talking ...</td>\n",
       "      <td>[noTag]</td>\n",
       "      <td>0.363958</td>\n",
       "      <td>0.138407</td>\n",
       "      <td>0.133520</td>\n",
       "      <td>0.147634</td>\n",
       "      <td>0.092293</td>\n",
       "      <td>0.058833</td>\n",
       "      <td>0.034180</td>\n",
       "      <td>0.031175</td>\n",
       "    </tr>\n",
       "  </tbody>\n",
       "</table>\n",
       "</div>"
      ],
      "text/plain": [
       "          _score           _crawldate         hashtags  \\\n",
       "tweet_id                                                 \n",
       "0x1c7f0f      62  2017-05-14 11:39:43               []   \n",
       "0x1c7f12     756  2016-02-14 15:55:45               []   \n",
       "0x1c7f13     213  2016-07-25 17:05:35  [auspol, fizza]   \n",
       "0x1c7f17     603  2017-01-21 19:25:33               []   \n",
       "0x1c7f18     609  2017-04-25 16:36:47               []   \n",
       "\n",
       "                                                       text  \\\n",
       "tweet_id                                                      \n",
       "0x1c7f0f  @JZED74 While inappropriate AF, he likely wasn...   \n",
       "0x1c7f12  I tried to figure out why you mean so much to ...   \n",
       "0x1c7f13  The only “big plan” you ever had in your life,...   \n",
       "0x1c7f17  Looking back on situations old & new, recent o...   \n",
       "0x1c7f18  @jasoninthehouse Why do you insist on talking ...   \n",
       "\n",
       "                   mentions  \\\n",
       "tweet_id                      \n",
       "0x1c7f0f           [JZED74]   \n",
       "0x1c7f12                 []   \n",
       "0x1c7f13  [TurnbullMalcolm]   \n",
       "0x1c7f17                 []   \n",
       "0x1c7f18  [jasoninthehouse]   \n",
       "\n",
       "                                          preprocessed_text  \\\n",
       "tweet_id                                                      \n",
       "0x1c7f0f  @JZED74 While inappropriate AF, he likely wasn...   \n",
       "0x1c7f12  I tried to figure out why you mean so much to ...   \n",
       "0x1c7f13  The only “big plan” you ever had in your life,...   \n",
       "0x1c7f17  Looking back on situations old & new, recent o...   \n",
       "0x1c7f18  @jasoninthehouse Why do you insist on talking ...   \n",
       "\n",
       "         preprocessed_hashtags  joy_ratio  anticipation_ratio  trust_ratio  \\\n",
       "tweet_id                                                                     \n",
       "0x1c7f0f               [noTag]   0.363958            0.138407     0.133520   \n",
       "0x1c7f12               [noTag]   0.363958            0.138407     0.133520   \n",
       "0x1c7f13       [auspol, fizza]   0.126794            0.102871     0.110048   \n",
       "0x1c7f17               [noTag]   0.363958            0.138407     0.133520   \n",
       "0x1c7f18               [noTag]   0.363958            0.138407     0.133520   \n",
       "\n",
       "          sadness_ratio  disgust_ratio  fear_ratio  surprise_ratio  \\\n",
       "tweet_id                                                             \n",
       "0x1c7f0f       0.147634       0.092293    0.058833        0.034180   \n",
       "0x1c7f12       0.147634       0.092293    0.058833        0.034180   \n",
       "0x1c7f13       0.215311       0.351675    0.033493        0.033493   \n",
       "0x1c7f17       0.147634       0.092293    0.058833        0.034180   \n",
       "0x1c7f18       0.147634       0.092293    0.058833        0.034180   \n",
       "\n",
       "          anger_ratio  \n",
       "tweet_id               \n",
       "0x1c7f0f     0.031175  \n",
       "0x1c7f12     0.031175  \n",
       "0x1c7f13     0.026316  \n",
       "0x1c7f17     0.031175  \n",
       "0x1c7f18     0.031175  "
      ]
     },
     "execution_count": 58,
     "metadata": {},
     "output_type": "execute_result"
    }
   ],
   "source": [
    "test_data.head()"
   ]
  },
  {
   "cell_type": "code",
   "execution_count": 59,
   "metadata": {},
   "outputs": [],
   "source": [
    "assert np.all(test_data.columns == train_data.columns)"
   ]
  },
  {
   "cell_type": "markdown",
   "metadata": {},
   "source": [
    "#### Training and make submission"
   ]
  },
  {
   "cell_type": "markdown",
   "metadata": {},
   "source": [
    "I used a pre-trained BERT model trained on Twitter data from HuggingFace. And use two different method below:\n",
    "1. Use only preprocessed text to classify.\n",
    "2. Use preprocessed text and emotion ratios to classify. \n",
    "\n",
    "For the result, the second method has better performance in the begining. The f1-score increased faster than first method and the loss converged relatively smooth.\n",
    "But the f-score from validation set after training is lower than first method. May have something to do with overfitting. \n",
    "However it takes too long to trained, so I adopted the first method to make submission.\n",
    "\n",
    "ref: https://towardsdatascience.com/adding-custom-layers-on-top-of-a-hugging-face-model-f1ccdfc257bd\n"
   ]
  },
  {
   "cell_type": "markdown",
   "metadata": {},
   "source": [
    "##### Package import and hyper-parameters"
   ]
  },
  {
   "cell_type": "code",
   "execution_count": 1,
   "metadata": {},
   "outputs": [
    {
     "name": "stderr",
     "output_type": "stream",
     "text": [
      "/home/allen/.local/lib/python3.10/site-packages/tqdm/auto.py:21: TqdmWarning: IProgress not found. Please update jupyter and ipywidgets. See https://ipywidgets.readthedocs.io/en/stable/user_install.html\n",
      "  from .autonotebook import tqdm as notebook_tqdm\n"
     ]
    }
   ],
   "source": [
    "from datetime import datetime \n",
    "import os\n",
    "\n",
    "import numpy as np\n",
    "import pandas as pd\n",
    "import matplotlib.pyplot as plt\n",
    "import seaborn as sns\n",
    "import plotly.express as px\n",
    "\n",
    "import torch\n",
    "device = torch.device(\"cuda\") if torch.cuda.is_available() else torch.device(\"cpu\")\n",
    "from torch.utils.data import DataLoader\n",
    "from torch.optim import AdamW\n",
    "\n",
    "\n",
    "from tqdm.auto import tqdm"
   ]
  },
  {
   "cell_type": "code",
   "execution_count": 2,
   "metadata": {},
   "outputs": [
    {
     "name": "stderr",
     "output_type": "stream",
     "text": [
      "2023-12-31 19:02:01.322430: I tensorflow/core/platform/cpu_feature_guard.cc:182] This TensorFlow binary is optimized to use available CPU instructions in performance-critical operations.\n",
      "To enable the following instructions: SSE4.1 SSE4.2 AVX AVX2 FMA, in other operations, rebuild TensorFlow with the appropriate compiler flags.\n"
     ]
    }
   ],
   "source": [
    "from accelerate import Accelerator\n",
    "from datasets import Dataset, load_dataset\n",
    "import evaluate\n",
    "\n",
    "from transformers import AutoTokenizer\n",
    "from transformers import AutoModel, AutoConfig\n",
    "from transformers import get_scheduler\n",
    "from transformers import DataCollatorWithPadding\n",
    "from transformers.modeling_outputs import TokenClassifierOutput"
   ]
  },
  {
   "cell_type": "code",
   "execution_count": 3,
   "metadata": {},
   "outputs": [],
   "source": [
    "# data\n",
    "TRAIN_DATA_PATH = 'data/train_data.pkl'\n",
    "TRAIN_LABEL_PATH = 'data/train_labels.pkl'\n",
    "TEST_DATA_PATH = 'data/test_data.pkl'\n",
    "\n",
    "CHECKPOINTS_PATH = 'checkpoints/'\n",
    "TEXT_COL_NAME = 'preprocessed_text'\n",
    "EMOTION_NAMES = ['joy', 'anticipation', 'trust' , 'sadness' , 'disgust' , 'fear' , 'surprise', 'anger']\n",
    "\n",
    "USING_RATIO = False\n",
    "INPUT_COLUMNS = [TEXT_COL_NAME, 'label']\n",
    "if USING_RATIO:\n",
    "    INPUT_COLUMNS = INPUT_COLUMNS + [f'{emo}_ratio' for emo in EMOTION_NAMES]\n",
    "\n",
    "# constants\n",
    "MODEL_NAME = 'cardiffnlp/twitter-roberta-base-sentiment-latest'\n",
    "NUM_LABELS = 8\n",
    "CHECKPOINTS_SIZE = 500\n",
    "\n",
    "# model & training \n",
    "EPOCHS = 1\n",
    "BATCH_SIZE = 4\n",
    "LR = 1e-5\n",
    "LR_WARMUP_RATIO = 0.005\n",
    "TRAIN_SIZE = 145_0000 # 145_5563\n",
    "EVAL_SIZE = 2225\n",
    "TEST_SIZE = 3338"
   ]
  },
  {
   "cell_type": "code",
   "execution_count": 4,
   "metadata": {},
   "outputs": [],
   "source": [
    "emotion2id = {emotion: i for i, emotion in enumerate(EMOTION_NAMES)}\n",
    "id2emotion = {i: emotion for i, emotion in enumerate(EMOTION_NAMES)}"
   ]
  },
  {
   "cell_type": "markdown",
   "metadata": {},
   "source": [
    "##### Data preparation"
   ]
  },
  {
   "cell_type": "code",
   "execution_count": 5,
   "metadata": {},
   "outputs": [
    {
     "data": {
      "text/html": [
       "<div>\n",
       "<style scoped>\n",
       "    .dataframe tbody tr th:only-of-type {\n",
       "        vertical-align: middle;\n",
       "    }\n",
       "\n",
       "    .dataframe tbody tr th {\n",
       "        vertical-align: top;\n",
       "    }\n",
       "\n",
       "    .dataframe thead th {\n",
       "        text-align: right;\n",
       "    }\n",
       "</style>\n",
       "<table border=\"1\" class=\"dataframe\">\n",
       "  <thead>\n",
       "    <tr style=\"text-align: right;\">\n",
       "      <th></th>\n",
       "      <th>_score</th>\n",
       "      <th>_crawldate</th>\n",
       "      <th>hashtags</th>\n",
       "      <th>text</th>\n",
       "      <th>mentions</th>\n",
       "      <th>preprocessed_text</th>\n",
       "      <th>preprocessed_hashtags</th>\n",
       "      <th>joy_ratio</th>\n",
       "      <th>anticipation_ratio</th>\n",
       "      <th>trust_ratio</th>\n",
       "      <th>sadness_ratio</th>\n",
       "      <th>disgust_ratio</th>\n",
       "      <th>fear_ratio</th>\n",
       "      <th>surprise_ratio</th>\n",
       "      <th>anger_ratio</th>\n",
       "      <th>emotion</th>\n",
       "      <th>label</th>\n",
       "    </tr>\n",
       "    <tr>\n",
       "      <th>tweet_id</th>\n",
       "      <th></th>\n",
       "      <th></th>\n",
       "      <th></th>\n",
       "      <th></th>\n",
       "      <th></th>\n",
       "      <th></th>\n",
       "      <th></th>\n",
       "      <th></th>\n",
       "      <th></th>\n",
       "      <th></th>\n",
       "      <th></th>\n",
       "      <th></th>\n",
       "      <th></th>\n",
       "      <th></th>\n",
       "      <th></th>\n",
       "      <th></th>\n",
       "      <th></th>\n",
       "    </tr>\n",
       "  </thead>\n",
       "  <tbody>\n",
       "    <tr>\n",
       "      <th>0x1c7f10</th>\n",
       "      <td>242</td>\n",
       "      <td>2015-05-16 10:36:47</td>\n",
       "      <td>[BlackMirror]</td>\n",
       "      <td>o m g Shut Up And Dance though #BlackMirror &lt;LH&gt;</td>\n",
       "      <td>[]</td>\n",
       "      <td>o m g Shut Up And Dance though #BlackMirror</td>\n",
       "      <td>[blackmirror]</td>\n",
       "      <td>0.258065</td>\n",
       "      <td>0.161290</td>\n",
       "      <td>0.096774</td>\n",
       "      <td>0.096774</td>\n",
       "      <td>0.161290</td>\n",
       "      <td>0.064516</td>\n",
       "      <td>0.129032</td>\n",
       "      <td>0.032258</td>\n",
       "      <td>joy</td>\n",
       "      <td>0</td>\n",
       "    </tr>\n",
       "    <tr>\n",
       "      <th>0x1c7f11</th>\n",
       "      <td>915</td>\n",
       "      <td>2016-10-15 20:46:37</td>\n",
       "      <td>[twitch, Destinybeta, Destiny, Destiny2, Desti...</td>\n",
       "      <td>On #twitch &lt;LH&gt; on the #Destinybeta #Destiny #...</td>\n",
       "      <td>[]</td>\n",
       "      <td>On #twitch  on the #Destinybeta #Destiny #Dest...</td>\n",
       "      <td>[twitch, destinybeta, destiny, destiny2, desti...</td>\n",
       "      <td>0.377564</td>\n",
       "      <td>0.223077</td>\n",
       "      <td>0.143590</td>\n",
       "      <td>0.092949</td>\n",
       "      <td>0.071154</td>\n",
       "      <td>0.037821</td>\n",
       "      <td>0.025000</td>\n",
       "      <td>0.028846</td>\n",
       "      <td>anticipation</td>\n",
       "      <td>1</td>\n",
       "    </tr>\n",
       "    <tr>\n",
       "      <th>0x1c7f14</th>\n",
       "      <td>939</td>\n",
       "      <td>2016-07-04 07:22:56</td>\n",
       "      <td>[]</td>\n",
       "      <td>A nice sunny wak this morning not many &lt;LH&gt; ar...</td>\n",
       "      <td>[]</td>\n",
       "      <td>A nice sunny wak this morning not many  aroud,...</td>\n",
       "      <td>[noTag]</td>\n",
       "      <td>0.363958</td>\n",
       "      <td>0.138407</td>\n",
       "      <td>0.133520</td>\n",
       "      <td>0.147634</td>\n",
       "      <td>0.092293</td>\n",
       "      <td>0.058833</td>\n",
       "      <td>0.034180</td>\n",
       "      <td>0.031175</td>\n",
       "      <td>joy</td>\n",
       "      <td>0</td>\n",
       "    </tr>\n",
       "    <tr>\n",
       "      <th>0x1c7f15</th>\n",
       "      <td>181</td>\n",
       "      <td>2016-04-16 12:53:40</td>\n",
       "      <td>[Confession, NationalCandyCornDay, CouldEatThe...</td>\n",
       "      <td>I'm one of those people who love candy corn......</td>\n",
       "      <td>[]</td>\n",
       "      <td>I'm one of those people who love candy corn......</td>\n",
       "      <td>[confession, nationalcandycornday, couldeatthe...</td>\n",
       "      <td>0.256705</td>\n",
       "      <td>0.172414</td>\n",
       "      <td>0.107280</td>\n",
       "      <td>0.103448</td>\n",
       "      <td>0.229885</td>\n",
       "      <td>0.053640</td>\n",
       "      <td>0.053640</td>\n",
       "      <td>0.022989</td>\n",
       "      <td>joy</td>\n",
       "      <td>0</td>\n",
       "    </tr>\n",
       "    <tr>\n",
       "      <th>0x1c7f16</th>\n",
       "      <td>970</td>\n",
       "      <td>2017-04-22 17:50:28</td>\n",
       "      <td>[]</td>\n",
       "      <td>@metmuseum What are these? They look like some...</td>\n",
       "      <td>[metmuseum]</td>\n",
       "      <td>@user What are these? They look like something...</td>\n",
       "      <td>[noTag]</td>\n",
       "      <td>0.363958</td>\n",
       "      <td>0.138407</td>\n",
       "      <td>0.133520</td>\n",
       "      <td>0.147634</td>\n",
       "      <td>0.092293</td>\n",
       "      <td>0.058833</td>\n",
       "      <td>0.034180</td>\n",
       "      <td>0.031175</td>\n",
       "      <td>disgust</td>\n",
       "      <td>4</td>\n",
       "    </tr>\n",
       "  </tbody>\n",
       "</table>\n",
       "</div>"
      ],
      "text/plain": [
       "          _score           _crawldate  \\\n",
       "tweet_id                                \n",
       "0x1c7f10     242  2015-05-16 10:36:47   \n",
       "0x1c7f11     915  2016-10-15 20:46:37   \n",
       "0x1c7f14     939  2016-07-04 07:22:56   \n",
       "0x1c7f15     181  2016-04-16 12:53:40   \n",
       "0x1c7f16     970  2017-04-22 17:50:28   \n",
       "\n",
       "                                                   hashtags  \\\n",
       "tweet_id                                                      \n",
       "0x1c7f10                                      [BlackMirror]   \n",
       "0x1c7f11  [twitch, Destinybeta, Destiny, Destiny2, Desti...   \n",
       "0x1c7f14                                                 []   \n",
       "0x1c7f15  [Confession, NationalCandyCornDay, CouldEatThe...   \n",
       "0x1c7f16                                                 []   \n",
       "\n",
       "                                                       text     mentions  \\\n",
       "tweet_id                                                                   \n",
       "0x1c7f10   o m g Shut Up And Dance though #BlackMirror <LH>           []   \n",
       "0x1c7f11  On #twitch <LH> on the #Destinybeta #Destiny #...           []   \n",
       "0x1c7f14  A nice sunny wak this morning not many <LH> ar...           []   \n",
       "0x1c7f15  I'm one of those people who love candy corn......           []   \n",
       "0x1c7f16  @metmuseum What are these? They look like some...  [metmuseum]   \n",
       "\n",
       "                                          preprocessed_text  \\\n",
       "tweet_id                                                      \n",
       "0x1c7f10       o m g Shut Up And Dance though #BlackMirror    \n",
       "0x1c7f11  On #twitch  on the #Destinybeta #Destiny #Dest...   \n",
       "0x1c7f14  A nice sunny wak this morning not many  aroud,...   \n",
       "0x1c7f15  I'm one of those people who love candy corn......   \n",
       "0x1c7f16  @user What are these? They look like something...   \n",
       "\n",
       "                                      preprocessed_hashtags  joy_ratio  \\\n",
       "tweet_id                                                                 \n",
       "0x1c7f10                                      [blackmirror]   0.258065   \n",
       "0x1c7f11  [twitch, destinybeta, destiny, destiny2, desti...   0.377564   \n",
       "0x1c7f14                                            [noTag]   0.363958   \n",
       "0x1c7f15  [confession, nationalcandycornday, couldeatthe...   0.256705   \n",
       "0x1c7f16                                            [noTag]   0.363958   \n",
       "\n",
       "          anticipation_ratio  trust_ratio  sadness_ratio  disgust_ratio  \\\n",
       "tweet_id                                                                  \n",
       "0x1c7f10            0.161290     0.096774       0.096774       0.161290   \n",
       "0x1c7f11            0.223077     0.143590       0.092949       0.071154   \n",
       "0x1c7f14            0.138407     0.133520       0.147634       0.092293   \n",
       "0x1c7f15            0.172414     0.107280       0.103448       0.229885   \n",
       "0x1c7f16            0.138407     0.133520       0.147634       0.092293   \n",
       "\n",
       "          fear_ratio  surprise_ratio  anger_ratio       emotion  label  \n",
       "tweet_id                                                                \n",
       "0x1c7f10    0.064516        0.129032     0.032258           joy      0  \n",
       "0x1c7f11    0.037821        0.025000     0.028846  anticipation      1  \n",
       "0x1c7f14    0.058833        0.034180     0.031175           joy      0  \n",
       "0x1c7f15    0.053640        0.053640     0.022989           joy      0  \n",
       "0x1c7f16    0.058833        0.034180     0.031175       disgust      4  "
      ]
     },
     "execution_count": 5,
     "metadata": {},
     "output_type": "execute_result"
    }
   ],
   "source": [
    "df_train_X = pd.read_pickle(TRAIN_DATA_PATH)\n",
    "df_train_y = pd.read_pickle(TRAIN_LABEL_PATH)\n",
    "assert len(df_train_X) == len(df_train_y)\n",
    "df_train = pd.concat([df_train_X, df_train_y], axis=1)\n",
    "\n",
    "# numerical labels\n",
    "df_train['label'] = df_train['emotion'].map(lambda x: emotion2id[x])\n",
    "\n",
    "df_train.head()"
   ]
  },
  {
   "cell_type": "code",
   "execution_count": 6,
   "metadata": {},
   "outputs": [],
   "source": [
    "def tokenize_function(examples):\n",
    "    return tokenizer(examples[TEXT_COL_NAME], padding=\"max_length\", truncation=True, max_length=512)\n",
    "\n",
    "tokenizer = AutoTokenizer.from_pretrained(MODEL_NAME)\n",
    "data_collator = DataCollatorWithPadding(tokenizer=tokenizer)"
   ]
  },
  {
   "cell_type": "code",
   "execution_count": 7,
   "metadata": {},
   "outputs": [
    {
     "data": {
      "text/plain": [
       "Dataset({\n",
       "    features: ['preprocessed_text', 'label', 'tweet_id'],\n",
       "    num_rows: 1455563\n",
       "})"
      ]
     },
     "execution_count": 7,
     "metadata": {},
     "output_type": "execute_result"
    }
   ],
   "source": [
    "dataset = Dataset.from_pandas(df_train[INPUT_COLUMNS])\n",
    "dataset"
   ]
  },
  {
   "cell_type": "code",
   "execution_count": 8,
   "metadata": {},
   "outputs": [
    {
     "name": "stderr",
     "output_type": "stream",
     "text": [
      "Map: 100%|██████████| 1455563/1455563 [03:05<00:00, 7845.32 examples/s]\n",
      "Saving the dataset (8/8 shards): 100%|██████████| 1455563/1455563 [00:12<00:00, 112551.12 examples/s]\n"
     ]
    }
   ],
   "source": [
    "# tokenize the text column\n",
    "tokenized_datasets = dataset.map(tokenize_function, batched=True)\n",
    "# saved the tokenized datasets, so we don't need to tokenize again if we do not change the text column\n",
    "tokenized_datasets.save_to_disk(f'data/{MODEL_NAME}_tokenized_datasets')"
   ]
  },
  {
   "cell_type": "code",
   "execution_count": 9,
   "metadata": {},
   "outputs": [],
   "source": [
    "tokenized_datasets = Dataset.load_from_disk(f'data/{MODEL_NAME}_tokenized_datasets')"
   ]
  },
  {
   "cell_type": "code",
   "execution_count": 10,
   "metadata": {},
   "outputs": [],
   "source": [
    "tokenized_datasets = Dataset.load_from_disk(f'data/{MODEL_NAME}_tokenized_datasets')"
   ]
  },
  {
   "cell_type": "code",
   "execution_count": 11,
   "metadata": {},
   "outputs": [
    {
     "data": {
      "text/plain": [
       "Dataset({\n",
       "    features: ['labels', 'input_ids', 'attention_mask'],\n",
       "    num_rows: 1455563\n",
       "})"
      ]
     },
     "execution_count": 11,
     "metadata": {},
     "output_type": "execute_result"
    }
   ],
   "source": [
    "# process dataset features to fit the requirement of the hugging face model\n",
    "tokenized_datasets = tokenized_datasets.rename_column(\"label\", \"labels\")\n",
    "tokenized_datasets = tokenized_datasets.remove_columns([TEXT_COL_NAME, 'tweet_id'])\n",
    "tokenized_datasets.set_format(\"torch\")\n",
    "tokenized_datasets"
   ]
  },
  {
   "cell_type": "code",
   "execution_count": 12,
   "metadata": {},
   "outputs": [
    {
     "name": "stdout",
     "output_type": "stream",
     "text": [
      "training size:\t1450000\t99.618%\n",
      "eval     size:\t2225\t0.153%\n",
      "test     size:\t3338\t0.229%\n"
     ]
    }
   ],
   "source": [
    "# split the dataset\n",
    "small_train_dataset = tokenized_datasets.shuffle(seed=42).select(range(TRAIN_SIZE))\n",
    "small_eval_dataset = tokenized_datasets.shuffle(seed=42).select(range(TRAIN_SIZE, TRAIN_SIZE + EVAL_SIZE))\n",
    "test_dataset = tokenized_datasets.shuffle(seed=42).select(range(TRAIN_SIZE + EVAL_SIZE, TRAIN_SIZE + EVAL_SIZE + TEST_SIZE))\n",
    "\n",
    "# NOTE: do not shuffle the training set in dataloader again, in order to keep the same shuffle random seed\n",
    "train_dataloader = DataLoader(small_train_dataset, batch_size=BATCH_SIZE, collate_fn=data_collator)\n",
    "eval_dataloader = DataLoader(small_eval_dataset, batch_size=BATCH_SIZE, collate_fn=data_collator)\n",
    "test_dataloader = DataLoader(test_dataset, batch_size=BATCH_SIZE, collate_fn=data_collator)\n",
    "\n",
    "print(f'training size:\\t{len(small_train_dataset)}\\t{len(small_train_dataset) / 1455563 * 100 :.3f}%')\n",
    "print(f'eval     size:\\t{len(small_eval_dataset)}\\t{len(small_eval_dataset) / 1455563 * 100 :.3f}%')\n",
    "print(f'test     size:\\t{len(test_dataset)}\\t{len(test_dataset) / 1455563 * 100 :.3f}%')"
   ]
  },
  {
   "cell_type": "markdown",
   "metadata": {},
   "source": [
    "##### Model"
   ]
  },
  {
   "cell_type": "code",
   "execution_count": 13,
   "metadata": {},
   "outputs": [],
   "source": [
    "# Build custom model to *combine the external features* into the hugging face model\n",
    "# ref: https://towardsdatascience.com/adding-custom-layers-on-top-of-a-hugging-face-model-f1ccdfc257bd\n",
    "class CustomModel(torch.nn.Module):\n",
    "  def __init__(self, checkpoint, num_labels): \n",
    "    super(CustomModel,self).__init__() \n",
    "    self.num_labels = num_labels \n",
    "\n",
    "    # Load Model with given checkpoint and extract its body\n",
    "    self.model = AutoModel.from_pretrained(checkpoint,config=AutoConfig.from_pretrained(checkpoint, output_attentions=True,output_hidden_states=True))\n",
    "    self.seq_dropout = torch.nn.Dropout(0.3) \n",
    "    self.classifier = torch.nn.Linear(768, num_labels)\n",
    "    if USING_RATIO:\n",
    "      self.classifier = torch.nn.Linear(768 + NUM_LABELS, num_labels)\n",
    "\n",
    "  def forward(self, \n",
    "    input_ids=None, attention_mask=None, labels=None,\n",
    "    joy_ratio=None, anticipation_ratio=None, trust_ratio=None, sadness_ratio=None, disgust_ratio=None, fear_ratio=None, surprise_ratio=None, anger_ratio=None\n",
    "  ):\n",
    "    # Extract outputs from the body\n",
    "    # pretrained_outputs[0]=last hidden state\n",
    "    pretrained_outputs = self.model(input_ids=input_ids, attention_mask=attention_mask)\n",
    "    seq_outputs = self.seq_dropout(pretrained_outputs[0])[:, 0, :].view(-1, 768) # seq shape torch.Size([16, 768])\n",
    "\n",
    "    # Add emotion ratios\n",
    "    if USING_RATIO:\n",
    "        emo_ratio_outputs = torch.stack([joy_ratio, anticipation_ratio, trust_ratio, sadness_ratio, disgust_ratio, fear_ratio, surprise_ratio, anger_ratio], dim=1)\n",
    "        features_outputs = self.features_dropout(emo_ratio_outputs) # emo_ratio shape torch.Size([16, 8])\n",
    "\n",
    "    # Concatenate\n",
    "    outputs = seq_outputs\n",
    "    if USING_RATIO:\n",
    "       outputs = torch.cat((seq_outputs, features_outputs), dim=1)\n",
    "    logits = self.classifier(outputs) # calculate losses\n",
    "    \n",
    "    loss = None\n",
    "    if labels is not None:\n",
    "      loss_fct = torch.nn.CrossEntropyLoss()\n",
    "      loss = loss_fct(logits.view(-1, self.num_labels), labels.view(-1))\n",
    "    \n",
    "    return TokenClassifierOutput(loss=loss, logits=logits, hidden_states=pretrained_outputs.hidden_states ,attentions=pretrained_outputs.attentions)\n",
    "  \n",
    "  def save_checkpoint(self, steps):\n",
    "    torch.save(self.state_dict(), f'{CHECKPOINTS_PATH}{steps}.pt')\n",
    "  "
   ]
  },
  {
   "cell_type": "code",
   "execution_count": 14,
   "metadata": {},
   "outputs": [
    {
     "name": "stdout",
     "output_type": "stream",
     "text": [
      "Instantiate new model\n"
     ]
    },
    {
     "data": {
      "text/plain": [
       "CustomModel(\n",
       "  (model): RobertaModel(\n",
       "    (embeddings): RobertaEmbeddings(\n",
       "      (word_embeddings): Embedding(50265, 768, padding_idx=1)\n",
       "      (position_embeddings): Embedding(514, 768, padding_idx=1)\n",
       "      (token_type_embeddings): Embedding(1, 768)\n",
       "      (LayerNorm): LayerNorm((768,), eps=1e-05, elementwise_affine=True)\n",
       "      (dropout): Dropout(p=0.1, inplace=False)\n",
       "    )\n",
       "    (encoder): RobertaEncoder(\n",
       "      (layer): ModuleList(\n",
       "        (0-11): 12 x RobertaLayer(\n",
       "          (attention): RobertaAttention(\n",
       "            (self): RobertaSelfAttention(\n",
       "              (query): Linear(in_features=768, out_features=768, bias=True)\n",
       "              (key): Linear(in_features=768, out_features=768, bias=True)\n",
       "              (value): Linear(in_features=768, out_features=768, bias=True)\n",
       "              (dropout): Dropout(p=0.1, inplace=False)\n",
       "            )\n",
       "            (output): RobertaSelfOutput(\n",
       "              (dense): Linear(in_features=768, out_features=768, bias=True)\n",
       "              (LayerNorm): LayerNorm((768,), eps=1e-05, elementwise_affine=True)\n",
       "              (dropout): Dropout(p=0.1, inplace=False)\n",
       "            )\n",
       "          )\n",
       "          (intermediate): RobertaIntermediate(\n",
       "            (dense): Linear(in_features=768, out_features=3072, bias=True)\n",
       "            (intermediate_act_fn): GELUActivation()\n",
       "          )\n",
       "          (output): RobertaOutput(\n",
       "            (dense): Linear(in_features=3072, out_features=768, bias=True)\n",
       "            (LayerNorm): LayerNorm((768,), eps=1e-05, elementwise_affine=True)\n",
       "            (dropout): Dropout(p=0.1, inplace=False)\n",
       "          )\n",
       "        )\n",
       "      )\n",
       "    )\n",
       "    (pooler): RobertaPooler(\n",
       "      (dense): Linear(in_features=768, out_features=768, bias=True)\n",
       "      (activation): Tanh()\n",
       "    )\n",
       "  )\n",
       "  (seq_dropout): Dropout(p=0.3, inplace=False)\n",
       "  (classifier): Linear(in_features=768, out_features=8, bias=True)\n",
       ")"
      ]
     },
     "execution_count": 14,
     "metadata": {},
     "output_type": "execute_result"
    }
   ],
   "source": [
    "if os.path.isfile(f'model/{MODEL_NAME}-custom-{TRAIN_SIZE}') and input('Use pre-trained model? (y/n)') == 'y':\n",
    "  model = torch.load(f'model/{MODEL_NAME}-custom-{TRAIN_SIZE}')\n",
    "  print('Using pre-trained model')\n",
    "else:\n",
    "  model = CustomModel(MODEL_NAME, NUM_LABELS)\n",
    "  print('Instantiate new model')\n",
    "model.to(device)"
   ]
  },
  {
   "cell_type": "code",
   "execution_count": 15,
   "metadata": {},
   "outputs": [],
   "source": [
    "optimizer = AdamW(model.parameters(), lr=LR, weight_decay=1e-2)\n",
    "\n",
    "# linear learning rate scheduler with warmup\n",
    "num_training_steps = EPOCHS * len(train_dataloader)\n",
    "lr_scheduler = get_scheduler(\n",
    "    name=\"linear\", optimizer=optimizer, num_warmup_steps=int(num_training_steps*LR_WARMUP_RATIO), num_training_steps=num_training_steps\n",
    ")"
   ]
  },
  {
   "cell_type": "code",
   "execution_count": 16,
   "metadata": {},
   "outputs": [],
   "source": [
    "f1_metric = evaluate.load(\"f1\")\n",
    "acu_metric = evaluate.load(\"accuracy\")\n",
    "\n",
    "def compute_metrics():\n",
    "    f1_macro = f1_metric.compute(average='macro')['f1']\n",
    "    acu = acu_metric.compute()['accuracy']\n",
    "    return {'f1_macro': f1_macro, 'acu': acu}"
   ]
  },
  {
   "cell_type": "code",
   "execution_count": 17,
   "metadata": {},
   "outputs": [],
   "source": [
    "# hugging face accelerator\n",
    "accelerator = Accelerator()\n",
    "\n",
    "device = accelerator.device\n",
    "model.to(device)\n",
    "\n",
    "model, optimizer, train_dataloader, lr_scheduler, eval_dataloader = accelerator.prepare(\n",
    "    model, optimizer, train_dataloader, lr_scheduler, eval_dataloader\n",
    ")"
   ]
  },
  {
   "cell_type": "markdown",
   "metadata": {},
   "source": [
    "##### Training"
   ]
  },
  {
   "cell_type": "code",
   "execution_count": null,
   "metadata": {},
   "outputs": [],
   "source": [
    "progress_bar_train = tqdm(range(num_training_steps))\n",
    "progress_bar_eval = tqdm(range(int(num_training_steps / CHECKPOINTS_SIZE) * len(eval_dataloader)))\n",
    "\n",
    "best_f1 = 0\n",
    "early_stop_cnt = 0\n",
    "steps = 0\n",
    "cumulative_loss = 0\n",
    "for epoch in range(EPOCHS):\n",
    "  model.train()\n",
    "  for batch in train_dataloader:\n",
    "      optimizer.zero_grad()\n",
    "      batch = {k: v for k, v in batch.items()}  # accelerator\n",
    "      outputs = model(**batch)\n",
    "      loss = outputs.loss\n",
    "      accelerator.backward(loss)  # accelerator\n",
    "      \n",
    "      optimizer.step()\n",
    "      lr_scheduler.step()\n",
    "      progress_bar_train.update(1)\n",
    "\n",
    "      cumulative_loss += loss.item()\n",
    "      steps += 1\n",
    "\n",
    "      if steps % CHECKPOINTS_SIZE == 0:\n",
    "        print(f'step {steps} training loss: {cumulative_loss / CHECKPOINTS_SIZE}')\n",
    "        cumulative_loss = 0\n",
    "        model.save_checkpoint(steps)\n",
    "\n",
    "        model.eval()\n",
    "        for batch in eval_dataloader:\n",
    "          batch = {k: v for k, v in batch.items()}  # accelerator\n",
    "          with torch.no_grad():\n",
    "              outputs = model(**batch)\n",
    "\n",
    "          logits = outputs.logits\n",
    "          predictions = torch.argmax(logits, dim=-1)\n",
    "          f1_metric.add_batch(predictions=predictions, references=batch[\"labels\"])\n",
    "          acu_metric.add_batch(predictions=predictions, references=batch[\"labels\"])\n",
    "          progress_bar_eval.update(1)\n",
    "          \n",
    "        metrics = compute_metrics()\n",
    "        print(metrics)\n",
    "\n",
    "        # early stop when f1 score drop significantly\n",
    "        if metrics['f1_macro'] < (best_f1 - 0.05):\n",
    "          early_stop_cnt += 1\n",
    "          print(f'early stop cnt = {early_stop_cnt}')\n",
    "          if early_stop_cnt >= 3:\n",
    "            print('Early stop')\n",
    "            break\n",
    "\n",
    "        best_f1 = max(best_f1, metrics['f1_macro'])\n",
    "        model.train()\n",
    "# save model\n",
    "saved_path = f'model/{datetime.now().strftime(\"%Y%m%d-%H%M%S\")}'\n",
    "torch.save(model, saved_path)\n",
    "print(f'Saved model to {saved_path}')"
   ]
  },
  {
   "cell_type": "markdown",
   "metadata": {},
   "source": [
    "##### Evaluate"
   ]
  },
  {
   "cell_type": "code",
   "execution_count": null,
   "metadata": {},
   "outputs": [],
   "source": [
    "f1_metric = evaluate.load(\"f1\")\n",
    "acu_metric = evaluate.load(\"accuracy\")\n",
    "\n",
    "progress_bar_test = tqdm(range(len(test_dataloader)))\n",
    "\n",
    "model.eval()\n",
    "for batch in test_dataloader:\n",
    "    batch = {k: v.to(device) for k, v in batch.items()}\n",
    "    with torch.no_grad():\n",
    "        outputs = model(**batch)\n",
    "\n",
    "    logits = outputs.logits\n",
    "    predictions = torch.argmax(logits, dim=-1)\n",
    "    f1_metric.add_batch(predictions=predictions, references=batch[\"labels\"])\n",
    "    acu_metric.add_batch(predictions=predictions, references=batch[\"labels\"])\n",
    "    progress_bar_test.update(1)\n",
    "\n",
    "print(compute_metrics())"
   ]
  },
  {
   "cell_type": "markdown",
   "metadata": {},
   "source": [
    "##### Make submission"
   ]
  },
  {
   "cell_type": "code",
   "execution_count": 20,
   "metadata": {},
   "outputs": [],
   "source": [
    "model = CustomModel(MODEL_NAME, NUM_LABELS).to(device)\n",
    "# model.load_state_dict(torch.load(f'{CHECKPOINTS_PATH}{202500}.pt'))\n",
    "model = torch.load(f'model/20231222-083106')"
   ]
  },
  {
   "cell_type": "code",
   "execution_count": 26,
   "metadata": {},
   "outputs": [],
   "source": [
    "TEST_BATCH_SIZE = 16\n",
    "\n",
    "TEST_INPUT_COLUMNS = INPUT_COLUMNS.copy()\n",
    "if 'label' in TEST_INPUT_COLUMNS:\n",
    "  TEST_INPUT_COLUMNS.remove('label')"
   ]
  },
  {
   "cell_type": "code",
   "execution_count": 27,
   "metadata": {},
   "outputs": [
    {
     "data": {
      "text/html": [
       "<div>\n",
       "<style scoped>\n",
       "    .dataframe tbody tr th:only-of-type {\n",
       "        vertical-align: middle;\n",
       "    }\n",
       "\n",
       "    .dataframe tbody tr th {\n",
       "        vertical-align: top;\n",
       "    }\n",
       "\n",
       "    .dataframe thead th {\n",
       "        text-align: right;\n",
       "    }\n",
       "</style>\n",
       "<table border=\"1\" class=\"dataframe\">\n",
       "  <thead>\n",
       "    <tr style=\"text-align: right;\">\n",
       "      <th></th>\n",
       "      <th>preprocessed_text</th>\n",
       "    </tr>\n",
       "    <tr>\n",
       "      <th>tweet_id</th>\n",
       "      <th></th>\n",
       "    </tr>\n",
       "  </thead>\n",
       "  <tbody>\n",
       "    <tr>\n",
       "      <th>0x201213</th>\n",
       "      <td>Legit need a sugar daddy to pay of my overdraft</td>\n",
       "    </tr>\n",
       "    <tr>\n",
       "      <th>0x224433</th>\n",
       "      <td>Just witnessed a major change in a man's life ...</td>\n",
       "    </tr>\n",
       "    <tr>\n",
       "      <th>0x38ed03</th>\n",
       "      <td>@WhitlockJason he just asked Chris Cuomo is he...</td>\n",
       "    </tr>\n",
       "    <tr>\n",
       "      <th>0x20f4e5</th>\n",
       "      <td>Seriously debating whether or not to choose a ...</td>\n",
       "    </tr>\n",
       "    <tr>\n",
       "      <th>0x1c8c06</th>\n",
       "      <td>Why can't their be a clear signal from a women...</td>\n",
       "    </tr>\n",
       "  </tbody>\n",
       "</table>\n",
       "</div>"
      ],
      "text/plain": [
       "                                          preprocessed_text\n",
       "tweet_id                                                   \n",
       "0x201213   Legit need a sugar daddy to pay of my overdraft \n",
       "0x224433  Just witnessed a major change in a man's life ...\n",
       "0x38ed03  @WhitlockJason he just asked Chris Cuomo is he...\n",
       "0x20f4e5  Seriously debating whether or not to choose a ...\n",
       "0x1c8c06  Why can't their be a clear signal from a women..."
      ]
     },
     "execution_count": 27,
     "metadata": {},
     "output_type": "execute_result"
    }
   ],
   "source": [
    "df_test = pd.read_pickle(TEST_DATA_PATH)\n",
    "df_test = df_test[TEST_INPUT_COLUMNS]\n",
    "df_test.sample(5)"
   ]
  },
  {
   "cell_type": "code",
   "execution_count": null,
   "metadata": {},
   "outputs": [],
   "source": [
    "test_dataset = Dataset.from_pandas(df_test[TEST_INPUT_COLUMNS])\n",
    "test_dataset = test_dataset.map(tokenize_function, batched=True)\n",
    "test_dataset = test_dataset.remove_columns([TEXT_COL_NAME, 'tweet_id'])\n",
    "test_dataset.set_format(type='torch')\n",
    "test_dataset"
   ]
  },
  {
   "cell_type": "code",
   "execution_count": 29,
   "metadata": {},
   "outputs": [],
   "source": [
    "test_dataloader = DataLoader(test_dataset, batch_size=TEST_BATCH_SIZE, collate_fn=data_collator)"
   ]
  },
  {
   "cell_type": "code",
   "execution_count": null,
   "metadata": {},
   "outputs": [],
   "source": [
    "df_result = pd.DataFrame({'id': df_test.index})\n",
    "df_result['label'] = np.zeros(len(df_result)) - 1\n",
    "gpu_tensor = torch.tensor(df_result['label'].values, dtype=torch.long, device=device)\n",
    "\n",
    "progress_bar_test = tqdm(range(len(test_dataloader)))\n",
    "\n",
    "idx = 0\n",
    "model.eval()\n",
    "for batch in test_dataloader:\n",
    "    batch = {k: v.to(device) for k, v in batch.items()}\n",
    "    with torch.no_grad():\n",
    "        outputs = model(**batch)\n",
    "\n",
    "    logits = outputs.logits\n",
    "    predictions = torch.argmax(logits, dim=-1)\n",
    "\n",
    "    gpu_tensor[idx:idx+len(predictions)] = predictions\n",
    "    idx += len(predictions)\n",
    "    progress_bar_test.update(1)\n",
    "\n",
    "df_result['label'] = gpu_tensor.cpu().numpy()\n",
    "\n",
    "# convert label to emotion\n",
    "df_result['emotion'] = df_result['label'].map(lambda x: id2emotion[x])\n",
    "\n",
    "df_result.head()"
   ]
  },
  {
   "cell_type": "code",
   "execution_count": null,
   "metadata": {},
   "outputs": [],
   "source": [
    "saved_path = f'submission/{MODEL_NAME}-custom-{datetime.now().strftime(\"%Y%m%d-%H%M%S\")}.csv'\n",
    "df_result[['id', 'emotion']].to_csv(saved_path, index=False)\n",
    "print(saved_path)"
   ]
  }
 ],
 "metadata": {
  "kernelspec": {
   "display_name": "Python 3 (ipykernel)",
   "language": "python",
   "name": "python3"
  },
  "language_info": {
   "codemirror_mode": {
    "name": "ipython",
    "version": 3
   },
   "file_extension": ".py",
   "mimetype": "text/x-python",
   "name": "python",
   "nbconvert_exporter": "python",
   "pygments_lexer": "ipython3",
   "version": "3.10.13"
  },
  "varInspector": {
   "cols": {
    "lenName": 16,
    "lenType": 16,
    "lenVar": 40
   },
   "kernels_config": {
    "python": {
     "delete_cmd_postfix": "",
     "delete_cmd_prefix": "del ",
     "library": "var_list.py",
     "varRefreshCmd": "print(var_dic_list())"
    },
    "r": {
     "delete_cmd_postfix": ") ",
     "delete_cmd_prefix": "rm(",
     "library": "var_list.r",
     "varRefreshCmd": "cat(var_dic_list()) "
    }
   },
   "types_to_exclude": [
    "module",
    "function",
    "builtin_function_or_method",
    "instance",
    "_Feature"
   ],
   "window_display": false
  }
 },
 "nbformat": 4,
 "nbformat_minor": 2
}
